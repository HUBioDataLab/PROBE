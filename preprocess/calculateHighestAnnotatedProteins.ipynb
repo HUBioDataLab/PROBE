{
 "cells": [
  {
   "cell_type": "code",
   "execution_count": 4,
   "metadata": {},
   "outputs": [],
   "source": [
    "from goatools.base import download_ncbi_associations\n",
    "from goatools.associations import read_ncbi_gene2go\n",
    "import sys\n",
    "from goatools.associations import read_gaf\n",
    "from goatools.base import dnld_gaf\n",
    "\n",
    "#gene2go = download_ncbi_associations()"
   ]
  },
  {
   "cell_type": "code",
   "execution_count": 2,
   "metadata": {
    "scrolled": true
   },
   "outputs": [],
   "source": [
    "#fin_gaf = dnld_gaf('goa_human')"
   ]
  },
  {
   "cell_type": "code",
   "execution_count": 3,
   "metadata": {},
   "outputs": [
    {
     "name": "stdout",
     "output_type": "stream",
     "text": [
      "HMS:0:00:07.488439 482,898 annotations READ: /media/DATA/serbulent/Code/Thesis/ReviewPaper/preprocess/goa_human.gaf \n",
      "17224 IDs in loaded association branch, MF\n"
     ]
    }
   ],
   "source": [
    "geneid2gos_human = read_gaf(fin_gaf,namespace=\"MF\")"
   ]
  },
  {
   "cell_type": "code",
   "execution_count": 5,
   "metadata": {},
   "outputs": [],
   "source": [
    "fin_gaf = \"/media/DATA/serbulent/Code/Thesis/ReviewPaper/preprocess/goa_human.gaf\""
   ]
  },
  {
   "cell_type": "code",
   "execution_count": 6,
   "metadata": {},
   "outputs": [],
   "source": [
    "def calculate_gene_numbers(annotationType):\n",
    "    #geneid2gos_human = read_ncbi_gene2go(gene2go, taxids=[9606],namespace=annotationType, ev_exclude={'IEA'})\n",
    "    geneid2gos_human = read_gaf(fin_gaf,namespace=annotationType, ev_exclude={'IEA'})\n",
    "    goNumber_pcoding_genes = {}\n",
    "    for uniprot_accession_id in geneid2gos_human.keys():\n",
    "        goNumber_pcoding_genes[uniprot_accession_id] = len(geneid2gos_human[uniprot_accession_id])\n",
    "    print(\"Number of Protein Coding genes for \" + annotationType  +\" is \" + str(len(goNumber_pcoding_genes)))\n",
    "    sorted_proteins = sorted(goNumber_pcoding_genes.items(), key = lambda kv: (kv[1],kv[0]), reverse = True)\n",
    "    highestAnnotatedProteins = []\n",
    "    for protein in sorted_proteins[0:500]:\n",
    "        highestAnnotatedProteins.append(protein[0])\n",
    "    return highestAnnotatedProteins"
   ]
  },
  {
   "cell_type": "code",
   "execution_count": 7,
   "metadata": {},
   "outputs": [
    {
     "name": "stdout",
     "output_type": "stream",
     "text": [
      "HMS:0:00:07.306367 482,898 annotations READ: /media/DATA/serbulent/Code/Thesis/ReviewPaper/preprocess/goa_human.gaf \n",
      "15493 IDs in loaded association branch, MF\n",
      "Number of Protein Coding genes for MF is 15493\n"
     ]
    }
   ],
   "source": [
    "highestAnnotatedProteinsMF = calculate_gene_numbers(\"MF\")\n",
    "#filename = \"uniprot_accession_ids_for_highestAnnotatedProteins_500_MF.tsv\"\n",
    "filename = \"500_tmp.tsv\"\n",
    "with open(filename, \"w\") as f:\n",
    "    for prot in highestAnnotatedProteinsMF:\n",
    "        print(prot, file=f)"
   ]
  },
  {
   "cell_type": "code",
   "execution_count": 60,
   "metadata": {},
   "outputs": [
    {
     "name": "stdout",
     "output_type": "stream",
     "text": [
      "HMS:0:00:13.731799 482,897 annotations READ: /media/DATA/serbulent/Code/Thesis/ReviewPaper/preprocess/goa_human.gaf \n",
      "15197 IDs in loaded association branch, BP\n",
      "Number of Protein Coding genes for BP is 15197\n"
     ]
    }
   ],
   "source": [
    "highestAnnotatedProteinsBP = calculate_gene_numbers(\"BP\")\n",
    "with open(\"uniprot_accession_ids_for_highestAnnotatedProteins_200_BP.tsv\", \"w\") as f:\n",
    "    for prot in highestAnnotatedProteinsBP:\n",
    "        print(prot, file=f)"
   ]
  },
  {
   "cell_type": "code",
   "execution_count": 6,
   "metadata": {},
   "outputs": [
    {
     "name": "stdout",
     "output_type": "stream",
     "text": [
      "HMS:0:00:07.311679 482,898 annotations READ: /media/DATA/serbulent/Code/Thesis/ReviewPaper/preprocess/goa_human.gaf \n",
      "16254 IDs in loaded association branch, CC\n",
      "Number of Protein Coding genes for CC is 16254\n"
     ]
    }
   ],
   "source": [
    "highestAnnotatedProteinsCC = calculate_gene_numbers(\"CC\")\n",
    "with open(\"uniprot_accession_ids_for_highestAnnotatedProteins_200_CC.tsv\", \"w\") as f:\n",
    "    for prot in highestAnnotatedProteinsCC:\n",
    "        print(prot, file=f)"
   ]
  }
 ],
 "metadata": {
  "kernelspec": {
   "display_name": "Python 3",
   "language": "python",
   "name": "python3"
  },
  "language_info": {
   "codemirror_mode": {
    "name": "ipython",
    "version": 3
   },
   "file_extension": ".py",
   "mimetype": "text/x-python",
   "name": "python",
   "nbconvert_exporter": "python",
   "pygments_lexer": "ipython3",
   "version": "3.7.3"
  }
 },
 "nbformat": 4,
 "nbformat_minor": 2
}
