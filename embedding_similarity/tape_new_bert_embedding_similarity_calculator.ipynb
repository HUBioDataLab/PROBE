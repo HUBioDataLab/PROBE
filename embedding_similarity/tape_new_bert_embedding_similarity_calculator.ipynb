{
 "cells": [
  {
   "cell_type": "code",
   "execution_count": 2,
   "metadata": {},
   "outputs": [],
   "source": [
    "import pandas as pd\n",
    "import numpy as np\n",
    "import gzip\n",
    "import itertools\n",
    "import multiprocessing\n",
    "import csv\n",
    "import pickle\n",
    "import random\n",
    "from sklearn.metrics.pairwise import cosine_similarity as cosine\n",
    "from sklearn.metrics import mean_squared_error as mse\n",
    "from tqdm import tqdm, tqdm_notebook\n",
    "from multiprocessing import Manager, Pool\n",
    "from scipy.spatial.distance import cdist\n",
    "from numpy.linalg import norm\n",
    "from scipy.stats import spearmanr, pearsonr\n",
    "from functools import partial"
   ]
  },
  {
   "cell_type": "code",
   "execution_count": 2,
   "metadata": {},
   "outputs": [],
   "source": [
    "# UNIPROT data for mapping between UNIPROT accession numbers and UNIPROT entry names\n",
    "uniprot_metadata_directory = \"/media/DATA/serbulent/DATA/Thesis/ReviewPaper/Uniprot/\"\n",
    "uniprot_metadata_file_path = uniprot_metadata_directory + \"uniprot_human_all.tab\"\n",
    "uniprot_vars = ['Entry','Entry name','Status','Protein names','Gene names','Organism','Length','Annotation' ]\n",
    "uniprot_df = pd.read_csv(uniprot_metadata_file_path, sep='\\t')"
   ]
  },
  {
   "cell_type": "code",
   "execution_count": 3,
   "metadata": {},
   "outputs": [],
   "source": [
    "tape_bert_file_name = \"/media/DATA/serbulent/DATA/Thesis/ReviewPaper/results/tape_new_bert/tape_new_transformer.npz\"\n",
    "tape_bert_file = np.load(tape_bert_file_name, allow_pickle=True)"
   ]
  },
  {
   "cell_type": "code",
   "execution_count": 4,
   "metadata": {
    "scrolled": true
   },
   "outputs": [
    {
     "data": {
      "application/vnd.jupyter.widget-view+json": {
       "model_id": "37431f8348964195b6f99987daf4ab84",
       "version_major": 2,
       "version_minor": 0
      },
      "text/plain": [
       "HBox(children=(IntProgress(value=0, max=20007), HTML(value='')))"
      ]
     },
     "metadata": {},
     "output_type": "display_data"
    },
    {
     "name": "stdout",
     "output_type": "stream",
     "text": [
      "\n"
     ]
    }
   ],
   "source": [
    "transformer_dataframe_avg = pd.DataFrame(columns = ['Entry', 'Vector'])\n",
    "transformer_dataframe_pool = pd.DataFrame(columns = ['Entry', 'Vector'])\n",
    "for prot_id in tqdm_notebook(tape_bert_file , total=len(tape_bert_file)):\n",
    "    protein_entry = prot_id.split('|')[1]\n",
    "    tmp=tape_bert_file[prot_id].tolist()\n",
    "    transformer_dataframe_avg = transformer_dataframe_avg.append({'Entry': protein_entry, 'Vector':tmp['avg']},ignore_index=True)\n",
    "    transformer_dataframe_pool = transformer_dataframe_pool.append({'Entry': protein_entry, 'Vector':tmp['pooled']},ignore_index=True)"
   ]
  },
  {
   "cell_type": "code",
   "execution_count": 34,
   "metadata": {},
   "outputs": [],
   "source": [
    "protein_names = transformer_dataframe_avg['Entry'].tolist()"
   ]
  },
  {
   "cell_type": "code",
   "execution_count": 3,
   "metadata": {},
   "outputs": [
    {
     "ename": "NameError",
     "evalue": "name 'transformer_dataframe_pool' is not defined",
     "output_type": "error",
     "traceback": [
      "\u001b[0;31m---------------------------------------------------------------------------\u001b[0m",
      "\u001b[0;31mNameError\u001b[0m                                 Traceback (most recent call last)",
      "\u001b[0;32m<ipython-input-3-35a1f53d28c7>\u001b[0m in \u001b[0;36m<module>\u001b[0;34m\u001b[0m\n\u001b[0;32m----> 1\u001b[0;31m \u001b[0mtransformer_dataframe_pool\u001b[0m\u001b[0;34m.\u001b[0m\u001b[0mto_pickle\u001b[0m\u001b[0;34m(\u001b[0m\u001b[0;34m\"/media/DATA/serbulent/DATA/Thesis/ReviewPaper/results/embedding_dataframes/transformer_dataframe_pool.pkl\"\u001b[0m\u001b[0;34m)\u001b[0m\u001b[0;34m\u001b[0m\u001b[0;34m\u001b[0m\u001b[0m\n\u001b[0m\u001b[1;32m      2\u001b[0m \u001b[0mtransformer_dataframe_avg\u001b[0m\u001b[0;34m.\u001b[0m\u001b[0mto_pickle\u001b[0m\u001b[0;34m(\u001b[0m\u001b[0;34m\"/media/DATA/serbulent/DATA/Thesis/ReviewPaper/results/embedding_dataframes/transformer_dataframe_avg.pkl\"\u001b[0m\u001b[0;34m)\u001b[0m\u001b[0;34m\u001b[0m\u001b[0;34m\u001b[0m\u001b[0m\n",
      "\u001b[0;31mNameError\u001b[0m: name 'transformer_dataframe_pool' is not defined"
     ]
    }
   ],
   "source": [
    "transformer_dataframe_pool.to_pickle(\"/media/DATA/serbulent/DATA/Thesis/ReviewPaper/results/embedding_dataframes/transformer_dataframe_pool.pkl\")\n",
    "transformer_dataframe_avg.to_pickle(\"/media/DATA/serbulent/DATA/Thesis/ReviewPaper/results/embedding_dataframes/transformer_dataframe_avg.pkl\")"
   ]
  },
  {
   "cell_type": "code",
   "execution_count": 4,
   "metadata": {},
   "outputs": [],
   "source": [
    "transformer_dataframe_pool = pd.read_pickle(\"/media/DATA/serbulent/DATA/Thesis/ReviewPaper/results/embedding_dataframes/transformer_dataframe_pool.pkl\")\n",
    "transformer_dataframe_avg = pd.read_pickle(\"/media/DATA/serbulent/DATA/Thesis/ReviewPaper/results/embedding_dataframes/transformer_dataframe_avg.pkl\")"
   ]
  },
  {
   "cell_type": "code",
   "execution_count": 5,
   "metadata": {},
   "outputs": [],
   "source": [
    "transformer_dataframe_pool.to_csv(\"/media/DATA/serbulent/DATA/Thesis/ReviewPaper/results/embedding_dataframes/transformer_dataframe_pool.csv\")"
   ]
  },
  {
   "cell_type": "code",
   "execution_count": 44,
   "metadata": {},
   "outputs": [],
   "source": [
    "transformer_dataframe_avg.to_csv(\"/media/DATA/serbulent/DATA/Thesis/ReviewPaper/results/embedding_dataframes/transformer_dataframe_avg.csv\")"
   ]
  },
  {
   "cell_type": "code",
   "execution_count": 40,
   "metadata": {},
   "outputs": [],
   "source": []
  },
  {
   "cell_type": "code",
   "execution_count": 43,
   "metadata": {},
   "outputs": [
    {
     "data": {
      "text/html": [
       "<div>\n",
       "<style scoped>\n",
       "    .dataframe tbody tr th:only-of-type {\n",
       "        vertical-align: middle;\n",
       "    }\n",
       "\n",
       "    .dataframe tbody tr th {\n",
       "        vertical-align: top;\n",
       "    }\n",
       "\n",
       "    .dataframe thead th {\n",
       "        text-align: right;\n",
       "    }\n",
       "</style>\n",
       "<table border=\"1\" class=\"dataframe\">\n",
       "  <thead>\n",
       "    <tr style=\"text-align: right;\">\n",
       "      <th></th>\n",
       "      <th>Entry</th>\n",
       "      <th>Vector</th>\n",
       "    </tr>\n",
       "  </thead>\n",
       "  <tbody>\n",
       "    <tr>\n",
       "      <th>0</th>\n",
       "      <td>P18433</td>\n",
       "      <td>[0.060395252, -1.1459734, -0.101510145, 0.1245...</td>\n",
       "    </tr>\n",
       "    <tr>\n",
       "      <th>1</th>\n",
       "      <td>O75335</td>\n",
       "      <td>[0.32916632, -0.9245654, -0.005039262, -0.0488...</td>\n",
       "    </tr>\n",
       "    <tr>\n",
       "      <th>2</th>\n",
       "      <td>Q8IYG6</td>\n",
       "      <td>[0.52817136, -0.3996036, 0.55867016, -0.369063...</td>\n",
       "    </tr>\n",
       "    <tr>\n",
       "      <th>3</th>\n",
       "      <td>Q6UXU0</td>\n",
       "      <td>[0.5714641, -0.44153115, -0.121542804, -0.0849...</td>\n",
       "    </tr>\n",
       "    <tr>\n",
       "      <th>4</th>\n",
       "      <td>B1ANY3</td>\n",
       "      <td>[0.478181, -0.5061363, -0.032993697, 0.0699267...</td>\n",
       "    </tr>\n",
       "    <tr>\n",
       "      <th>5</th>\n",
       "      <td>Q96FZ5</td>\n",
       "      <td>[0.002832711, -0.43827248, 0.053592034, 0.0450...</td>\n",
       "    </tr>\n",
       "    <tr>\n",
       "      <th>6</th>\n",
       "      <td>Q9GZN7</td>\n",
       "      <td>[0.33964908, -0.57820886, -0.2407801, -0.07511...</td>\n",
       "    </tr>\n",
       "    <tr>\n",
       "      <th>7</th>\n",
       "      <td>A6NJW4</td>\n",
       "      <td>[0.7161432, -0.4619242, -0.31101382, -0.465274...</td>\n",
       "    </tr>\n",
       "    <tr>\n",
       "      <th>8</th>\n",
       "      <td>Q6P9A3</td>\n",
       "      <td>[-0.0010922293, -0.6677896, -0.22753885, 0.526...</td>\n",
       "    </tr>\n",
       "    <tr>\n",
       "      <th>9</th>\n",
       "      <td>P05062</td>\n",
       "      <td>[0.03655637, -0.71208334, -0.36614433, 0.48408...</td>\n",
       "    </tr>\n",
       "  </tbody>\n",
       "</table>\n",
       "</div>"
      ],
      "text/plain": [
       "    Entry                                             Vector\n",
       "0  P18433  [0.060395252, -1.1459734, -0.101510145, 0.1245...\n",
       "1  O75335  [0.32916632, -0.9245654, -0.005039262, -0.0488...\n",
       "2  Q8IYG6  [0.52817136, -0.3996036, 0.55867016, -0.369063...\n",
       "3  Q6UXU0  [0.5714641, -0.44153115, -0.121542804, -0.0849...\n",
       "4  B1ANY3  [0.478181, -0.5061363, -0.032993697, 0.0699267...\n",
       "5  Q96FZ5  [0.002832711, -0.43827248, 0.053592034, 0.0450...\n",
       "6  Q9GZN7  [0.33964908, -0.57820886, -0.2407801, -0.07511...\n",
       "7  A6NJW4  [0.7161432, -0.4619242, -0.31101382, -0.465274...\n",
       "8  Q6P9A3  [-0.0010922293, -0.6677896, -0.22753885, 0.526...\n",
       "9  P05062  [0.03655637, -0.71208334, -0.36614433, 0.48408..."
      ]
     },
     "execution_count": 43,
     "metadata": {},
     "output_type": "execute_result"
    }
   ],
   "source": [
    "transformer_dataframe_avg[0:10]"
   ]
  },
  {
   "cell_type": "code",
   "execution_count": 36,
   "metadata": {},
   "outputs": [],
   "source": [
    "# define similarity_list and proteinList as global variables\n",
    "proteinList = []\n",
    "manager = Manager()\n",
    "similarity_list = manager.list()\n",
    "proteinListNew = manager.list()\n",
    "\n",
    "def parallelSimilarity(paramList):\n",
    "    protein_embedding_type = paramList[4]\n",
    "    if protein_embedding_type == \"pool\":\n",
    "        protein_embedding_dataframe = transformer_dataframe_pool\n",
    "    if protein_embedding_type == \"avg\":\n",
    "        protein_embedding_dataframe = transformer_dataframe_avg\n",
    "    \n",
    "    i = paramList[0]\n",
    "    j = paramList[1] \n",
    "    aspect = paramList[2]\n",
    "    if j>i:\n",
    "        protein1 = proteinListNew[i]\n",
    "        protein2 = proteinListNew[j]\n",
    "        if protein1 in protein_names and protein2 in protein_names:\n",
    "            prot1vec = np.asarray(protein_embedding_dataframe.query(\"Entry == @protein1\")['Vector'].item())\n",
    "            prot2vec = np.asarray(protein_embedding_dataframe.query(\"Entry == @protein2\")['Vector'].item())\n",
    "            #cosine will return in shape of input vectors first dimension\n",
    "            cos = cosine(prot1vec.reshape(1,-1),prot2vec.reshape(1,-1)).item()\n",
    "            manhattanDist = cdist(prot1vec.reshape(1,-1), prot2vec.reshape(1,-1), 'cityblock')\n",
    "            manhattanDistNorm = manhattanDist/(norm(prot1vec,1) + norm(prot2vec,1))\n",
    "            euclideanDist = cdist(prot1vec.reshape(1,-1), prot2vec.reshape(1,-1), 'euclidean')\n",
    "            euclideanDistNorm = euclideanDist/(norm(prot1vec,2) + norm(prot2vec,2)) \n",
    "            real = paramList[3]\n",
    "            #real = human_protienSimilarityMatrix.loc[protein1,protein2]\n",
    "            # To ensure real and calculated values appended to same postion they saved similtanously and then decoupled\n",
    "            similarity_list.append((real,cos,1-manhattanDistNorm.item(),1-euclideanDistNorm.item()))\n",
    "    return similarity_list\n"
   ]
  },
  {
   "cell_type": "code",
   "execution_count": 37,
   "metadata": {},
   "outputs": [],
   "source": [
    "def calculateMSEforOntology(aspect,matrix_type,protein_embedding_type):\n",
    "    \n",
    "    #Clear lists before each aspect\n",
    "    similarity_list[:] = []\n",
    "    proteinListNew[:] = []\n",
    "\n",
    "    similarityMatrixNameDict = {}\n",
    "    similarityMatrixNameDict[\"All\"] = \"/media/DATA/serbulent/Code/Thesis/ReviewPaper/preprocess/human_\"\\\n",
    "    +aspect+\"_proteinSimilarityMatrix.csv\" \n",
    "    similarityMatrixNameDict[\"500\"] = \"/media/DATA/serbulent/Code/Thesis/ReviewPaper/preprocess/human_\"\\\n",
    "    +aspect+\"_proteinSimilarityMatrix_for_highest_annotated_500_proteins.csv\"\n",
    "    similarityMatrixNameDict[\"Sparse\"] = \"/media/DATA/serbulent/Code/Thesis/ReviewPaper/preprocess/human_\"\\\n",
    "    +aspect+\"_proteinSimilarityMatrix_for_highest_annotated_500_proteins.csv\" \n",
    "    similarityMatrixNameDict[\"200\"] = \"/media/DATA/serbulent/Code/Thesis/ReviewPaper/preprocess/human_\"\\\n",
    "    +aspect+\"_proteinSimilarityMatrix_for_highest_annotated_200_proteins.csv\"\n",
    "            \n",
    "    similarityMatrixFileName = similarityMatrixNameDict[matrix_type]\n",
    "        \n",
    "    human_proteinSimilarityMatrix = pd.read_csv(similarityMatrixFileName)\n",
    "    human_proteinSimilarityMatrix.set_index(human_proteinSimilarityMatrix.columns, inplace = True)\n",
    "    #proteinList = human_proteinSimilarityMatrix\n",
    "    proteinList = human_proteinSimilarityMatrix.columns\n",
    "    \n",
    "     #proteinListNew is referanced using Manager\n",
    "    for prot in proteinList:\n",
    "        proteinListNew.append(prot)\n",
    "    if matrix_type == \"Sparse\":\n",
    "        #sparsified_similarities = np.load(\"SparsifiedSimilarites_for_highest_500.npy\")\n",
    "        sparsified_similarity_coordinates = \\\n",
    "        np.load(\"./auxilary_input/SparsifiedSimilarityCoordinates_\"+aspect+\"_for_highest_500.npy\")\n",
    "        protParamList = sparsified_similarity_coordinates\n",
    "    else:     \n",
    "        i = range(len(proteinList))\n",
    "        j = range(len(proteinList))\n",
    "        protParamList = list(itertools.product(i,j))\n",
    "    protParamListNew = []\n",
    "    # Prepare parameters for parallel processing these parameters will be \n",
    "    # used concurrently by different processes\n",
    "    for tup in tqdm_notebook(protParamList):\n",
    "        i = tup[0]\n",
    "        j = tup[1]\n",
    "        \n",
    "        if matrix_type == \"Sparse\":\n",
    "            protein1 = proteinListNew[i]\n",
    "            protein2 = proteinListNew[j]\n",
    "            real = human_proteinSimilarityMatrix.loc[protein1,protein2]\n",
    "            tupNew = (tup[0],tup[1],aspect,real,protein_embedding_type)\n",
    "            protParamListNew.append(tupNew)\n",
    "        else:\n",
    "            if j > i:\n",
    "                protein1 = proteinListNew[i]\n",
    "                protein2 = proteinListNew[j]\n",
    "                real = human_proteinSimilarityMatrix.loc[protein1,protein2]\n",
    "                tupNew = (tup[0],tup[1],aspect,real,protein_embedding_type)\n",
    "                protParamListNew.append(tupNew)\n",
    "\n",
    "    total_task_num=len(protParamListNew)\n",
    "    pool = Pool()\n",
    "    similarity_listRet = []\n",
    "    #parallelSimilarityPartial = partial(parallelSimilarity,protein_embedding_type)\n",
    "    for similarity_listRet in tqdm_notebook(pool.imap_unordered(parallelSimilarity  \\\n",
    "                                                                ,protParamListNew), total=total_task_num):\n",
    "        pass\n",
    "    pool.close()\n",
    "    pool.join()\n",
    "\n",
    "    real_distance_list = [value[0] for value in similarity_listRet]\n",
    "    cosine_distance_list = [value[1] for value in similarity_listRet]\n",
    "    manhattan_distance_list = [value[2] for value in similarity_listRet]\n",
    "    euclidian_distance_list = [value[3] for value in similarity_listRet]\n",
    "\n",
    "    #mseValue = mse(real_distance_list,cosine_distance_list)\n",
    "    cosineCorr = spearmanr(real_distance_list, cosine_distance_list)\n",
    "    manhattanCorr = spearmanr(real_distance_list, manhattan_distance_list)\n",
    "    euclidianCorr = spearmanr(real_distance_list, euclidian_distance_list)   \n",
    "    \n",
    "    print(\"Cosine Correlation for \"+aspect+\" is \" + str(cosineCorr))\n",
    "    print(\"Manhattan Correlation for \"+aspect+\" is \" + str(manhattanCorr))\n",
    "    print(\"Euclidian Correlation for \"+aspect+\" is \" + str(euclidianCorr))\n",
    "\n",
    "    return (cosineCorr,manhattanCorr,euclidianCorr)\n",
    "    "
   ]
  },
  {
   "cell_type": "code",
   "execution_count": 38,
   "metadata": {},
   "outputs": [
    {
     "data": {
      "application/vnd.jupyter.widget-view+json": {
       "model_id": "f708c528c0a64affab1da3ed07472d14",
       "version_major": 2,
       "version_minor": 0
      },
      "text/plain": [
       "HBox(children=(IntProgress(value=0, max=247), HTML(value='')))"
      ]
     },
     "metadata": {},
     "output_type": "display_data"
    },
    {
     "data": {
      "application/vnd.jupyter.widget-view+json": {
       "model_id": "84da563b4f194b1da48a04de2f91ea4e",
       "version_major": 2,
       "version_minor": 0
      },
      "text/plain": [
       "HBox(children=(IntProgress(value=0, max=247), HTML(value='')))"
      ]
     },
     "metadata": {},
     "output_type": "display_data"
    },
    {
     "name": "stdout",
     "output_type": "stream",
     "text": [
      "Cosine Correlation for MF is SpearmanrResult(correlation=0.40857085164037726, pvalue=5.97080426078973e-11)\n",
      "Manhattan Correlation for MF is SpearmanrResult(correlation=0.4121568387063042, pvalue=3.906709792337332e-11)\n",
      "Euclidian Correlation for MF is SpearmanrResult(correlation=0.4090891881318071, pvalue=5.617455645004331e-11)\n"
     ]
    },
    {
     "data": {
      "application/vnd.jupyter.widget-view+json": {
       "model_id": "79c9b9a0e2d446f0a09a73882c7870da",
       "version_major": 2,
       "version_minor": 0
      },
      "text/plain": [
       "HBox(children=(IntProgress(value=0, max=247), HTML(value='')))"
      ]
     },
     "metadata": {},
     "output_type": "display_data"
    },
    {
     "data": {
      "application/vnd.jupyter.widget-view+json": {
       "model_id": "66f576a1aa1747deadc37c42bb96219c",
       "version_major": 2,
       "version_minor": 0
      },
      "text/plain": [
       "HBox(children=(IntProgress(value=0, max=247), HTML(value='')))"
      ]
     },
     "metadata": {},
     "output_type": "display_data"
    },
    {
     "name": "stdout",
     "output_type": "stream",
     "text": [
      "Cosine Correlation for BP is SpearmanrResult(correlation=0.36167261111207294, pvalue=2.6988151046305797e-08)\n",
      "Manhattan Correlation for BP is SpearmanrResult(correlation=0.3617786588638607, pvalue=2.6718829433828793e-08)\n",
      "Euclidian Correlation for BP is SpearmanrResult(correlation=0.3609952040445314, pvalue=2.8771263774883416e-08)\n"
     ]
    },
    {
     "data": {
      "application/vnd.jupyter.widget-view+json": {
       "model_id": "37d835b4b088463fb2dd97ed20298695",
       "version_major": 2,
       "version_minor": 0
      },
      "text/plain": [
       "HBox(children=(IntProgress(value=0, max=245), HTML(value='')))"
      ]
     },
     "metadata": {},
     "output_type": "display_data"
    },
    {
     "data": {
      "application/vnd.jupyter.widget-view+json": {
       "model_id": "f454041158a7426095b5dac589dd9a73",
       "version_major": 2,
       "version_minor": 0
      },
      "text/plain": [
       "HBox(children=(IntProgress(value=0, max=245), HTML(value='')))"
      ]
     },
     "metadata": {},
     "output_type": "display_data"
    },
    {
     "name": "stdout",
     "output_type": "stream",
     "text": [
      "Cosine Correlation for CC is SpearmanrResult(correlation=0.2649424980891946, pvalue=0.00022937461676639806)\n",
      "Manhattan Correlation for CC is SpearmanrResult(correlation=0.2613572939440801, pvalue=0.00028060478803552713)\n",
      "Euclidian Correlation for CC is SpearmanrResult(correlation=0.2656215005599104, pvalue=0.000220711705629393)\n"
     ]
    },
    {
     "data": {
      "application/vnd.jupyter.widget-view+json": {
       "model_id": "e398971c9335482fbc45826d9f6e7025",
       "version_major": 2,
       "version_minor": 0
      },
      "text/plain": [
       "HBox(children=(IntProgress(value=0, max=40000), HTML(value='')))"
      ]
     },
     "metadata": {},
     "output_type": "display_data"
    },
    {
     "data": {
      "application/vnd.jupyter.widget-view+json": {
       "model_id": "bd9d41b358904244a7d544fe08cbc560",
       "version_major": 2,
       "version_minor": 0
      },
      "text/plain": [
       "HBox(children=(IntProgress(value=0, max=19900), HTML(value='')))"
      ]
     },
     "metadata": {},
     "output_type": "display_data"
    },
    {
     "name": "stdout",
     "output_type": "stream",
     "text": [
      "Cosine Correlation for MF is SpearmanrResult(correlation=0.18903197973648384, pvalue=4.4098096282806417e-144)\n",
      "Manhattan Correlation for MF is SpearmanrResult(correlation=0.18803317913121778, pvalue=1.4758028365616895e-142)\n",
      "Euclidian Correlation for MF is SpearmanrResult(correlation=0.18915274569924, pvalue=2.880658702101465e-144)\n"
     ]
    },
    {
     "data": {
      "application/vnd.jupyter.widget-view+json": {
       "model_id": "353f426939784df896409705bc21d0d2",
       "version_major": 2,
       "version_minor": 0
      },
      "text/plain": [
       "HBox(children=(IntProgress(value=0, max=40000), HTML(value='')))"
      ]
     },
     "metadata": {},
     "output_type": "display_data"
    },
    {
     "data": {
      "application/vnd.jupyter.widget-view+json": {
       "model_id": "3480599650a24060aebf02ddc7310159",
       "version_major": 2,
       "version_minor": 0
      },
      "text/plain": [
       "HBox(children=(IntProgress(value=0, max=19900), HTML(value='')))"
      ]
     },
     "metadata": {},
     "output_type": "display_data"
    },
    {
     "name": "stdout",
     "output_type": "stream",
     "text": [
      "Cosine Correlation for BP is SpearmanrResult(correlation=0.11632110066329508, pvalue=3.972510942817961e-55)\n",
      "Manhattan Correlation for BP is SpearmanrResult(correlation=0.11625010035450355, pvalue=4.619384363499269e-55)\n",
      "Euclidian Correlation for BP is SpearmanrResult(correlation=0.11616314645874072, pvalue=5.5560929044732165e-55)\n"
     ]
    },
    {
     "data": {
      "application/vnd.jupyter.widget-view+json": {
       "model_id": "19a351f9d4eb4853abe59979f8abfdb1",
       "version_major": 2,
       "version_minor": 0
      },
      "text/plain": [
       "HBox(children=(IntProgress(value=0, max=40000), HTML(value='')))"
      ]
     },
     "metadata": {},
     "output_type": "display_data"
    },
    {
     "data": {
      "application/vnd.jupyter.widget-view+json": {
       "model_id": "26e2c372a04247c6acb52c3de2e9569c",
       "version_major": 2,
       "version_minor": 0
      },
      "text/plain": [
       "HBox(children=(IntProgress(value=0, max=19900), HTML(value='')))"
      ]
     },
     "metadata": {},
     "output_type": "display_data"
    },
    {
     "name": "stdout",
     "output_type": "stream",
     "text": [
      "Cosine Correlation for CC is SpearmanrResult(correlation=0.01540367449568577, pvalue=0.04805683702833609)\n",
      "Manhattan Correlation for CC is SpearmanrResult(correlation=0.013306948887461492, pvalue=0.08768241607813118)\n",
      "Euclidian Correlation for CC is SpearmanrResult(correlation=0.015361557612870284, pvalue=0.04867132033498957)\n"
     ]
    },
    {
     "data": {
      "application/vnd.jupyter.widget-view+json": {
       "model_id": "ccf8c8b8cfd5483582171cf8d1701068",
       "version_major": 2,
       "version_minor": 0
      },
      "text/plain": [
       "HBox(children=(IntProgress(value=0, max=247009), HTML(value='')))"
      ]
     },
     "metadata": {},
     "output_type": "display_data"
    },
    {
     "data": {
      "application/vnd.jupyter.widget-view+json": {
       "model_id": "89b4c41bf13b4eb9bd3621892f053697",
       "version_major": 2,
       "version_minor": 0
      },
      "text/plain": [
       "HBox(children=(IntProgress(value=0, max=123256), HTML(value='')))"
      ]
     },
     "metadata": {},
     "output_type": "display_data"
    },
    {
     "name": "stdout",
     "output_type": "stream",
     "text": [
      "Cosine Correlation for MF is SpearmanrResult(correlation=0.16226955080047656, pvalue=0.0)\n",
      "Manhattan Correlation for MF is SpearmanrResult(correlation=0.1626256018946066, pvalue=0.0)\n",
      "Euclidian Correlation for MF is SpearmanrResult(correlation=0.16231936784184467, pvalue=0.0)\n"
     ]
    },
    {
     "data": {
      "application/vnd.jupyter.widget-view+json": {
       "model_id": "4e629ed6831d40f3a7319555a526dbc4",
       "version_major": 2,
       "version_minor": 0
      },
      "text/plain": [
       "HBox(children=(IntProgress(value=0, max=247009), HTML(value='')))"
      ]
     },
     "metadata": {},
     "output_type": "display_data"
    },
    {
     "data": {
      "application/vnd.jupyter.widget-view+json": {
       "model_id": "37ca353e76f74be4a488e573fc971df0",
       "version_major": 2,
       "version_minor": 0
      },
      "text/plain": [
       "HBox(children=(IntProgress(value=0, max=123256), HTML(value='')))"
      ]
     },
     "metadata": {},
     "output_type": "display_data"
    },
    {
     "name": "stdout",
     "output_type": "stream",
     "text": [
      "Cosine Correlation for BP is SpearmanrResult(correlation=0.07841099021370011, pvalue=2.8029648944842544e-154)\n",
      "Manhattan Correlation for BP is SpearmanrResult(correlation=0.0779094011398529, pvalue=2.4840542351051962e-152)\n",
      "Euclidian Correlation for BP is SpearmanrResult(correlation=0.07834715795730864, pvalue=4.9677848593015355e-154)\n"
     ]
    },
    {
     "data": {
      "application/vnd.jupyter.widget-view+json": {
       "model_id": "a89cdd1025c947b5b2d6370c9fb8c582",
       "version_major": 2,
       "version_minor": 0
      },
      "text/plain": [
       "HBox(children=(IntProgress(value=0, max=245025), HTML(value='')))"
      ]
     },
     "metadata": {},
     "output_type": "display_data"
    },
    {
     "data": {
      "application/vnd.jupyter.widget-view+json": {
       "model_id": "538be55ac720433ab45bf3bd078b6f37",
       "version_major": 2,
       "version_minor": 0
      },
      "text/plain": [
       "HBox(children=(IntProgress(value=0, max=122265), HTML(value='')))"
      ]
     },
     "metadata": {},
     "output_type": "display_data"
    },
    {
     "name": "stdout",
     "output_type": "stream",
     "text": [
      "Cosine Correlation for CC is SpearmanrResult(correlation=0.004144158652397764, pvalue=0.18291321958942605)\n",
      "Manhattan Correlation for CC is SpearmanrResult(correlation=0.002248116674648534, pvalue=0.4699923244798956)\n",
      "Euclidian Correlation for CC is SpearmanrResult(correlation=0.004088413136357672, pvalue=0.1888720712009469)\n"
     ]
    },
    {
     "data": {
      "application/vnd.jupyter.widget-view+json": {
       "model_id": "5bd00fce41e44b0cb6d80618c1976845",
       "version_major": 2,
       "version_minor": 0
      },
      "text/plain": [
       "HBox(children=(IntProgress(value=0, max=9467929), HTML(value='')))"
      ]
     },
     "metadata": {},
     "output_type": "display_data"
    },
    {
     "data": {
      "application/vnd.jupyter.widget-view+json": {
       "model_id": "d7dbd1d80f914bf1b3c954d00258b5cf",
       "version_major": 2,
       "version_minor": 0
      },
      "text/plain": [
       "HBox(children=(IntProgress(value=0, max=4732426), HTML(value='')))"
      ]
     },
     "metadata": {},
     "output_type": "display_data"
    },
    {
     "name": "stdout",
     "output_type": "stream",
     "text": [
      "Cosine Correlation for MF is SpearmanrResult(correlation=0.0682655052487368, pvalue=0.0)\n",
      "Manhattan Correlation for MF is SpearmanrResult(correlation=0.06727152628369212, pvalue=0.0)\n",
      "Euclidian Correlation for MF is SpearmanrResult(correlation=0.06830249689582543, pvalue=0.0)\n"
     ]
    },
    {
     "data": {
      "application/vnd.jupyter.widget-view+json": {
       "model_id": "aa74a988bfc04fc09a34c9efa1182b80",
       "version_major": 2,
       "version_minor": 0
      },
      "text/plain": [
       "HBox(children=(IntProgress(value=0, max=37871716), HTML(value='')))"
      ]
     },
     "metadata": {},
     "output_type": "display_data"
    },
    {
     "data": {
      "application/vnd.jupyter.widget-view+json": {
       "model_id": "496468be45c74060b508dafdc153dddc",
       "version_major": 2,
       "version_minor": 0
      },
      "text/plain": [
       "HBox(children=(IntProgress(value=0, max=18932781), HTML(value='')))"
      ]
     },
     "metadata": {},
     "output_type": "display_data"
    },
    {
     "name": "stdout",
     "output_type": "stream",
     "text": [
      "Cosine Correlation for BP is SpearmanrResult(correlation=0.054392060808297345, pvalue=0.0)\n",
      "Manhattan Correlation for BP is SpearmanrResult(correlation=0.05465294895829099, pvalue=0.0)\n",
      "Euclidian Correlation for BP is SpearmanrResult(correlation=0.05441917180914316, pvalue=0.0)\n"
     ]
    },
    {
     "data": {
      "application/vnd.jupyter.widget-view+json": {
       "model_id": "e6d01955bf1942f484649226719a8cba",
       "version_major": 2,
       "version_minor": 0
      },
      "text/plain": [
       "HBox(children=(IntProgress(value=0, max=20529961), HTML(value='')))"
      ]
     },
     "metadata": {},
     "output_type": "display_data"
    },
    {
     "data": {
      "application/vnd.jupyter.widget-view+json": {
       "model_id": "cccee7d1e6b94d6db6f88df38e5117c2",
       "version_major": 2,
       "version_minor": 0
      },
      "text/plain": [
       "HBox(children=(IntProgress(value=0, max=10262715), HTML(value='')))"
      ]
     },
     "metadata": {},
     "output_type": "display_data"
    },
    {
     "name": "stdout",
     "output_type": "stream",
     "text": [
      "Cosine Correlation for CC is SpearmanrResult(correlation=0.01354818997664756, pvalue=0.0)\n",
      "Manhattan Correlation for CC is SpearmanrResult(correlation=0.012421093852355182, pvalue=0.0)\n",
      "Euclidian Correlation for CC is SpearmanrResult(correlation=0.013580581982114068, pvalue=0.0)\n"
     ]
    },
    {
     "data": {
      "application/vnd.jupyter.widget-view+json": {
       "model_id": "d0758e3fe2064015997ce39aa577eb3a",
       "version_major": 2,
       "version_minor": 0
      },
      "text/plain": [
       "HBox(children=(IntProgress(value=0, max=247), HTML(value='')))"
      ]
     },
     "metadata": {},
     "output_type": "display_data"
    },
    {
     "data": {
      "application/vnd.jupyter.widget-view+json": {
       "model_id": "acbeef244b174ec7a48e81582bf9e39b",
       "version_major": 2,
       "version_minor": 0
      },
      "text/plain": [
       "HBox(children=(IntProgress(value=0, max=247), HTML(value='')))"
      ]
     },
     "metadata": {},
     "output_type": "display_data"
    },
    {
     "name": "stdout",
     "output_type": "stream",
     "text": [
      "Cosine Correlation for MF is SpearmanrResult(correlation=0.45783986196924603, pvalue=1.1078198926017823e-13)\n",
      "Manhattan Correlation for MF is SpearmanrResult(correlation=0.49648612931548936, pvalue=3.732414283758915e-16)\n",
      "Euclidian Correlation for MF is SpearmanrResult(correlation=0.4583401693653218, pvalue=1.0337369973072905e-13)\n"
     ]
    },
    {
     "data": {
      "application/vnd.jupyter.widget-view+json": {
       "model_id": "cda52bfa2b15497ea9f81fd045230dd6",
       "version_major": 2,
       "version_minor": 0
      },
      "text/plain": [
       "HBox(children=(IntProgress(value=0, max=247), HTML(value='')))"
      ]
     },
     "metadata": {},
     "output_type": "display_data"
    },
    {
     "data": {
      "application/vnd.jupyter.widget-view+json": {
       "model_id": "c9ce80fe81774d908e330482905d3cda",
       "version_major": 2,
       "version_minor": 0
      },
      "text/plain": [
       "HBox(children=(IntProgress(value=0, max=247), HTML(value='')))"
      ]
     },
     "metadata": {},
     "output_type": "display_data"
    },
    {
     "name": "stdout",
     "output_type": "stream",
     "text": [
      "Cosine Correlation for BP is SpearmanrResult(correlation=0.22296323389372713, pvalue=0.0007989749604679824)\n",
      "Manhattan Correlation for BP is SpearmanrResult(correlation=0.20682666170334332, pvalue=0.001903663251382038)\n",
      "Euclidian Correlation for BP is SpearmanrResult(correlation=0.22117773603199609, pvalue=0.0008822543963720316)\n"
     ]
    },
    {
     "data": {
      "application/vnd.jupyter.widget-view+json": {
       "model_id": "86a1e04035b54459a0b00d9879c31799",
       "version_major": 2,
       "version_minor": 0
      },
      "text/plain": [
       "HBox(children=(IntProgress(value=0, max=245), HTML(value='')))"
      ]
     },
     "metadata": {},
     "output_type": "display_data"
    },
    {
     "data": {
      "application/vnd.jupyter.widget-view+json": {
       "model_id": "0964ba952cca4e6f92a272910d1fcf54",
       "version_major": 2,
       "version_minor": 0
      },
      "text/plain": [
       "HBox(children=(IntProgress(value=0, max=245), HTML(value='')))"
      ]
     },
     "metadata": {},
     "output_type": "display_data"
    },
    {
     "name": "stdout",
     "output_type": "stream",
     "text": [
      "Cosine Correlation for CC is SpearmanrResult(correlation=0.2672603494551983, pvalue=0.00020104200967715162)\n",
      "Manhattan Correlation for CC is SpearmanrResult(correlation=0.2217707389039976, pvalue=0.002162915012843233)\n",
      "Euclidian Correlation for CC is SpearmanrResult(correlation=0.2725430597771023, pvalue=0.00014819844489783477)\n"
     ]
    },
    {
     "data": {
      "application/vnd.jupyter.widget-view+json": {
       "model_id": "9d7708d7d4e94208978bb505df5258ad",
       "version_major": 2,
       "version_minor": 0
      },
      "text/plain": [
       "HBox(children=(IntProgress(value=0, max=40000), HTML(value='')))"
      ]
     },
     "metadata": {},
     "output_type": "display_data"
    },
    {
     "data": {
      "application/vnd.jupyter.widget-view+json": {
       "model_id": "0f2e3a210b0b4af99ba95ca1d60330e1",
       "version_major": 2,
       "version_minor": 0
      },
      "text/plain": [
       "HBox(children=(IntProgress(value=0, max=19900), HTML(value='')))"
      ]
     },
     "metadata": {},
     "output_type": "display_data"
    },
    {
     "name": "stdout",
     "output_type": "stream",
     "text": [
      "Cosine Correlation for MF is SpearmanrResult(correlation=0.2177809773340571, pvalue=1.0239998575258815e-191)\n",
      "Manhattan Correlation for MF is SpearmanrResult(correlation=0.22346737255337032, pvalue=5.210985400802653e-202)\n",
      "Euclidian Correlation for MF is SpearmanrResult(correlation=0.21669924060702617, pvalue=8.618919160957068e-190)\n"
     ]
    },
    {
     "data": {
      "application/vnd.jupyter.widget-view+json": {
       "model_id": "6c156ad3b2594d8a88451868098e0068",
       "version_major": 2,
       "version_minor": 0
      },
      "text/plain": [
       "HBox(children=(IntProgress(value=0, max=40000), HTML(value='')))"
      ]
     },
     "metadata": {},
     "output_type": "display_data"
    },
    {
     "data": {
      "application/vnd.jupyter.widget-view+json": {
       "model_id": "f8549aabef4141b9a0dfb25ac4ecaaa9",
       "version_major": 2,
       "version_minor": 0
      },
      "text/plain": [
       "HBox(children=(IntProgress(value=0, max=19900), HTML(value='')))"
      ]
     },
     "metadata": {},
     "output_type": "display_data"
    },
    {
     "name": "stdout",
     "output_type": "stream",
     "text": [
      "Cosine Correlation for BP is SpearmanrResult(correlation=0.14680920823618346, pvalue=4.627782031373728e-87)\n",
      "Manhattan Correlation for BP is SpearmanrResult(correlation=0.14165391062834995, pvalue=3.9943825739184895e-81)\n",
      "Euclidian Correlation for BP is SpearmanrResult(correlation=0.14741892875730309, pvalue=8.886732146241368e-88)\n"
     ]
    },
    {
     "data": {
      "application/vnd.jupyter.widget-view+json": {
       "model_id": "35bc2eeecf574c25a915832ab369d36f",
       "version_major": 2,
       "version_minor": 0
      },
      "text/plain": [
       "HBox(children=(IntProgress(value=0, max=40000), HTML(value='')))"
      ]
     },
     "metadata": {},
     "output_type": "display_data"
    },
    {
     "data": {
      "application/vnd.jupyter.widget-view+json": {
       "model_id": "21bb49fae3ee4b5e9e7128566e5399e7",
       "version_major": 2,
       "version_minor": 0
      },
      "text/plain": [
       "HBox(children=(IntProgress(value=0, max=19900), HTML(value='')))"
      ]
     },
     "metadata": {},
     "output_type": "display_data"
    },
    {
     "name": "stdout",
     "output_type": "stream",
     "text": [
      "Cosine Correlation for CC is SpearmanrResult(correlation=-0.006023199949127148, pvalue=0.4395447670534941)\n",
      "Manhattan Correlation for CC is SpearmanrResult(correlation=-0.01707526894783479, pvalue=0.028421188985284524)\n",
      "Euclidian Correlation for CC is SpearmanrResult(correlation=-0.009586570242742853, pvalue=0.21859619941718486)\n"
     ]
    },
    {
     "data": {
      "application/vnd.jupyter.widget-view+json": {
       "model_id": "21ad6c89882c43a1a9863dccf34cc20a",
       "version_major": 2,
       "version_minor": 0
      },
      "text/plain": [
       "HBox(children=(IntProgress(value=0, max=247009), HTML(value='')))"
      ]
     },
     "metadata": {},
     "output_type": "display_data"
    },
    {
     "data": {
      "application/vnd.jupyter.widget-view+json": {
       "model_id": "20d749512731446dab3ce100fed415d1",
       "version_major": 2,
       "version_minor": 0
      },
      "text/plain": [
       "HBox(children=(IntProgress(value=0, max=123256), HTML(value='')))"
      ]
     },
     "metadata": {},
     "output_type": "display_data"
    },
    {
     "name": "stdout",
     "output_type": "stream",
     "text": [
      "Cosine Correlation for MF is SpearmanrResult(correlation=0.1976302576435238, pvalue=0.0)\n",
      "Manhattan Correlation for MF is SpearmanrResult(correlation=0.2046434013408975, pvalue=0.0)\n",
      "Euclidian Correlation for MF is SpearmanrResult(correlation=0.19662277396915046, pvalue=0.0)\n"
     ]
    },
    {
     "data": {
      "application/vnd.jupyter.widget-view+json": {
       "model_id": "d12b19374eaf4d8b926f081d12c6ba98",
       "version_major": 2,
       "version_minor": 0
      },
      "text/plain": [
       "HBox(children=(IntProgress(value=0, max=247009), HTML(value='')))"
      ]
     },
     "metadata": {},
     "output_type": "display_data"
    },
    {
     "data": {
      "application/vnd.jupyter.widget-view+json": {
       "model_id": "73b815a045db481eb927a52026bc9bab",
       "version_major": 2,
       "version_minor": 0
      },
      "text/plain": [
       "HBox(children=(IntProgress(value=0, max=123256), HTML(value='')))"
      ]
     },
     "metadata": {},
     "output_type": "display_data"
    },
    {
     "name": "stdout",
     "output_type": "stream",
     "text": [
      "Cosine Correlation for BP is SpearmanrResult(correlation=0.0738660604588112, pvalue=4.305346908109565e-137)\n",
      "Manhattan Correlation for BP is SpearmanrResult(correlation=0.07111780733483708, pvalue=3.3477045368964596e-127)\n",
      "Euclidian Correlation for BP is SpearmanrResult(correlation=0.07207758596050495, pvalue=1.2986651202563268e-130)\n"
     ]
    },
    {
     "data": {
      "application/vnd.jupyter.widget-view+json": {
       "model_id": "40f4bc17aad144d192ab49296db0b78a",
       "version_major": 2,
       "version_minor": 0
      },
      "text/plain": [
       "HBox(children=(IntProgress(value=0, max=245025), HTML(value='')))"
      ]
     },
     "metadata": {},
     "output_type": "display_data"
    },
    {
     "data": {
      "application/vnd.jupyter.widget-view+json": {
       "model_id": "06a5d418bb60429397a50d7bac6802e5",
       "version_major": 2,
       "version_minor": 0
      },
      "text/plain": [
       "HBox(children=(IntProgress(value=0, max=122265), HTML(value='')))"
      ]
     },
     "metadata": {},
     "output_type": "display_data"
    },
    {
     "name": "stdout",
     "output_type": "stream",
     "text": [
      "Cosine Correlation for CC is SpearmanrResult(correlation=-0.010361052243406001, pvalue=0.000868826840030297)\n",
      "Manhattan Correlation for CC is SpearmanrResult(correlation=-0.022816350664943284, pvalue=2.2408308882980568e-13)\n",
      "Euclidian Correlation for CC is SpearmanrResult(correlation=-0.012090085088239826, pvalue=0.00010207554950449406)\n"
     ]
    },
    {
     "data": {
      "application/vnd.jupyter.widget-view+json": {
       "model_id": "9541601bdf6e44168724510c1ff1c37c",
       "version_major": 2,
       "version_minor": 0
      },
      "text/plain": [
       "HBox(children=(IntProgress(value=0, max=9467929), HTML(value='')))"
      ]
     },
     "metadata": {},
     "output_type": "display_data"
    },
    {
     "data": {
      "application/vnd.jupyter.widget-view+json": {
       "model_id": "2f475e7b7eaa4198af78545d5417dd5d",
       "version_major": 2,
       "version_minor": 0
      },
      "text/plain": [
       "HBox(children=(IntProgress(value=0, max=4732426), HTML(value='')))"
      ]
     },
     "metadata": {},
     "output_type": "display_data"
    },
    {
     "name": "stdout",
     "output_type": "stream",
     "text": [
      "Cosine Correlation for MF is SpearmanrResult(correlation=0.0784358588026524, pvalue=0.0)\n",
      "Manhattan Correlation for MF is SpearmanrResult(correlation=0.08026996480394573, pvalue=0.0)\n",
      "Euclidian Correlation for MF is SpearmanrResult(correlation=0.07809771653097003, pvalue=0.0)\n"
     ]
    },
    {
     "data": {
      "application/vnd.jupyter.widget-view+json": {
       "model_id": "4b4401dee3d344a99009c5fdbdbdc5ab",
       "version_major": 2,
       "version_minor": 0
      },
      "text/plain": [
       "HBox(children=(IntProgress(value=0, max=37871716), HTML(value='')))"
      ]
     },
     "metadata": {},
     "output_type": "display_data"
    },
    {
     "data": {
      "application/vnd.jupyter.widget-view+json": {
       "model_id": "c1e8c8b852f24bbfae4b44190768d2b8",
       "version_major": 2,
       "version_minor": 0
      },
      "text/plain": [
       "HBox(children=(IntProgress(value=0, max=18932781), HTML(value='')))"
      ]
     },
     "metadata": {},
     "output_type": "display_data"
    },
    {
     "name": "stdout",
     "output_type": "stream",
     "text": [
      "Cosine Correlation for BP is SpearmanrResult(correlation=0.07673499578222312, pvalue=0.0)\n",
      "Manhattan Correlation for BP is SpearmanrResult(correlation=0.08614328872910196, pvalue=0.0)\n",
      "Euclidian Correlation for BP is SpearmanrResult(correlation=0.07577506668900945, pvalue=0.0)\n"
     ]
    },
    {
     "data": {
      "application/vnd.jupyter.widget-view+json": {
       "model_id": "dfce67ab5049482d89b8b6d182e360bf",
       "version_major": 2,
       "version_minor": 0
      },
      "text/plain": [
       "HBox(children=(IntProgress(value=0, max=20529961), HTML(value='')))"
      ]
     },
     "metadata": {},
     "output_type": "display_data"
    },
    {
     "data": {
      "application/vnd.jupyter.widget-view+json": {
       "model_id": "d2344b3e284840d9bac38aef269dc515",
       "version_major": 2,
       "version_minor": 0
      },
      "text/plain": [
       "HBox(children=(IntProgress(value=0, max=10262715), HTML(value='')))"
      ]
     },
     "metadata": {},
     "output_type": "display_data"
    },
    {
     "name": "stdout",
     "output_type": "stream",
     "text": [
      "Cosine Correlation for CC is SpearmanrResult(correlation=0.030020623734863378, pvalue=0.0)\n",
      "Manhattan Correlation for CC is SpearmanrResult(correlation=0.01864563431876151, pvalue=0.0)\n",
      "Euclidian Correlation for CC is SpearmanrResult(correlation=0.027898873598229082, pvalue=0.0)\n"
     ]
    }
   ],
   "source": [
    "buffer = \"aspect,cosineCorr,cosineCorrPVal,manhattanCorr,manhattanCorrPVal,euclidianCorr,euclidianCorrPVal \\n\"\n",
    "\n",
    "for protein_embedding_type in [\"pool\",\"avg\"]:\n",
    "    for similarity_matrix_type in [\"Sparse\",\"200\",\"500\",\"All\"]:\n",
    "        saveFileName = \"SimilarityTape_Bert\"+protein_embedding_type+\"_\"+similarity_matrix_type+\".csv\"\n",
    "        f = open(saveFileName,'w')\n",
    "        f.write(buffer)\n",
    "        for aspect in [\"MF\",\"BP\",\"CC\"]:\n",
    "            corr = calculateMSEforOntology(aspect,similarity_matrix_type,protein_embedding_type) \n",
    "            buffer = \"\" + aspect + \",\"+ str(corr[0][0])+ \",\"+ str(corr[0][1])\\\n",
    "            + \",\"+ str(corr[1][0])+ \",\"+ str(corr[1][1])+ \",\"+ str(corr[2][0])+ \",\"+ str(corr[2][1])+\"\\n\" \n",
    "            f = open(saveFileName,'a')\n",
    "            f.write(buffer) #Give your csv text here.\n",
    "            ## Python will convert \\n to os.linesep\n",
    "            f.close()\n",
    "    "
   ]
  },
  {
   "cell_type": "code",
   "execution_count": null,
   "metadata": {},
   "outputs": [],
   "source": []
  }
 ],
 "metadata": {
  "kernelspec": {
   "display_name": "Python 3",
   "language": "python",
   "name": "python3"
  },
  "language_info": {
   "codemirror_mode": {
    "name": "ipython",
    "version": 3
   },
   "file_extension": ".py",
   "mimetype": "text/x-python",
   "name": "python",
   "nbconvert_exporter": "python",
   "pygments_lexer": "ipython3",
   "version": "3.7.3"
  }
 },
 "nbformat": 4,
 "nbformat_minor": 2
}
