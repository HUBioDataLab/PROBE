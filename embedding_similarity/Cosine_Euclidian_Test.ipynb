{
 "cells": [
  {
   "cell_type": "code",
   "execution_count": 1,
   "metadata": {},
   "outputs": [],
   "source": [
    "import numpy as np\n",
    "import itertools\n",
    "from sklearn.metrics.pairwise import cosine_similarity as cosine\n",
    "from sklearn.metrics import mean_squared_error as mse\n",
    "from scipy.spatial.distance import cdist\n",
    "from numpy.linalg import norm\n",
    "from scipy.stats import spearmanr, pearsonr"
   ]
  },
  {
   "cell_type": "markdown",
   "metadata": {},
   "source": [
    "Define 5 random vectors and measure distance with cosine and normalized euclidian\n",
    "Then look for whether there is a correlation or not"
   ]
  },
  {
   "cell_type": "code",
   "execution_count": 2,
   "metadata": {},
   "outputs": [],
   "source": [
    "np.random.seed(42)\n",
    "vec1 = np.random.uniform(low=0.0, high=1.0, size=10)\n",
    "vec2 = np.random.uniform(low=0.0, high=1.0, size=10)\n",
    "vec3 = np.random.uniform(low=0.0, high=1.0, size=10)\n",
    "vec4 = np.random.uniform(low=0.0, high=1.0, size=10)\n",
    "vec5 = np.random.uniform(low=0.0, high=1.0, size=10)"
   ]
  },
  {
   "cell_type": "code",
   "execution_count": 3,
   "metadata": {},
   "outputs": [
    {
     "data": {
      "text/plain": [
       "[0.9077766271437426,\n",
       " 0.6676752688013152,\n",
       " 0.5808462593624715,\n",
       " 0.7504135946657188,\n",
       " 0.5796383476284968,\n",
       " 0.44889138491964875,\n",
       " 0.6543120275341651]"
      ]
     },
     "execution_count": 3,
     "metadata": {},
     "output_type": "execute_result"
    }
   ],
   "source": [
    "cd1 = cosine(vec1.reshape(1,-1),vec2.reshape(1,-1)).item()\n",
    "cd2 = cosine(vec1.reshape(1,-1),vec3.reshape(1,-1)).item()\n",
    "cd3 = cosine(vec1.reshape(1,-1),vec4.reshape(1,-1)).item()\n",
    "cd4 = cosine(vec1.reshape(1,-1),vec5.reshape(1,-1)).item()\n",
    "\n",
    "cd5 = cosine(vec2.reshape(1,-1),vec3.reshape(1,-1)).item()\n",
    "cd6 = cosine(vec2.reshape(1,-1),vec4.reshape(1,-1)).item()\n",
    "cd7 = cosine(vec2.reshape(1,-1),vec5.reshape(1,-1)).item()\n",
    "\n",
    "cosine_dists = [cd1,cd2,cd3,cd4,cd5,cd6,cd7]\n",
    "cosine_dists"
   ]
  },
  {
   "cell_type": "code",
   "execution_count": 4,
   "metadata": {},
   "outputs": [
    {
     "data": {
      "text/plain": [
       "[0.8160523006474709,\n",
       " 1.4245895965840158,\n",
       " 1.7440262751446725,\n",
       " 1.2579351107121808,\n",
       " 1.3743673269757979,\n",
       " 1.8406867696540528,\n",
       " 1.2721548041000448]"
      ]
     },
     "execution_count": 4,
     "metadata": {},
     "output_type": "execute_result"
    }
   ],
   "source": [
    "ed1 = cdist(vec1.reshape(1,-1), vec2.reshape(1,-1), 'euclidean')\n",
    "ed1Norm = ed1/(norm(vec1,2) + norm(vec2,2)) \n",
    "\n",
    "ed2 = cdist(vec1.reshape(1,-1), vec3.reshape(1,-1), 'euclidean')\n",
    "ed2Norm = ed2/(norm(vec1,2) + norm(vec3,2)) \n",
    "\n",
    "ed3 = cdist(vec1.reshape(1,-1), vec4.reshape(1,-1), 'euclidean')\n",
    "ed3Norm = ed3/(norm(vec1,2) + norm(vec4,2)) \n",
    "\n",
    "ed4 = cdist(vec1.reshape(1,-1), vec5.reshape(1,-1), 'euclidean')\n",
    "ed4Norm = ed4/(norm(vec1,2) + norm(vec5,2)) \n",
    "\n",
    "\n",
    "ed5 = cdist(vec2.reshape(1,-1), vec3.reshape(1,-1), 'euclidean')\n",
    "euclideanDistNorm = ed5/(norm(vec2,2) + norm(vec3,2)) \n",
    "\n",
    "ed6 = cdist(vec2.reshape(1,-1), vec4.reshape(1,-1), 'euclidean')\n",
    "euclideanDistNorm = ed6/(norm(vec2,2) + norm(vec4,2)) \n",
    "\n",
    "ed7 = cdist(vec2.reshape(1,-1), vec5.reshape(1,-1), 'euclidean')\n",
    "euclideanDistNorm = ed7/(norm(vec2,2) + norm(vec5,2)) \n",
    "\n",
    "euclidian_sims = [1-ed1.item(),1-ed2.item(),1-ed3.item(),1-ed4.item()\\\n",
    "                   ,1-ed5.item(),1-ed6.item(),1-ed7.item()]\n",
    "\n",
    "euclidian_dists = [ed1.item(),ed2.item(),ed3.item(),ed4.item()\\\n",
    "                   ,ed5.item(),ed6.item(),ed7.item()]\n",
    "euclidian_dists"
   ]
  },
  {
   "cell_type": "code",
   "execution_count": 5,
   "metadata": {},
   "outputs": [
    {
     "data": {
      "text/plain": [
       "SpearmanrResult(correlation=0.8214285714285715, pvalue=0.023448808345691505)"
      ]
     },
     "execution_count": 5,
     "metadata": {},
     "output_type": "execute_result"
    }
   ],
   "source": [
    "spearmanr(cosine_dists,euclidian_sims)"
   ]
  }
 ],
 "metadata": {
  "kernelspec": {
   "display_name": "Python 3",
   "language": "python",
   "name": "python3"
  },
  "language_info": {
   "codemirror_mode": {
    "name": "ipython",
    "version": 3
   },
   "file_extension": ".py",
   "mimetype": "text/x-python",
   "name": "python",
   "nbconvert_exporter": "python",
   "pygments_lexer": "ipython3",
   "version": "3.7.3"
  }
 },
 "nbformat": 4,
 "nbformat_minor": 2
}
