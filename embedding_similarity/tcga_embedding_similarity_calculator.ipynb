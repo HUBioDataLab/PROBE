{
 "cells": [
  {
   "cell_type": "code",
   "execution_count": 1,
   "metadata": {},
   "outputs": [],
   "source": [
    "import pandas as pd\n",
    "import numpy as np\n",
    "import gzip\n",
    "import itertools\n",
    "import multiprocessing\n",
    "import csv\n",
    "import pickle\n",
    "from sklearn.metrics.pairwise import cosine_similarity as cosine\n",
    "from sklearn.metrics import mean_squared_error as mse\n",
    "from tqdm import tqdm, tqdm_notebook\n",
    "from multiprocessing import Manager, Pool\n",
    "from scipy.spatial.distance import cdist\n",
    "from numpy.linalg import norm\n",
    "from scipy.stats import spearmanr, pearsonr\n",
    "import random"
   ]
  },
  {
   "cell_type": "code",
   "execution_count": 2,
   "metadata": {},
   "outputs": [],
   "source": [
    "# UNIPROT data for mapping between UNIPROT accession numbers and UNIPROT entry names\n",
    "uniprot_metadata_directory = \"/media/DATA/serbulent/DATA/Thesis/ReviewPaper/Uniprot/\"\n",
    "uniprot_metadata_file_path = uniprot_metadata_directory + \"uniprot_human_all.tab\"\n",
    "uniprot_vars = ['Entry','Entry name','Status','Protein names','Gene names','Organism','Length','Annotation' ]\n",
    "uniprot_df = pd.read_csv(uniprot_metadata_file_path, sep='\\t')"
   ]
  },
  {
   "cell_type": "code",
   "execution_count": 3,
   "metadata": {},
   "outputs": [],
   "source": [
    "colnames=['Gene', 'Vector'] \n",
    "representationFile = \"/media/DATA/serbulent/DATA/Thesis/ReviewPaper/results/tcga_embedding/gemb_normal.csv\"\n",
    "tcga_embedding = pd.read_csv(representationFile,delimiter=',',encoding='utf-8', names=None, header=None,skiprows=1)"
   ]
  },
  {
   "cell_type": "code",
   "execution_count": 4,
   "metadata": {},
   "outputs": [
    {
     "data": {
      "application/vnd.jupyter.widget-view+json": {
       "model_id": "1af413458cf44a068f2780890cabed24",
       "version_major": 2,
       "version_minor": 0
      },
      "text/plain": [
       "HBox(children=(IntProgress(value=0, max=20531), HTML(value='')))"
      ]
     },
     "metadata": {},
     "output_type": "display_data"
    },
    {
     "name": "stdout",
     "output_type": "stream",
     "text": [
      "\n"
     ]
    }
   ],
   "source": [
    "tcga_dataframe = pd.DataFrame(columns = ['Gene', 'Protein_Entry', 'Vector'])\n",
    "\n",
    "for index, row in tqdm_notebook(tcga_embedding.iterrows(), total = len(tcga_embedding)):\n",
    "    gene_name = row[0]\n",
    "    vector = list(row[1:51])\n",
    "    protein_id = \"\"\n",
    "    tcga_dataframe = tcga_dataframe.append({'Gene': gene_name,'Protein_Entry':protein_id,'Vector':vector},ignore_index=True)"
   ]
  },
  {
   "cell_type": "code",
   "execution_count": 5,
   "metadata": {},
   "outputs": [],
   "source": [
    "tcgaGeneList = list(set(tcga_dataframe['Gene']))"
   ]
  },
  {
   "cell_type": "code",
   "execution_count": 6,
   "metadata": {},
   "outputs": [
    {
     "data": {
      "application/vnd.jupyter.widget-view+json": {
       "model_id": "8b74758177eb404a9cf647cec1f565f0",
       "version_major": 2,
       "version_minor": 0
      },
      "text/plain": [
       "HBox(children=(IntProgress(value=0, max=20421), HTML(value='')))"
      ]
     },
     "metadata": {},
     "output_type": "display_data"
    },
    {
     "name": "stdout",
     "output_type": "stream",
     "text": [
      "\n"
     ]
    }
   ],
   "source": [
    "tcga_embedding = pd.DataFrame(columns=['Gene', 'Entry', 'Vector'])\n",
    "\n",
    "for index, row in tqdm_notebook(uniprot_df.iterrows(), total= len(uniprot_df)):\n",
    "    gene_names = str(row['Gene names']).split()\n",
    "    new_gene = True\n",
    "    for gene_name in gene_names:\n",
    "        if gene_name in tcgaGeneList and new_gene == True:\n",
    "            vector = tcga_dataframe.query(\"Gene == @gene_name\")['Vector'].item()           \n",
    "            tcga_embedding = tcga_embedding.append({'Gene': gene_name,'Entry': row['Entry'],\\\n",
    "                                                          'Vector': vector},ignore_index=True)\n",
    "            new_gene = False\n",
    "        "
   ]
  },
  {
   "cell_type": "code",
   "execution_count": 7,
   "metadata": {
    "scrolled": true
   },
   "outputs": [
    {
     "data": {
      "text/html": [
       "<div>\n",
       "<style scoped>\n",
       "    .dataframe tbody tr th:only-of-type {\n",
       "        vertical-align: middle;\n",
       "    }\n",
       "\n",
       "    .dataframe tbody tr th {\n",
       "        vertical-align: top;\n",
       "    }\n",
       "\n",
       "    .dataframe thead th {\n",
       "        text-align: right;\n",
       "    }\n",
       "</style>\n",
       "<table border=\"1\" class=\"dataframe\">\n",
       "  <thead>\n",
       "    <tr style=\"text-align: right;\">\n",
       "      <th></th>\n",
       "      <th>Gene</th>\n",
       "      <th>Entry</th>\n",
       "      <th>Vector</th>\n",
       "    </tr>\n",
       "  </thead>\n",
       "  <tbody>\n",
       "    <tr>\n",
       "      <th>0</th>\n",
       "      <td>TEX13A</td>\n",
       "      <td>Q9BXU3</td>\n",
       "      <td>[-0.16341070000000002, 0.13177536, 0.027271714...</td>\n",
       "    </tr>\n",
       "    <tr>\n",
       "      <th>1</th>\n",
       "      <td>LARS2</td>\n",
       "      <td>Q15031</td>\n",
       "      <td>[0.012629689, 0.01917274, -0.022130901, 0.0146...</td>\n",
       "    </tr>\n",
       "    <tr>\n",
       "      <th>2</th>\n",
       "      <td>TXNDC11</td>\n",
       "      <td>Q6PKC3</td>\n",
       "      <td>[0.04593855, -0.012116345, -0.11811426, 0.0997...</td>\n",
       "    </tr>\n",
       "    <tr>\n",
       "      <th>3</th>\n",
       "      <td>TXK</td>\n",
       "      <td>P42681</td>\n",
       "      <td>[0.038961213, 0.069318585, 0.00691180160000000...</td>\n",
       "    </tr>\n",
       "    <tr>\n",
       "      <th>4</th>\n",
       "      <td>TXLNA</td>\n",
       "      <td>P40222</td>\n",
       "      <td>[0.03339354, -0.017174669, -0.021231595, 0.054...</td>\n",
       "    </tr>\n",
       "  </tbody>\n",
       "</table>\n",
       "</div>"
      ],
      "text/plain": [
       "      Gene   Entry                                             Vector\n",
       "0   TEX13A  Q9BXU3  [-0.16341070000000002, 0.13177536, 0.027271714...\n",
       "1    LARS2  Q15031  [0.012629689, 0.01917274, -0.022130901, 0.0146...\n",
       "2  TXNDC11  Q6PKC3  [0.04593855, -0.012116345, -0.11811426, 0.0997...\n",
       "3      TXK  P42681  [0.038961213, 0.069318585, 0.00691180160000000...\n",
       "4    TXLNA  P40222  [0.03339354, -0.017174669, -0.021231595, 0.054..."
      ]
     },
     "execution_count": 7,
     "metadata": {},
     "output_type": "execute_result"
    }
   ],
   "source": [
    "tcga_embedding[0:5]"
   ]
  },
  {
   "cell_type": "code",
   "execution_count": 8,
   "metadata": {},
   "outputs": [],
   "source": [
    "tcga_embedding.to_pickle(\"/media/DATA/serbulent/DATA/Thesis/ReviewPaper/results/embedding_dataframes/tcga_embedding_dataframe.pkl\")"
   ]
  },
  {
   "cell_type": "code",
   "execution_count": 9,
   "metadata": {},
   "outputs": [],
   "source": [
    "tcga_embedding.to_csv(\"/media/DATA/serbulent/DATA/Thesis/ReviewPaper/results/embedding_dataframes/tcga_embedding_dataframe.csv\")"
   ]
  },
  {
   "cell_type": "code",
   "execution_count": 10,
   "metadata": {},
   "outputs": [],
   "source": [
    "tcgaProteinList = list(tcga_embedding['Entry'])"
   ]
  },
  {
   "cell_type": "code",
   "execution_count": 11,
   "metadata": {
    "scrolled": true
   },
   "outputs": [
    {
     "data": {
      "text/plain": [
       "'\\n#This part was used to be sure parallel and sequential versions gives same results\\ncosine_distance_list1 = []\\nreal_distance_list1 = []\\n\\nsimilarityMatrixFileName = \"\"\\nsimilarityMatrixFileName = \"/media/DATA/serbulent/Code/Thesis/ReviewPaper/preprocess/human_MF_protienSimilarityMatrix.csv\"\\n#similarityMatrixFileName = \"/media/DATA/serbulent/Code/Thesis/ReviewPaper/preprocess/human_BP_protienSimilarityMatrix.csv\"\\n#similarityMatrixFileName = \"/media/DATA/serbulent/Code/Thesis/ReviewPaper/preprocess/human_CC_protienSimilarityMatrix.csv\"\\n\\nhuman_proteinSimilarityMatrix = pd.read_csv(similarityMatrixFileName)\\nhuman_proteinSimilarityMatrix.set_index(human_proteinSimilarityMatrix.columns, inplace = True)\\n\\nproteinListTmp = human_proteinSimilarityMatrix.columns[0:10]\\nfor i,protein1 in tqdm_notebook(enumerate(proteinListTmp)):\\n    for j in range(len(proteinListTmp)):\\n        if j>i:\\n            protein2 = proteinListTmp[j]\\n            if protein1 in tcgaProteinList and protein2 in tcgaProteinList:\\n                prot1vec = np.asarray(tcga_embedding.query(\"Entry == @protein1\")[\\'Vector\\'].item())\\n                prot2vec = np.asarray(tcga_embedding.query(\"Entry == @protein2\")[\\'Vector\\'].item())\\n                #cosine will return in shape of input vectors first dimension\\n                cosine_dist = cosine(prot1vec.reshape(1,-1),prot2vec.reshape(1,-1)).item()\\n                cosine_distance_list1.append(cosine_dist)\\n                real_distance_list1.append(human_proteinSimilarityMatrix.loc[protein1,protein2])\\n\\nprint(len(cosine_distance_list1))\\nprint(spearmanr(real_distance_list1,cosine_distance_list1))\\n\\n# MF corr 0.26526862117740185\\n# BP corr 0.12727272727272726\\n# CC corr 0.0625226474707022\\n'"
      ]
     },
     "execution_count": 11,
     "metadata": {},
     "output_type": "execute_result"
    }
   ],
   "source": [
    "'''\n",
    "#This part was used to be sure parallel and sequential versions gives same results\n",
    "cosine_distance_list1 = []\n",
    "real_distance_list1 = []\n",
    "\n",
    "similarityMatrixFileName = \"\"\n",
    "similarityMatrixFileName = \"/media/DATA/serbulent/Code/Thesis/ReviewPaper/preprocess/human_MF_protienSimilarityMatrix.csv\"\n",
    "#similarityMatrixFileName = \"/media/DATA/serbulent/Code/Thesis/ReviewPaper/preprocess/human_BP_protienSimilarityMatrix.csv\"\n",
    "#similarityMatrixFileName = \"/media/DATA/serbulent/Code/Thesis/ReviewPaper/preprocess/human_CC_protienSimilarityMatrix.csv\"\n",
    "\n",
    "human_proteinSimilarityMatrix = pd.read_csv(similarityMatrixFileName)\n",
    "human_proteinSimilarityMatrix.set_index(human_proteinSimilarityMatrix.columns, inplace = True)\n",
    "\n",
    "proteinListTmp = human_proteinSimilarityMatrix.columns[0:10]\n",
    "for i,protein1 in tqdm_notebook(enumerate(proteinListTmp)):\n",
    "    for j in range(len(proteinListTmp)):\n",
    "        if j>i:\n",
    "            protein2 = proteinListTmp[j]\n",
    "            if protein1 in tcgaProteinList and protein2 in tcgaProteinList:\n",
    "                prot1vec = np.asarray(tcga_embedding.query(\"Entry == @protein1\")['Vector'].item())\n",
    "                prot2vec = np.asarray(tcga_embedding.query(\"Entry == @protein2\")['Vector'].item())\n",
    "                #cosine will return in shape of input vectors first dimension\n",
    "                cosine_dist = cosine(prot1vec.reshape(1,-1),prot2vec.reshape(1,-1)).item()\n",
    "                cosine_distance_list1.append(cosine_dist)\n",
    "                real_distance_list1.append(human_proteinSimilarityMatrix.loc[protein1,protein2])\n",
    "\n",
    "print(len(cosine_distance_list1))\n",
    "print(spearmanr(real_distance_list1,cosine_distance_list1))\n",
    "\n",
    "# MF corr 0.26526862117740185\n",
    "# BP corr 0.12727272727272726\n",
    "# CC corr 0.0625226474707022\n",
    "'''"
   ]
  },
  {
   "cell_type": "code",
   "execution_count": 12,
   "metadata": {},
   "outputs": [],
   "source": [
    "# define similarity_list and proteinList as global variables\n",
    "proteinList = []\n",
    "manager = Manager()\n",
    "similarity_list = manager.list()\n",
    "proteinListNew = manager.list()\n",
    "\n",
    "def parallelSimilarity(paramList):\n",
    "    i = paramList[0]\n",
    "    j = paramList[1] \n",
    "    aspect = paramList[2]\n",
    "    if j>i:\n",
    "        protein1 = proteinListNew[i]\n",
    "        protein2 = proteinListNew[j]\n",
    "        if protein1 in tcgaProteinList and protein2 in tcgaProteinList:\n",
    "            prot1vec = np.asarray(tcga_embedding.query(\"Entry == @protein1\")['Vector'].item())\n",
    "            prot2vec = np.asarray(tcga_embedding.query(\"Entry == @protein2\")['Vector'].item())\n",
    "            #print(str(protein1) + str(prot1vec))\n",
    "            #print(str(protein2) + str(prot2vec))\n",
    "            #cosine will return in shape of input vectors first dimension\n",
    "            cos = cosine(prot1vec.reshape(1,-1),prot2vec.reshape(1,-1)).item()\n",
    "            manhattanDist = cdist(prot1vec.reshape(1,-1), prot2vec.reshape(1,-1), 'cityblock')\n",
    "            manhattanDistNorm = manhattanDist/(norm(prot1vec,1) + norm(prot2vec,1))\n",
    "            euclideanDist = cdist(prot1vec.reshape(1,-1), prot2vec.reshape(1,-1), 'euclidean')\n",
    "            euclideanDistNorm = euclideanDist/(norm(prot1vec,2) + norm(prot2vec,2)) \n",
    "            real = paramList[3]\n",
    "            #real = human_protienSimilarityMatrix.loc[protein1,protein2]\n",
    "            # To ensure real and calculated values appended to same postion they saved similtanously and then decoupled\n",
    "            #Similarity = 1-distance\n",
    "            similarity_list.append((real,1-cos,1-manhattanDistNorm.item(),1-euclideanDistNorm.item()))\n",
    "    return similarity_list"
   ]
  },
  {
   "cell_type": "code",
   "execution_count": 16,
   "metadata": {},
   "outputs": [],
   "source": [
    "def calculateMSEforOntology(aspect,sparse=False):\n",
    "    \n",
    "    #Clear lists before each aspect\n",
    "    similarity_list[:] = []\n",
    "    proteinListNew[:] = []\n",
    "\n",
    "    #similarityMatrixFileName = \"/media/DATA/serbulent/Code/Thesis/ReviewPaper/preprocess/human_\"+aspect+\"_protienSimilarityMatrix.csv\"\n",
    "    similarityMatrixFileName = \"/media/DATA/serbulent/Code/Thesis/ReviewPaper/preprocess/human_\"\\\n",
    "    +aspect+\"_proteinSimilarityMatrix_for_highest_annotated_500_proteins.csv\"\n",
    "\n",
    "\n",
    "    human_proteinSimilarityMatrix = pd.read_csv(similarityMatrixFileName)\n",
    "    human_proteinSimilarityMatrix.set_index(human_proteinSimilarityMatrix.columns, inplace = True)\n",
    "    proteinList = human_proteinSimilarityMatrix.columns\n",
    "    \n",
    "    #proteinListNew is referanced using Manager\n",
    "    for prot in proteinList:\n",
    "        proteinListNew.append(prot)\n",
    "        \n",
    "    if sparse:\n",
    "        #sparsified_similarities = np.load(\"SparsifiedSimilarites_for_highest_500.npy\")\n",
    "        sparse_sim_dir = \"/media/DATA/serbulent/Code/Thesis/ReviewPaper/embedding_similarity/auxilary_input/\"\n",
    "        sparsified_similarity_coordinates = np.load(sparse_sim_dir+\"SparsifiedSimilarityCoordinates_\"+aspect+\"_for_highest_500.npy\")\n",
    "        protParamList = sparsified_similarity_coordinates\n",
    "    else:     \n",
    "        i = range(len(proteinList))\n",
    "        j = range(len(proteinList))\n",
    "        protParamList = list(itertools.product(i,j))\n",
    "    protParamListNew = []\n",
    "    # Prepare parameters for parallel processing these parameters will be \n",
    "    # used concurrently by different processes\n",
    "    for tup in tqdm_notebook(protParamList):\n",
    "        i = tup[0]\n",
    "        j = tup[1]\n",
    "        \n",
    "        if sparse:\n",
    "            protein1 = proteinListNew[i]\n",
    "            protein2 = proteinListNew[j]\n",
    "            real = human_proteinSimilarityMatrix.loc[protein1,protein2]\n",
    "            tupNew = (tup[0],tup[1],aspect,real)\n",
    "            protParamListNew.append(tupNew)\n",
    "        else:\n",
    "            if j > i:\n",
    "                protein1 = proteinListNew[i]\n",
    "                protein2 = proteinListNew[j]\n",
    "                real = human_proteinSimilarityMatrix.loc[protein1,protein2]\n",
    "                tupNew = (tup[0],tup[1],aspect,real)\n",
    "                protParamListNew.append(tupNew)\n",
    "    total_task_num=len(protParamListNew)\n",
    "    pool = Pool()\n",
    "    similarity_listRet = []\n",
    "    for similarity_listRet in tqdm_notebook(pool.imap_unordered(parallelSimilarity, protParamListNew), total=total_task_num):\n",
    "        pass\n",
    "    pool.close()\n",
    "    pool.join()\n",
    "\n",
    "    real_distance_list = [value[0] for value in similarity_listRet]\n",
    "    cosine_distance_list = [value[1] for value in similarity_listRet]\n",
    "    manhattan_distance_list = [value[2] for value in similarity_listRet]\n",
    "    euclidian_distance_list = [value[3] for value in similarity_listRet]\n",
    "\n",
    "    #mseValue = mse(real_distance_list,cosine_distance_list)\n",
    "    cosineCorr = spearmanr(real_distance_list, cosine_distance_list)\n",
    "    manhattanCorr = spearmanr(real_distance_list, manhattan_distance_list)\n",
    "    euclidianCorr = spearmanr(real_distance_list, euclidian_distance_list)\n",
    "    \n",
    "    random.seed(42)\n",
    "    random_list = []\n",
    "    for i in range(len(real_distance_list)):\n",
    "        random_list.append(random.uniform(0, 1))\n",
    "    \n",
    "    if sparse:\n",
    "        cosine_randomCorr = spearmanr(cosine_distance_list, random_list)\n",
    "        manhattan_randomCorr = spearmanr(manhattan_distance_list, random_list)\n",
    "        euclidian_randomCorr = spearmanr(euclidian_distance_list, random_list)\n",
    "        print(\"Cosine Random Correlation for \"+aspect+\" is \" + str(cosine_randomCorr))\n",
    "        print(\"Manhattan Random Correlation for \"+aspect+\" is \" + str(manhattan_randomCorr))\n",
    "        print(\"Euclidian Random Correlation for \"+aspect+\" is \" + str(euclidian_randomCorr))\n",
    "    \n",
    "    \n",
    "    print(\"Cosine Correlation for \"+aspect+\" is \" + str(cosineCorr))\n",
    "    print(\"Manhattan Correlation for \"+aspect+\" is \" + str(manhattanCorr))\n",
    "    print(\"Euclidian Correlation for \"+aspect+\" is \" + str(euclidianCorr))\n",
    "\n",
    "    if sparse:\n",
    "        return (cosineCorr,manhattanCorr,euclidianCorr,cosine_randomCorr,manhattan_randomCorr,euclidian_randomCorr)\n",
    "    else:\n",
    "        return (cosineCorr,manhattanCorr,euclidianCorr)\n",
    "    "
   ]
  },
  {
   "cell_type": "code",
   "execution_count": 17,
   "metadata": {},
   "outputs": [
    {
     "data": {
      "text/plain": [
       "'\\nbuffer = \"aspect,cosineCorr,cosineCorrPVal,manhattanCorr,manhattanCorrPVal,euclidianCorr,euclidianCorrPVal \\n\"\\n#saveFileName = \"SimilarityTCGA_Embedding.csv\"\\nsaveFileName = \"SimilarityTCGA_Embedding_highest_500.csv\"\\nf = open(saveFileName,\\'w\\')\\nf.write(buffer)\\n\\nfor aspect in [\"MF\",\"BP\",\"CC\"]:\\n    corr = calculateMSEforOntology(aspect) \\n    buffer = \"\" + aspect + \",\"+ str(corr[0][0])+ \",\"+ str(corr[0][1])    + \",\"+ str(corr[1][0])+ \",\"+ str(corr[1][1])+ \",\"+ str(corr[2][0])+ \",\"+ str(corr[2][1])+\"\\n\" \\n    f = open(saveFileName,\\'a\\')\\n    f.write(buffer) #Give your csv text here.\\n    ## Python will convert \\n to os.linesep\\n    f.close()\\n\\n# MF corr 0.26526862117740185\\n# BP corr 0.12727272727272726\\n# CC corr 0.0625226474707022\\n\\n'"
      ]
     },
     "execution_count": 17,
     "metadata": {},
     "output_type": "execute_result"
    }
   ],
   "source": [
    "'''\n",
    "buffer = \"aspect,cosineCorr,cosineCorrPVal,manhattanCorr,manhattanCorrPVal,euclidianCorr,euclidianCorrPVal \\n\"\n",
    "#saveFileName = \"SimilarityTCGA_Embedding.csv\"\n",
    "saveFileName = \"SimilarityTCGA_Embedding_highest_500.csv\"\n",
    "f = open(saveFileName,'w')\n",
    "f.write(buffer)\n",
    "\n",
    "for aspect in [\"MF\",\"BP\",\"CC\"]:\n",
    "    corr = calculateMSEforOntology(aspect) \n",
    "    buffer = \"\" + aspect + \",\"+ str(corr[0][0])+ \",\"+ str(corr[0][1])\\\n",
    "    + \",\"+ str(corr[1][0])+ \",\"+ str(corr[1][1])+ \",\"+ str(corr[2][0])+ \",\"+ str(corr[2][1])+\"\\n\" \n",
    "    f = open(saveFileName,'a')\n",
    "    f.write(buffer) #Give your csv text here.\n",
    "    ## Python will convert \\n to os.linesep\n",
    "    f.close()\n",
    "\n",
    "# MF corr 0.26526862117740185\n",
    "# BP corr 0.12727272727272726\n",
    "# CC corr 0.0625226474707022\n",
    "\n",
    "'''"
   ]
  },
  {
   "cell_type": "code",
   "execution_count": 18,
   "metadata": {},
   "outputs": [
    {
     "data": {
      "application/vnd.jupyter.widget-view+json": {
       "model_id": "373eabbd940948d5a65c0187b1fb7221",
       "version_major": 2,
       "version_minor": 0
      },
      "text/plain": [
       "HBox(children=(IntProgress(value=0, max=247), HTML(value='')))"
      ]
     },
     "metadata": {},
     "output_type": "display_data"
    },
    {
     "name": "stdout",
     "output_type": "stream",
     "text": [
      "\n"
     ]
    },
    {
     "data": {
      "application/vnd.jupyter.widget-view+json": {
       "model_id": "3dc28b8ac3a74de98267ad01fd9acffa",
       "version_major": 2,
       "version_minor": 0
      },
      "text/plain": [
       "HBox(children=(IntProgress(value=0, max=247), HTML(value='')))"
      ]
     },
     "metadata": {},
     "output_type": "display_data"
    },
    {
     "name": "stdout",
     "output_type": "stream",
     "text": [
      "\n",
      "Cosine Random Correlation for MF is SpearmanrResult(correlation=-0.017621512908510887, pvalue=0.7833190749517686)\n",
      "Manhattan Random Correlation for MF is SpearmanrResult(correlation=0.006071866882429874, pvalue=0.9245139277839889)\n",
      "Euclidian Random Correlation for MF is SpearmanrResult(correlation=0.010656096150319512, pvalue=0.867930461432932)\n",
      "Cosine Correlation for MF is SpearmanrResult(correlation=-0.039360126394786206, pvalue=0.5389289889673823)\n",
      "Manhattan Correlation for MF is SpearmanrResult(correlation=0.037544813521340197, pvalue=0.55782521975525)\n",
      "Euclidian Correlation for MF is SpearmanrResult(correlation=0.04983686769859518, pvalue=0.4364727787706798)\n"
     ]
    },
    {
     "data": {
      "application/vnd.jupyter.widget-view+json": {
       "model_id": "d6ac0da062814b29bb972cbaf335714e",
       "version_major": 2,
       "version_minor": 0
      },
      "text/plain": [
       "HBox(children=(IntProgress(value=0, max=247), HTML(value='')))"
      ]
     },
     "metadata": {},
     "output_type": "display_data"
    },
    {
     "name": "stdout",
     "output_type": "stream",
     "text": [
      "\n"
     ]
    },
    {
     "data": {
      "application/vnd.jupyter.widget-view+json": {
       "model_id": "176e0743834f44d58517d5fbba980f4c",
       "version_major": 2,
       "version_minor": 0
      },
      "text/plain": [
       "HBox(children=(IntProgress(value=0, max=247), HTML(value='')))"
      ]
     },
     "metadata": {},
     "output_type": "display_data"
    },
    {
     "name": "stdout",
     "output_type": "stream",
     "text": [
      "\n",
      "Cosine Random Correlation for BP is SpearmanrResult(correlation=0.0012032668974985424, pvalue=0.9849887640655707)\n",
      "Manhattan Random Correlation for BP is SpearmanrResult(correlation=-0.004430825292972794, pvalue=0.9447643623853753)\n",
      "Euclidian Random Correlation for BP is SpearmanrResult(correlation=-0.0010153311014630322, pvalue=0.9873331244174579)\n",
      "Cosine Correlation for BP is SpearmanrResult(correlation=-0.4925860921140228, pvalue=1.6732887251948711e-16)\n",
      "Manhattan Correlation for BP is SpearmanrResult(correlation=0.4822408636127631, pvalue=8.634372908060867e-16)\n",
      "Euclidian Correlation for BP is SpearmanrResult(correlation=0.4962874716901798, pvalue=9.176679617487395e-17)\n"
     ]
    },
    {
     "data": {
      "application/vnd.jupyter.widget-view+json": {
       "model_id": "e928835414a34f70af8e8141d5f26684",
       "version_major": 2,
       "version_minor": 0
      },
      "text/plain": [
       "HBox(children=(IntProgress(value=0, max=245), HTML(value='')))"
      ]
     },
     "metadata": {},
     "output_type": "display_data"
    },
    {
     "name": "stdout",
     "output_type": "stream",
     "text": [
      "\n"
     ]
    },
    {
     "data": {
      "application/vnd.jupyter.widget-view+json": {
       "model_id": "aecb4e52bba04fa79741850771166e62",
       "version_major": 2,
       "version_minor": 0
      },
      "text/plain": [
       "HBox(children=(IntProgress(value=0, max=245), HTML(value='')))"
      ]
     },
     "metadata": {},
     "output_type": "display_data"
    },
    {
     "name": "stdout",
     "output_type": "stream",
     "text": [
      "\n",
      "Cosine Random Correlation for CC is SpearmanrResult(correlation=0.0313326483325226, pvalue=0.6276642496376734)\n",
      "Manhattan Random Correlation for CC is SpearmanrResult(correlation=-0.03121071988166167, pvalue=0.6290043389327324)\n",
      "Euclidian Random Correlation for CC is SpearmanrResult(correlation=-0.025290416212080995, pvalue=0.6954630425306461)\n",
      "Cosine Correlation for CC is SpearmanrResult(correlation=-0.4738956690421547, pvalue=5.947607454519805e-15)\n",
      "Manhattan Correlation for CC is SpearmanrResult(correlation=0.5033396964743626, pvalue=6.003047049037164e-17)\n",
      "Euclidian Correlation for CC is SpearmanrResult(correlation=0.5055615038011618, pvalue=4.166986047730295e-17)\n"
     ]
    }
   ],
   "source": [
    "buffer = \"aspect,cosineCorr,cosineCorrPVal,manhattanCorr,manhattanCorrPVal,euclidianCorr,euclidianCorrPVal\\\n",
    ",random_cosineCorr,random_cosineCorrPVal,random_manhattanCorr,random_manhattanCorrPVal,random_euclidianCorr,random_euclidianCorrPVal\\n\"\n",
    "#saveFileName = \"SimilarityGene2Vec.csv\"\n",
    "saveFileName = \"SimilarityTCGA_Embedding_Sparse_highest_500.csv\"\n",
    "f = open(saveFileName,'w')\n",
    "f.write(buffer)\n",
    "\n",
    "for aspect in [\"MF\",\"BP\",\"CC\"]:\n",
    "    corr = calculateMSEforOntology(aspect,True) \n",
    "    buffer = \"\" + aspect + \",\"+ str(corr[0][0])+ \",\"+ str(corr[0][1])\\\n",
    "    + \",\"+ str(corr[1][0])+ \",\"+ str(corr[1][1])+ \",\"+ str(corr[2][0])+ \",\"+ str(corr[2][1])+\"\\n\" \n",
    "    f = open(saveFileName,'a')\n",
    "    f.write(buffer) #Give your csv text here.\n",
    "    ## Python will convert \\n to os.linesep\n",
    "    f.close()"
   ]
  },
  {
   "cell_type": "code",
   "execution_count": null,
   "metadata": {},
   "outputs": [],
   "source": []
  }
 ],
 "metadata": {
  "kernelspec": {
   "display_name": "Python 3",
   "language": "python",
   "name": "python3"
  },
  "language_info": {
   "codemirror_mode": {
    "name": "ipython",
    "version": 3
   },
   "file_extension": ".py",
   "mimetype": "text/x-python",
   "name": "python",
   "nbconvert_exporter": "python",
   "pygments_lexer": "ipython3",
   "version": "3.7.3"
  }
 },
 "nbformat": 4,
 "nbformat_minor": 2
}
