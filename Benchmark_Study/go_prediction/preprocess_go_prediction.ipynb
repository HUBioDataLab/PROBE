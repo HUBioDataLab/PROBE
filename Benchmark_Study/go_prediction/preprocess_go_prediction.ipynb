{
 "cells": [
  {
   "cell_type": "code",
   "execution_count": 5,
   "metadata": {},
   "outputs": [],
   "source": [
    "import os\n",
    "import pandas as pd\n",
    "import numpy as np\n",
    "from tqdm import tqdm_notebook\n",
    "from goatools.obo_parser import GODag\n",
    "from goatools.rpt.rpt_lev_depth import RptLevDepth\n",
    "from goatools.associations import dnld_assc\n",
    "from goatools.semantic import TermCounts, get_info_content\n",
    "from goatools.semantic import lin_sim\n",
    "from goatools.semantic import semantic_distance\n",
    "import pixiedust"
   ]
  },
  {
   "cell_type": "code",
   "execution_count": 6,
   "metadata": {},
   "outputs": [],
   "source": [
    "save_path = \"/media/DATA/serbulent/DATA/Thesis/ReviewPaper/preprocess/go_related_data/\""
   ]
  },
  {
   "cell_type": "code",
   "execution_count": 7,
   "metadata": {},
   "outputs": [],
   "source": [
    "path_of_tsv = \"/media/DATA/serbulent/DATA/Thesis/ReviewPaper/preprocess/go_related_data/manual_GOA_20191024_propagated.tsv\"\n",
    "propagated_go_terms = pd.read_csv(path_of_tsv, sep='\\t')"
   ]
  },
  {
   "cell_type": "code",
   "execution_count": 8,
   "metadata": {},
   "outputs": [
    {
     "data": {
      "text/plain": [
       "12539927"
      ]
     },
     "execution_count": 8,
     "metadata": {},
     "output_type": "execute_result"
    }
   ],
   "source": [
    "len(propagated_go_terms)"
   ]
  },
  {
   "cell_type": "markdown",
   "metadata": {},
   "source": [
    "Look for duplicated rows"
   ]
  },
  {
   "cell_type": "code",
   "execution_count": 9,
   "metadata": {},
   "outputs": [
    {
     "name": "stdout",
     "output_type": "stream",
     "text": [
      "Duplicate Rows except first occurrence based on all columns are :\n",
      "Empty DataFrame\n",
      "Columns: [GO_ID, DB_OBJECT_ID, GPAD_QUALIFIER, ECO_ID, GO_EVIDENCE, TAX_ID, ASSIGNED_BY]\n",
      "Index: []\n"
     ]
    }
   ],
   "source": [
    "duplicateRowsDF = propagated_go_terms[propagated_go_terms.duplicated()]\n",
    " \n",
    "print(\"Duplicate Rows except first occurrence based on all columns are :\")\n",
    "print(duplicateRowsDF)"
   ]
  },
  {
   "cell_type": "markdown",
   "metadata": {},
   "source": [
    "Propagation control"
   ]
  },
  {
   "cell_type": "code",
   "execution_count": 10,
   "metadata": {},
   "outputs": [
    {
     "data": {
      "text/html": [
       "<div>\n",
       "<style scoped>\n",
       "    .dataframe tbody tr th:only-of-type {\n",
       "        vertical-align: middle;\n",
       "    }\n",
       "\n",
       "    .dataframe tbody tr th {\n",
       "        vertical-align: top;\n",
       "    }\n",
       "\n",
       "    .dataframe thead th {\n",
       "        text-align: right;\n",
       "    }\n",
       "</style>\n",
       "<table border=\"1\" class=\"dataframe\">\n",
       "  <thead>\n",
       "    <tr style=\"text-align: right;\">\n",
       "      <th></th>\n",
       "      <th>GO_ID</th>\n",
       "      <th>DB_OBJECT_ID</th>\n",
       "      <th>GPAD_QUALIFIER</th>\n",
       "      <th>ECO_ID</th>\n",
       "      <th>GO_EVIDENCE</th>\n",
       "      <th>TAX_ID</th>\n",
       "      <th>ASSIGNED_BY</th>\n",
       "    </tr>\n",
       "  </thead>\n",
       "  <tbody>\n",
       "    <tr>\n",
       "      <th>1755773</th>\n",
       "      <td>GO:0042802</td>\n",
       "      <td>P02767</td>\n",
       "      <td>enables</td>\n",
       "      <td>ECO:0000266</td>\n",
       "      <td>ISO</td>\n",
       "      <td>10116</td>\n",
       "      <td>RGD</td>\n",
       "    </tr>\n",
       "  </tbody>\n",
       "</table>\n",
       "</div>"
      ],
      "text/plain": [
       "              GO_ID DB_OBJECT_ID GPAD_QUALIFIER       ECO_ID GO_EVIDENCE  \\\n",
       "1755773  GO:0042802       P02767        enables  ECO:0000266         ISO   \n",
       "\n",
       "         TAX_ID ASSIGNED_BY  \n",
       "1755773   10116         RGD  "
      ]
     },
     "execution_count": 10,
     "metadata": {},
     "output_type": "execute_result"
    }
   ],
   "source": [
    "propagated_go_terms.loc[(propagated_go_terms['GO_ID'] == 'GO:0042802') & (propagated_go_terms['DB_OBJECT_ID'] == 'P02767')]"
   ]
  },
  {
   "cell_type": "code",
   "execution_count": 11,
   "metadata": {},
   "outputs": [
    {
     "data": {
      "text/html": [
       "<div>\n",
       "<style scoped>\n",
       "    .dataframe tbody tr th:only-of-type {\n",
       "        vertical-align: middle;\n",
       "    }\n",
       "\n",
       "    .dataframe tbody tr th {\n",
       "        vertical-align: top;\n",
       "    }\n",
       "\n",
       "    .dataframe thead th {\n",
       "        text-align: right;\n",
       "    }\n",
       "</style>\n",
       "<table border=\"1\" class=\"dataframe\">\n",
       "  <thead>\n",
       "    <tr style=\"text-align: right;\">\n",
       "      <th></th>\n",
       "      <th>GO_ID</th>\n",
       "      <th>DB_OBJECT_ID</th>\n",
       "      <th>GPAD_QUALIFIER</th>\n",
       "      <th>ECO_ID</th>\n",
       "      <th>GO_EVIDENCE</th>\n",
       "      <th>TAX_ID</th>\n",
       "      <th>ASSIGNED_BY</th>\n",
       "    </tr>\n",
       "  </thead>\n",
       "  <tbody>\n",
       "    <tr>\n",
       "      <th>195958</th>\n",
       "      <td>GO:0003674</td>\n",
       "      <td>P02767</td>\n",
       "      <td>enables</td>\n",
       "      <td>ECO:0000266</td>\n",
       "      <td>ISO</td>\n",
       "      <td>10116</td>\n",
       "      <td>RGD</td>\n",
       "    </tr>\n",
       "    <tr>\n",
       "      <th>316688</th>\n",
       "      <td>GO:0003674</td>\n",
       "      <td>P02767</td>\n",
       "      <td>enables</td>\n",
       "      <td>ECO:0000318</td>\n",
       "      <td>IBA</td>\n",
       "      <td>10116</td>\n",
       "      <td>REFG</td>\n",
       "    </tr>\n",
       "    <tr>\n",
       "      <th>373544</th>\n",
       "      <td>GO:0003674</td>\n",
       "      <td>P02767</td>\n",
       "      <td>enables</td>\n",
       "      <td>ECO:0000314</td>\n",
       "      <td>IDA</td>\n",
       "      <td>10116</td>\n",
       "      <td>RGD</td>\n",
       "    </tr>\n",
       "  </tbody>\n",
       "</table>\n",
       "</div>"
      ],
      "text/plain": [
       "             GO_ID DB_OBJECT_ID GPAD_QUALIFIER       ECO_ID GO_EVIDENCE  \\\n",
       "195958  GO:0003674       P02767        enables  ECO:0000266         ISO   \n",
       "316688  GO:0003674       P02767        enables  ECO:0000318         IBA   \n",
       "373544  GO:0003674       P02767        enables  ECO:0000314         IDA   \n",
       "\n",
       "        TAX_ID ASSIGNED_BY  \n",
       "195958   10116         RGD  \n",
       "316688   10116        REFG  \n",
       "373544   10116         RGD  "
      ]
     },
     "execution_count": 11,
     "metadata": {},
     "output_type": "execute_result"
    }
   ],
   "source": [
    "propagated_go_terms.loc[(propagated_go_terms['DB_OBJECT_ID'] == 'P02767')\\\n",
    "                       & (propagated_go_terms['GO_ID'] == 'GO:0003674')]"
   ]
  },
  {
   "cell_type": "code",
   "execution_count": 12,
   "metadata": {},
   "outputs": [
    {
     "data": {
      "text/html": [
       "<div>\n",
       "<style scoped>\n",
       "    .dataframe tbody tr th:only-of-type {\n",
       "        vertical-align: middle;\n",
       "    }\n",
       "\n",
       "    .dataframe tbody tr th {\n",
       "        vertical-align: top;\n",
       "    }\n",
       "\n",
       "    .dataframe thead th {\n",
       "        text-align: right;\n",
       "    }\n",
       "</style>\n",
       "<table border=\"1\" class=\"dataframe\">\n",
       "  <thead>\n",
       "    <tr style=\"text-align: right;\">\n",
       "      <th></th>\n",
       "      <th>GO_ID</th>\n",
       "      <th>DB_OBJECT_ID</th>\n",
       "      <th>GPAD_QUALIFIER</th>\n",
       "      <th>ECO_ID</th>\n",
       "      <th>GO_EVIDENCE</th>\n",
       "      <th>TAX_ID</th>\n",
       "      <th>ASSIGNED_BY</th>\n",
       "    </tr>\n",
       "  </thead>\n",
       "  <tbody>\n",
       "    <tr>\n",
       "      <th>0</th>\n",
       "      <td>GO:0071617</td>\n",
       "      <td>P0A257</td>\n",
       "      <td>enables</td>\n",
       "      <td>ECO:0000318</td>\n",
       "      <td>IBA</td>\n",
       "      <td>99287</td>\n",
       "      <td>REFG</td>\n",
       "    </tr>\n",
       "    <tr>\n",
       "      <th>1</th>\n",
       "      <td>GO:0071617</td>\n",
       "      <td>Q3UN02</td>\n",
       "      <td>enables</td>\n",
       "      <td>ECO:0000250</td>\n",
       "      <td>ISS</td>\n",
       "      <td>10090</td>\n",
       "      <td>SWIS</td>\n",
       "    </tr>\n",
       "    <tr>\n",
       "      <th>2</th>\n",
       "      <td>GO:0071617</td>\n",
       "      <td>Q8K3K7</td>\n",
       "      <td>enables</td>\n",
       "      <td>ECO:0000266</td>\n",
       "      <td>ISO</td>\n",
       "      <td>10090</td>\n",
       "      <td>MGI</td>\n",
       "    </tr>\n",
       "    <tr>\n",
       "      <th>3</th>\n",
       "      <td>GO:0071617</td>\n",
       "      <td>O35083</td>\n",
       "      <td>enables</td>\n",
       "      <td>ECO:0000266</td>\n",
       "      <td>ISO</td>\n",
       "      <td>10090</td>\n",
       "      <td>MGI</td>\n",
       "    </tr>\n",
       "    <tr>\n",
       "      <th>4</th>\n",
       "      <td>GO:0071617</td>\n",
       "      <td>Q924S1</td>\n",
       "      <td>enables</td>\n",
       "      <td>ECO:0000266</td>\n",
       "      <td>ISO</td>\n",
       "      <td>10116</td>\n",
       "      <td>RGD</td>\n",
       "    </tr>\n",
       "    <tr>\n",
       "      <th>5</th>\n",
       "      <td>GO:0071617</td>\n",
       "      <td>Q16635</td>\n",
       "      <td>enables</td>\n",
       "      <td>ECO:0000304</td>\n",
       "      <td>TAS</td>\n",
       "      <td>9606</td>\n",
       "      <td>REAC</td>\n",
       "    </tr>\n",
       "    <tr>\n",
       "      <th>6</th>\n",
       "      <td>GO:0071617</td>\n",
       "      <td>Q5E9R2</td>\n",
       "      <td>enables</td>\n",
       "      <td>ECO:0000250</td>\n",
       "      <td>ISS</td>\n",
       "      <td>9913</td>\n",
       "      <td>SWIS</td>\n",
       "    </tr>\n",
       "    <tr>\n",
       "      <th>7</th>\n",
       "      <td>GO:0071617</td>\n",
       "      <td>Q6QA69</td>\n",
       "      <td>enables</td>\n",
       "      <td>ECO:0000266</td>\n",
       "      <td>ISO</td>\n",
       "      <td>10116</td>\n",
       "      <td>RGD</td>\n",
       "    </tr>\n",
       "    <tr>\n",
       "      <th>8</th>\n",
       "      <td>GO:0071617</td>\n",
       "      <td>Q9D517</td>\n",
       "      <td>enables</td>\n",
       "      <td>ECO:0000250</td>\n",
       "      <td>ISS</td>\n",
       "      <td>10090</td>\n",
       "      <td>SWIS</td>\n",
       "    </tr>\n",
       "  </tbody>\n",
       "</table>\n",
       "</div>"
      ],
      "text/plain": [
       "        GO_ID DB_OBJECT_ID GPAD_QUALIFIER       ECO_ID GO_EVIDENCE  TAX_ID  \\\n",
       "0  GO:0071617       P0A257        enables  ECO:0000318         IBA   99287   \n",
       "1  GO:0071617       Q3UN02        enables  ECO:0000250         ISS   10090   \n",
       "2  GO:0071617       Q8K3K7        enables  ECO:0000266         ISO   10090   \n",
       "3  GO:0071617       O35083        enables  ECO:0000266         ISO   10090   \n",
       "4  GO:0071617       Q924S1        enables  ECO:0000266         ISO   10116   \n",
       "5  GO:0071617       Q16635        enables  ECO:0000304         TAS    9606   \n",
       "6  GO:0071617       Q5E9R2        enables  ECO:0000250         ISS    9913   \n",
       "7  GO:0071617       Q6QA69        enables  ECO:0000266         ISO   10116   \n",
       "8  GO:0071617       Q9D517        enables  ECO:0000250         ISS   10090   \n",
       "\n",
       "  ASSIGNED_BY  \n",
       "0        REFG  \n",
       "1        SWIS  \n",
       "2         MGI  \n",
       "3         MGI  \n",
       "4         RGD  \n",
       "5        REAC  \n",
       "6        SWIS  \n",
       "7         RGD  \n",
       "8        SWIS  "
      ]
     },
     "execution_count": 12,
     "metadata": {},
     "output_type": "execute_result"
    }
   ],
   "source": [
    "propagated_go_terms[0:9]"
   ]
  },
  {
   "cell_type": "markdown",
   "metadata": {},
   "source": [
    "Get list of human proteins"
   ]
  },
  {
   "cell_type": "code",
   "execution_count": 13,
   "metadata": {},
   "outputs": [],
   "source": [
    "uniprot_metadata_directory = \"/media/DATA/serbulent/DATA/Thesis/ReviewPaper/Uniprot/\"\n",
    "uniprot_metadata_file_path = uniprot_metadata_directory + \"uniprot_human_all.tab\"\n",
    "uniprot_vars = ['Entry','Entry name','Status','Protein names','Gene names','Organism','Length','Annotation' ]\n",
    "uniprot_df = pd.read_csv(uniprot_metadata_file_path, sep='\\t', header=None, names=uniprot_vars)\n",
    "human_proteins = set(uniprot_df['Entry'])"
   ]
  },
  {
   "cell_type": "markdown",
   "metadata": {},
   "source": [
    "## 1- Exclude all IEA annotations and select human proteins."
   ]
  },
  {
   "cell_type": "code",
   "execution_count": 14,
   "metadata": {},
   "outputs": [],
   "source": [
    "propagated_go_terms = propagated_go_terms.query('GO_EVIDENCE != \"IEA\"')\n",
    "propagated_go_terms = propagated_go_terms[propagated_go_terms['DB_OBJECT_ID'].isin(human_proteins)]\n",
    "propagated_go_terms.reset_index(drop=True, inplace=True)"
   ]
  },
  {
   "cell_type": "code",
   "execution_count": 15,
   "metadata": {},
   "outputs": [
    {
     "data": {
      "text/plain": [
       "2450885"
      ]
     },
     "execution_count": 15,
     "metadata": {},
     "output_type": "execute_result"
    }
   ],
   "source": [
    "len(propagated_go_terms)"
   ]
  },
  {
   "cell_type": "code",
   "execution_count": 16,
   "metadata": {},
   "outputs": [],
   "source": [
    "propagated_go_terms_human = propagated_go_terms[propagated_go_terms['TAX_ID'] == 9606]"
   ]
  },
  {
   "cell_type": "code",
   "execution_count": 17,
   "metadata": {},
   "outputs": [
    {
     "data": {
      "text/plain": [
       "2450885"
      ]
     },
     "execution_count": 17,
     "metadata": {},
     "output_type": "execute_result"
    }
   ],
   "source": [
    "len(propagated_go_terms_human)"
   ]
  },
  {
   "cell_type": "code",
   "execution_count": 20,
   "metadata": {},
   "outputs": [
    {
     "data": {
      "text/plain": [
       "20364"
      ]
     },
     "execution_count": 20,
     "metadata": {},
     "output_type": "execute_result"
    }
   ],
   "source": [
    "len(set(propagated_go_terms_human['GO_ID']))"
   ]
  },
  {
   "cell_type": "code",
   "execution_count": 18,
   "metadata": {},
   "outputs": [
    {
     "data": {
      "text/plain": [
       "17928"
      ]
     },
     "execution_count": 18,
     "metadata": {},
     "output_type": "execute_result"
    }
   ],
   "source": [
    "len(set(propagated_go_terms_human['DB_OBJECT_ID']))"
   ]
  },
  {
   "cell_type": "markdown",
   "metadata": {},
   "source": [
    "## 2- For each term get annotated protein list. \n",
    "\n",
    "For each protein check if there are multiple proteins (in the annotated protein list for each GO ID), exists in same UNIREF cluster, if so remove the proteins from the annotated list, so that, only 1 protein from an individual UniRef cluster will exist in the annotated list."
   ]
  },
  {
   "cell_type": "code",
   "execution_count": null,
   "metadata": {},
   "outputs": [],
   "source": [
    "path_of_uniref_tab = \"/media/DATA/serbulent/DATA/Thesis/ReviewPaper/preprocess/go_related_data/uniref50-swissprot_human.tab\"\n",
    "uniref_human = pd.read_csv(path_of_uniref_tab, sep='\\t')\n",
    "uniref_human[1:5]"
   ]
  },
  {
   "cell_type": "code",
   "execution_count": null,
   "metadata": {},
   "outputs": [],
   "source": [
    "GOIDs = list(set(propagated_go_terms['GO_ID']))"
   ]
  },
  {
   "cell_type": "code",
   "execution_count": null,
   "metadata": {},
   "outputs": [],
   "source": [
    "def get_cluster_members(protein_id):\n",
    "    cluster_members_list = []\n",
    "    cluster_name = \"UniRef50_\" + protein_id\n",
    "    cluster_members_list = uniref_human[uniref_human['Cluster ID'] == cluster_name][\"Cluster members\"].tolist()\n",
    "    if len(cluster_members_list) > 0:\n",
    "        cluster_members_list = cluster_members_list[0].split(\";\")\n",
    "        cluster_members_list = list(map(str.strip, cluster_members_list))\n",
    "    return cluster_members_list"
   ]
  },
  {
   "cell_type": "code",
   "execution_count": null,
   "metadata": {},
   "outputs": [],
   "source": [
    "def remove_common_proteins(common_proteins,protein_id,goid):\n",
    "    for common_protein in common_proteins:\n",
    "        if common_protein != protein_id:\n",
    "            is_common_protein = propagated_go_terms[\"DB_OBJECT_ID\"] == common_protein\n",
    "            goid_control = propagated_go_terms['GO_ID']  == goid\n",
    "            if len(propagated_go_terms[is_common_protein & goid_control]) > 0:\n",
    "                drop_index = int(propagated_go_terms[is_common_protein & goid_control].index[0])\n",
    "                propagated_go_terms.drop(propagated_go_terms.index[drop_index], inplace=True)\n",
    "                propagated_go_terms.reset_index(drop=True, inplace=True)"
   ]
  },
  {
   "cell_type": "code",
   "execution_count": null,
   "metadata": {},
   "outputs": [],
   "source": [
    "len(propagated_go_terms)"
   ]
  },
  {
   "cell_type": "code",
   "execution_count": null,
   "metadata": {},
   "outputs": [],
   "source": [
    "for goid in tqdm_notebook(GOIDs):\n",
    "    annotated_proteins = list(propagated_go_terms[propagated_go_terms['GO_ID']  == goid]['DB_OBJECT_ID'])\n",
    "    # Do not remove same protein multiple times for same annotation\n",
    "    removed_proteins = []\n",
    "    for protein_id in annotated_proteins:\n",
    "        removal_candidates = []\n",
    "        cluster_members_list = get_cluster_members(protein_id)\n",
    "        if len(cluster_members_list) > 0:\n",
    "            common_proteins = []\n",
    "            common_proteins = np.intersect1d(annotated_proteins, cluster_members_list)\n",
    "            if len(common_proteins) > 0:\n",
    "                removal_candidates = []\n",
    "                removal_candidates = np.setdiff1d(common_proteins, removed_proteins)\n",
    "                if len(removal_candidates) > 0:\n",
    "                    remove_common_proteins(removal_candidates,protein_id,goid)"
   ]
  },
  {
   "cell_type": "code",
   "execution_count": 22,
   "metadata": {},
   "outputs": [],
   "source": [
    "propagated_go_terms_csv_save_path = save_path + 'propagated_go_terms.csv'"
   ]
  },
  {
   "cell_type": "code",
   "execution_count": null,
   "metadata": {},
   "outputs": [],
   "source": [
    "#propagated_go_terms.to_csv(propagated_go_terms_csv_save_path)"
   ]
  },
  {
   "cell_type": "code",
   "execution_count": 23,
   "metadata": {},
   "outputs": [],
   "source": [
    "propagated_go_terms = pd.read_csv(propagated_go_terms_csv_save_path)"
   ]
  },
  {
   "cell_type": "code",
   "execution_count": 24,
   "metadata": {},
   "outputs": [
    {
     "data": {
      "text/plain": [
       "2389966"
      ]
     },
     "execution_count": 24,
     "metadata": {},
     "output_type": "execute_result"
    }
   ],
   "source": [
    "len(propagated_go_terms)"
   ]
  },
  {
   "cell_type": "markdown",
   "metadata": {},
   "source": [
    "## 3- Save terms with filtered list and save number of annotated proteins with term depth."
   ]
  },
  {
   "cell_type": "code",
   "execution_count": 8,
   "metadata": {},
   "outputs": [],
   "source": [
    "def calculate_gene_number_for_goterm(goid):\n",
    "    annotated_proteins = list(propagated_go_terms[propagated_go_terms['GO_ID']  == goid]['DB_OBJECT_ID'])\n",
    "    number_of_proteins = len(annotated_proteins)\n",
    "    return number_of_proteins"
   ]
  },
  {
   "cell_type": "markdown",
   "metadata": {},
   "source": [
    "## 4- Terms are categorized as low, middle, high in terms of the number of annotated proteins."
   ]
  },
  {
   "cell_type": "markdown",
   "metadata": {},
   "source": [
    " If term annotates 5 - 30 proteins the term is considered in low category. If term annotates 30 - 100 proteins the term is considered in middle category. If term annotates more than 100 proteins the term is considered in high category."
   ]
  },
  {
   "cell_type": "code",
   "execution_count": 9,
   "metadata": {},
   "outputs": [],
   "source": [
    "def determine_number_category(term_number):\n",
    "    if term_number < 5:\n",
    "        return \"insufficient\"\n",
    "    if term_number >= 5 and term_number <= 30:\n",
    "        return \"Low\"\n",
    "    if term_number > 100 and term_number <= 500:\n",
    "        return \"Middle\"\n",
    "    if term_number >= 1000:\n",
    "        return \"High\""
   ]
  },
  {
   "cell_type": "markdown",
   "metadata": {},
   "source": [
    "## 5- Term’s specificity is determined and terms are categorized as shallow, normal, specific. "
   ]
  },
  {
   "cell_type": "markdown",
   "metadata": {},
   "source": [
    "First ⅓ of the max depth of the aspect (MF, BP or CC) is considered as shallow, second ⅓ of the aspect is considered as normal, deepest ⅓ is considered as specific. Be careful here about the fact that branch lengths are different from each other, as a result, while calculating a term’s specificity, you should check the lineage of that term, on many steps we can reach the root term from the corresponding term (in minimum number of steps, because there are usually multiple routes), and how many descendant terms (child-grandchild-grandgrandchild) terms it has..."
   ]
  },
  {
   "cell_type": "code",
   "execution_count": 12,
   "metadata": {
    "scrolled": true
   },
   "outputs": [
    {
     "name": "stdout",
     "output_type": "stream",
     "text": [
      "/media/DATA/serbulent/DATA/Thesis/ReviewPaper/preprocess/go_related_data/go.obo: fmt(1.2) rel(2019-10-07) 47,285 GO Terms\n",
      "Dep <-Depth Counts->  <-Level Counts->\n",
      "Lev   BP    MF    CC    BP    MF    CC\n",
      "--- ----  ----  ----  ----  ----  ----\n",
      "00     1     1     1     1     1     1\n",
      "01    30    18     7    30    18     7\n",
      "02   262   127   927   425   152   929\n",
      "03  1271   569   686  2220   850   780\n",
      "04  2381  1517   844  4812  2040  1019\n",
      "05  3670  4789   707  7258  5023   705\n",
      "06  4469  1856   474  7277  1958   404\n",
      "07  4676  1107   303  4591   758   205\n",
      "08  4230   530   156  1969   197   106\n",
      "09  3510   320    59   599    67    25\n",
      "10  2383   149    18   237    10     1\n",
      "11  1440    98     1    38    19     1\n",
      "12   789    12     0     0     0     0\n",
      "13   271     0     0     0     0     0\n",
      "14    59     0     0     0     0     0\n",
      "15    11     0     0     0     0     0\n",
      "16     4     0     0     0     0     0\n"
     ]
    }
   ],
   "source": [
    "obo_path = \"/media/DATA/serbulent/DATA/Thesis/ReviewPaper/preprocess/go_related_data/go.obo\"\n",
    "obodag = GODag(obo_path)\n",
    "\n",
    "#Reports the number of GO terms at each level and depth.\n",
    "# Level refers to the length of the shortest path from the top.\n",
    "# Depth refers to the length of the longest path from the top.\n",
    "rptobj = RptLevDepth(obodag)\n",
    "rptobj.write_summary_cnts_all()"
   ]
  },
  {
   "cell_type": "code",
   "execution_count": 11,
   "metadata": {},
   "outputs": [],
   "source": [
    "def calculate_term_depth(goid):\n",
    "    return obodag[goid].level"
   ]
  },
  {
   "cell_type": "code",
   "execution_count": 12,
   "metadata": {},
   "outputs": [],
   "source": [
    "def calculate_term_specificty(go_id_level):\n",
    "    if go_id_level >= 8:\n",
    "        return \"Specific\"\n",
    "    if go_id_level >= 5 and go_id_level < 8:\n",
    "        return \"Normal\"\n",
    "    if go_id_level < 5:\n",
    "        return \"Shallow\""
   ]
  },
  {
   "cell_type": "code",
   "execution_count": 73,
   "metadata": {},
   "outputs": [
    {
     "data": {
      "text/plain": [
       "20364"
      ]
     },
     "execution_count": 73,
     "metadata": {},
     "output_type": "execute_result"
    }
   ],
   "source": [
    "#GOIDs_Human = GOIDs = list(set(propagated_go_terms_human['GO_ID']))\n",
    "GOIDs_Human = list(set(propagated_go_terms_human['GO_ID']))\n",
    "len(GOIDs_Human)"
   ]
  },
  {
   "cell_type": "code",
   "execution_count": null,
   "metadata": {},
   "outputs": [],
   "source": [
    "go_dataframe = pd.DataFrame(columns = ['GO_ID', 'Term_Level',\\\n",
    "                                       'Protein_Number', 'Number_Category',\\\n",
    "                                       'Term_Specificity','Aspect'])\n",
    "\n",
    "for go_id in tqdm_notebook(GOIDs_Human):\n",
    "    go_id_level = obodag[go_id].level\n",
    "    aspect = obodag[go_id].namespace\n",
    "    number_of_proteins = calculate_gene_number_for_goterm(go_id)\n",
    "    go_id_number_category = determine_number_category(number_of_proteins)\n",
    "    term_specificity = calculate_term_specificty(go_id_level)\n",
    "    go_dataframe = go_dataframe.append({'GO_ID': go_id, \\\n",
    "                                        'Term_Level': go_id_level, \\\n",
    "                                       'Protein_Number': number_of_proteins,\\\n",
    "                                       'Number_Category': go_id_number_category,\\\n",
    "                                       'Term_Specificity': term_specificity,\\\n",
    "                                       'Aspect': aspect}\n",
    "                                       ,ignore_index=True)\n",
    "\n",
    "\n",
    "len(go_dataframe)\n",
    "    "
   ]
  },
  {
   "cell_type": "code",
   "execution_count": 4,
   "metadata": {},
   "outputs": [],
   "source": [
    "csv_save_path = save_path + 'go_dataframe.csv'\n",
    "#go_dataframe.to_csv(csv_save_path)\n",
    "#go_dataframe.to_pickle(save_path + 'go_dataframe.pkl')"
   ]
  },
  {
   "cell_type": "code",
   "execution_count": 5,
   "metadata": {},
   "outputs": [],
   "source": [
    "#go_dataframe = pd.read_csv(csv_save_path)\n",
    "go_dataframe = pd.read_pickle(save_path + 'go_dataframe.pkl')"
   ]
  },
  {
   "cell_type": "markdown",
   "metadata": {},
   "source": [
    "## 6- Term selection will be according to 4 and 5 as below with 9 groups 5 terms from each group will be selected randomly"
   ]
  },
  {
   "cell_type": "markdown",
   "metadata": {},
   "source": [
    "For each group Lin similarity is calculated and 5 samples will be chosen  from most dissimilar terms which is calculated based on mean similarity of each term."
   ]
  },
  {
   "cell_type": "code",
   "execution_count": 6,
   "metadata": {},
   "outputs": [
    {
     "data": {
      "application/vnd.jupyter.widget-view+json": {
       "model_id": "930c079964ed498bb595299d0f9f986c",
       "version_major": 2,
       "version_minor": 0
      },
      "text/plain": [
       "HBox(children=(IntProgress(value=0, max=3), HTML(value='')))"
      ]
     },
     "metadata": {},
     "output_type": "display_data"
    },
    {
     "name": "stdout",
     "output_type": "stream",
     "text": [
      "\n"
     ]
    }
   ],
   "source": [
    "go_category_dataframe = pd.DataFrame(columns = ['Aspect','Number_Category', 'Term_Specificity',\\\n",
    "                                       'GO_IDs'])#,'Similarity_Matrix','Dissimilar_Terms'])\n",
    "\n",
    "aspects = ('cellular_component','biological_process','molecular_function')\n",
    "number_categories = ('Low','Middle','High')\n",
    "term_specificities = ('Shallow','Normal','Specific')\n",
    "\n",
    "for aspect in tqdm_notebook(aspects):\n",
    "    go_dataframeAspect = go_dataframe.loc[(go_dataframe['Aspect'] == aspect)]\n",
    "    for number_category in number_categories:\n",
    "        for term_specificity in term_specificities:\n",
    "            go_ids = list(set(go_dataframeAspect.loc[(go_dataframe['Number_Category'] == number_category) \\\n",
    "                                   & (go_dataframe['Term_Specificity'] == term_specificity)]['GO_ID']))\n",
    "            \n",
    "            go_category_dataframe = go_category_dataframe.append({'Aspect': aspect, \\\n",
    "                                        'Number_Category': number_category, \\\n",
    "                                       'Term_Specificity': term_specificity,\\\n",
    "                                       'GO_IDs': go_ids}\n",
    "                                       ,ignore_index=True)"
   ]
  },
  {
   "cell_type": "code",
   "execution_count": 7,
   "metadata": {},
   "outputs": [
    {
     "data": {
      "text/html": [
       "<div>\n",
       "<style scoped>\n",
       "    .dataframe tbody tr th:only-of-type {\n",
       "        vertical-align: middle;\n",
       "    }\n",
       "\n",
       "    .dataframe tbody tr th {\n",
       "        vertical-align: top;\n",
       "    }\n",
       "\n",
       "    .dataframe thead th {\n",
       "        text-align: right;\n",
       "    }\n",
       "</style>\n",
       "<table border=\"1\" class=\"dataframe\">\n",
       "  <thead>\n",
       "    <tr style=\"text-align: right;\">\n",
       "      <th></th>\n",
       "      <th>Aspect</th>\n",
       "      <th>Number_Category</th>\n",
       "      <th>Term_Specificity</th>\n",
       "      <th>GO_IDs</th>\n",
       "    </tr>\n",
       "  </thead>\n",
       "  <tbody>\n",
       "    <tr>\n",
       "      <th>0</th>\n",
       "      <td>cellular_component</td>\n",
       "      <td>Low</td>\n",
       "      <td>Shallow</td>\n",
       "      <td>[GO:0000347, GO:0034719, GO:0008541, GO:000595...</td>\n",
       "    </tr>\n",
       "    <tr>\n",
       "      <th>1</th>\n",
       "      <td>cellular_component</td>\n",
       "      <td>Low</td>\n",
       "      <td>Normal</td>\n",
       "      <td>[GO:0098536, GO:0036156, GO:1990316, GO:000838...</td>\n",
       "    </tr>\n",
       "    <tr>\n",
       "      <th>2</th>\n",
       "      <td>cellular_component</td>\n",
       "      <td>Low</td>\n",
       "      <td>Specific</td>\n",
       "      <td>[GO:0005828, GO:0042583, GO:0070776, GO:009883...</td>\n",
       "    </tr>\n",
       "    <tr>\n",
       "      <th>3</th>\n",
       "      <td>cellular_component</td>\n",
       "      <td>Middle</td>\n",
       "      <td>Shallow</td>\n",
       "      <td>[GO:0097525, GO:0030017, GO:0043296, GO:009879...</td>\n",
       "    </tr>\n",
       "    <tr>\n",
       "      <th>4</th>\n",
       "      <td>cellular_component</td>\n",
       "      <td>Middle</td>\n",
       "      <td>Normal</td>\n",
       "      <td>[GO:0045111, GO:0030016, GO:0072686, GO:000581...</td>\n",
       "    </tr>\n",
       "    <tr>\n",
       "      <th>5</th>\n",
       "      <td>cellular_component</td>\n",
       "      <td>Middle</td>\n",
       "      <td>Specific</td>\n",
       "      <td>[GO:0016591, GO:0008021, GO:0101002, GO:000576...</td>\n",
       "    </tr>\n",
       "    <tr>\n",
       "      <th>6</th>\n",
       "      <td>cellular_component</td>\n",
       "      <td>High</td>\n",
       "      <td>Shallow</td>\n",
       "      <td>[GO:0016020, GO:0016021, GO:1990904, GO:000078...</td>\n",
       "    </tr>\n",
       "    <tr>\n",
       "      <th>7</th>\n",
       "      <td>cellular_component</td>\n",
       "      <td>High</td>\n",
       "      <td>Normal</td>\n",
       "      <td>[GO:0031981, GO:0005634, GO:0000228, GO:007006...</td>\n",
       "    </tr>\n",
       "    <tr>\n",
       "      <th>8</th>\n",
       "      <td>cellular_component</td>\n",
       "      <td>High</td>\n",
       "      <td>Specific</td>\n",
       "      <td>[]</td>\n",
       "    </tr>\n",
       "    <tr>\n",
       "      <th>9</th>\n",
       "      <td>biological_process</td>\n",
       "      <td>Low</td>\n",
       "      <td>Shallow</td>\n",
       "      <td>[GO:0007379, GO:0061900, GO:0070358, GO:001593...</td>\n",
       "    </tr>\n",
       "    <tr>\n",
       "      <th>10</th>\n",
       "      <td>biological_process</td>\n",
       "      <td>Low</td>\n",
       "      <td>Normal</td>\n",
       "      <td>[GO:0010700, GO:0006122, GO:1903978, GO:001582...</td>\n",
       "    </tr>\n",
       "    <tr>\n",
       "      <th>11</th>\n",
       "      <td>biological_process</td>\n",
       "      <td>Low</td>\n",
       "      <td>Specific</td>\n",
       "      <td>[GO:2001253, GO:0010661, GO:0055075, GO:190249...</td>\n",
       "    </tr>\n",
       "    <tr>\n",
       "      <th>12</th>\n",
       "      <td>biological_process</td>\n",
       "      <td>Middle</td>\n",
       "      <td>Shallow</td>\n",
       "      <td>[GO:0007098, GO:0007281, GO:0006997, GO:006032...</td>\n",
       "    </tr>\n",
       "    <tr>\n",
       "      <th>13</th>\n",
       "      <td>biological_process</td>\n",
       "      <td>Middle</td>\n",
       "      <td>Normal</td>\n",
       "      <td>[GO:0002822, GO:0050708, GO:1902806, GO:000689...</td>\n",
       "    </tr>\n",
       "    <tr>\n",
       "      <th>14</th>\n",
       "      <td>biological_process</td>\n",
       "      <td>Middle</td>\n",
       "      <td>Specific</td>\n",
       "      <td>[GO:0032147, GO:1903322, GO:2000134, GO:007037...</td>\n",
       "    </tr>\n",
       "    <tr>\n",
       "      <th>15</th>\n",
       "      <td>biological_process</td>\n",
       "      <td>High</td>\n",
       "      <td>Shallow</td>\n",
       "      <td>[GO:0051179, GO:0023052, GO:0006629, GO:000988...</td>\n",
       "    </tr>\n",
       "    <tr>\n",
       "      <th>16</th>\n",
       "      <td>biological_process</td>\n",
       "      <td>High</td>\n",
       "      <td>Normal</td>\n",
       "      <td>[GO:0051173, GO:1902679, GO:0006355, GO:001583...</td>\n",
       "    </tr>\n",
       "    <tr>\n",
       "      <th>17</th>\n",
       "      <td>biological_process</td>\n",
       "      <td>High</td>\n",
       "      <td>Specific</td>\n",
       "      <td>[GO:0045944, GO:1903507, GO:1903508, GO:004232...</td>\n",
       "    </tr>\n",
       "    <tr>\n",
       "      <th>18</th>\n",
       "      <td>molecular_function</td>\n",
       "      <td>Low</td>\n",
       "      <td>Shallow</td>\n",
       "      <td>[GO:0032404, GO:0030552, GO:0070061, GO:199040...</td>\n",
       "    </tr>\n",
       "    <tr>\n",
       "      <th>19</th>\n",
       "      <td>molecular_function</td>\n",
       "      <td>Low</td>\n",
       "      <td>Normal</td>\n",
       "      <td>[GO:0008139, GO:0035326, GO:0051428, GO:000849...</td>\n",
       "    </tr>\n",
       "    <tr>\n",
       "      <th>20</th>\n",
       "      <td>molecular_function</td>\n",
       "      <td>Low</td>\n",
       "      <td>Specific</td>\n",
       "      <td>[GO:0004937, GO:0005220, GO:0048763, GO:000495...</td>\n",
       "    </tr>\n",
       "    <tr>\n",
       "      <th>21</th>\n",
       "      <td>molecular_function</td>\n",
       "      <td>Middle</td>\n",
       "      <td>Shallow</td>\n",
       "      <td>[GO:0051427, GO:0009055, GO:0016810, GO:004518...</td>\n",
       "    </tr>\n",
       "    <tr>\n",
       "      <th>22</th>\n",
       "      <td>molecular_function</td>\n",
       "      <td>Middle</td>\n",
       "      <td>Normal</td>\n",
       "      <td>[GO:0015171, GO:0030554, GO:0008081, GO:002282...</td>\n",
       "    </tr>\n",
       "    <tr>\n",
       "      <th>23</th>\n",
       "      <td>molecular_function</td>\n",
       "      <td>Middle</td>\n",
       "      <td>Specific</td>\n",
       "      <td>[GO:0004386, GO:0061733, GO:0008094, GO:004262...</td>\n",
       "    </tr>\n",
       "    <tr>\n",
       "      <th>24</th>\n",
       "      <td>molecular_function</td>\n",
       "      <td>High</td>\n",
       "      <td>Shallow</td>\n",
       "      <td>[GO:1901363, GO:0019899, GO:0046872, GO:004316...</td>\n",
       "    </tr>\n",
       "    <tr>\n",
       "      <th>25</th>\n",
       "      <td>molecular_function</td>\n",
       "      <td>High</td>\n",
       "      <td>Normal</td>\n",
       "      <td>[GO:0044212, GO:0003690, GO:0043565, GO:001646...</td>\n",
       "    </tr>\n",
       "    <tr>\n",
       "      <th>26</th>\n",
       "      <td>molecular_function</td>\n",
       "      <td>High</td>\n",
       "      <td>Specific</td>\n",
       "      <td>[]</td>\n",
       "    </tr>\n",
       "  </tbody>\n",
       "</table>\n",
       "</div>"
      ],
      "text/plain": [
       "                Aspect Number_Category Term_Specificity  \\\n",
       "0   cellular_component             Low          Shallow   \n",
       "1   cellular_component             Low           Normal   \n",
       "2   cellular_component             Low         Specific   \n",
       "3   cellular_component          Middle          Shallow   \n",
       "4   cellular_component          Middle           Normal   \n",
       "5   cellular_component          Middle         Specific   \n",
       "6   cellular_component            High          Shallow   \n",
       "7   cellular_component            High           Normal   \n",
       "8   cellular_component            High         Specific   \n",
       "9   biological_process             Low          Shallow   \n",
       "10  biological_process             Low           Normal   \n",
       "11  biological_process             Low         Specific   \n",
       "12  biological_process          Middle          Shallow   \n",
       "13  biological_process          Middle           Normal   \n",
       "14  biological_process          Middle         Specific   \n",
       "15  biological_process            High          Shallow   \n",
       "16  biological_process            High           Normal   \n",
       "17  biological_process            High         Specific   \n",
       "18  molecular_function             Low          Shallow   \n",
       "19  molecular_function             Low           Normal   \n",
       "20  molecular_function             Low         Specific   \n",
       "21  molecular_function          Middle          Shallow   \n",
       "22  molecular_function          Middle           Normal   \n",
       "23  molecular_function          Middle         Specific   \n",
       "24  molecular_function            High          Shallow   \n",
       "25  molecular_function            High           Normal   \n",
       "26  molecular_function            High         Specific   \n",
       "\n",
       "                                               GO_IDs  \n",
       "0   [GO:0000347, GO:0034719, GO:0008541, GO:000595...  \n",
       "1   [GO:0098536, GO:0036156, GO:1990316, GO:000838...  \n",
       "2   [GO:0005828, GO:0042583, GO:0070776, GO:009883...  \n",
       "3   [GO:0097525, GO:0030017, GO:0043296, GO:009879...  \n",
       "4   [GO:0045111, GO:0030016, GO:0072686, GO:000581...  \n",
       "5   [GO:0016591, GO:0008021, GO:0101002, GO:000576...  \n",
       "6   [GO:0016020, GO:0016021, GO:1990904, GO:000078...  \n",
       "7   [GO:0031981, GO:0005634, GO:0000228, GO:007006...  \n",
       "8                                                  []  \n",
       "9   [GO:0007379, GO:0061900, GO:0070358, GO:001593...  \n",
       "10  [GO:0010700, GO:0006122, GO:1903978, GO:001582...  \n",
       "11  [GO:2001253, GO:0010661, GO:0055075, GO:190249...  \n",
       "12  [GO:0007098, GO:0007281, GO:0006997, GO:006032...  \n",
       "13  [GO:0002822, GO:0050708, GO:1902806, GO:000689...  \n",
       "14  [GO:0032147, GO:1903322, GO:2000134, GO:007037...  \n",
       "15  [GO:0051179, GO:0023052, GO:0006629, GO:000988...  \n",
       "16  [GO:0051173, GO:1902679, GO:0006355, GO:001583...  \n",
       "17  [GO:0045944, GO:1903507, GO:1903508, GO:004232...  \n",
       "18  [GO:0032404, GO:0030552, GO:0070061, GO:199040...  \n",
       "19  [GO:0008139, GO:0035326, GO:0051428, GO:000849...  \n",
       "20  [GO:0004937, GO:0005220, GO:0048763, GO:000495...  \n",
       "21  [GO:0051427, GO:0009055, GO:0016810, GO:004518...  \n",
       "22  [GO:0015171, GO:0030554, GO:0008081, GO:002282...  \n",
       "23  [GO:0004386, GO:0061733, GO:0008094, GO:004262...  \n",
       "24  [GO:1901363, GO:0019899, GO:0046872, GO:004316...  \n",
       "25  [GO:0044212, GO:0003690, GO:0043565, GO:001646...  \n",
       "26                                                 []  "
      ]
     },
     "execution_count": 7,
     "metadata": {},
     "output_type": "execute_result"
    }
   ],
   "source": [
    "go_category_dataframe"
   ]
  },
  {
   "cell_type": "markdown",
   "metadata": {},
   "source": [
    "For each group all pairwise similarities will be checked. \n",
    "\n",
    "If any pair have similarity score over 0.25 then the second element of the pair will be deleted from the list and a next element in the sorted mean similarity list will be added. This loop will be applied until no pair have similarity score over 0.25."
   ]
  },
  {
   "cell_type": "code",
   "execution_count": 44,
   "metadata": {},
   "outputs": [],
   "source": [
    "def check_similarity_threshold(dissimilar_go_terms,go_id_of_min_similarity,similarity_matrix):\n",
    "    for go_term in dissimilar_go_terms:\n",
    "        if similarity_matrix.at[str(go_term), str(go_id_of_min_similarity)] > 0.25:\n",
    "            return False\n",
    "    return True\n",
    "        "
   ]
  },
  {
   "cell_type": "code",
   "execution_count": 45,
   "metadata": {},
   "outputs": [],
   "source": [
    "def get_n_minimums(d, n,similarity_matrix):\n",
    "    dissimilar_go_terms = set()\n",
    "    i=0\n",
    "    similarity_check = True\n",
    "    while(i<n):\n",
    "        if len(d.keys()) > 0:\n",
    "            min_key = min(d.keys(), key=lambda k: d[k])   \n",
    "            similarity_check = check_similarity_threshold(dissimilar_go_terms,min_key,similarity_matrix)\n",
    "            if similarity_check:\n",
    "                dissimilar_go_terms.add(min_key)\n",
    "                del d[min_key]\n",
    "                i = i+1\n",
    "            else:\n",
    "                del d[min_key]\n",
    "        else:\n",
    "            return dissimilar_go_terms\n",
    "    return dissimilar_go_terms"
   ]
  },
  {
   "cell_type": "code",
   "execution_count": 46,
   "metadata": {},
   "outputs": [],
   "source": [
    "def get_most_dissimilar_terms(similarity_matrix,n):\n",
    "    mean_similarity_dict = {}\n",
    "    for go_id in list(set(similarity_matrix.columns)):\n",
    "        mean_similarity_dict[go_id] = similarity_matrix[go_id].mean(axis=0)\n",
    "    dissimilar_go_terms = get_n_minimums(mean_similarity_dict,n,similarity_matrix)\n",
    "    return dissimilar_go_terms"
   ]
  },
  {
   "cell_type": "code",
   "execution_count": 47,
   "metadata": {
    "scrolled": true
   },
   "outputs": [
    {
     "name": "stdout",
     "output_type": "stream",
     "text": [
      "HMS:0:00:08.403387 487,062 annotations READ: /media/DATA/serbulent/Code/Thesis/ReviewPaper/GO_Prediction/goa_human.gaf \n",
      "17542 IDs in loaded association branch, BP\n",
      "HMS:0:00:08.222395 487,062 annotations READ: /media/DATA/serbulent/Code/Thesis/ReviewPaper/GO_Prediction/goa_human.gaf \n",
      "17380 IDs in loaded association branch, MF\n",
      "HMS:0:00:06.960854 487,062 annotations READ: /media/DATA/serbulent/Code/Thesis/ReviewPaper/GO_Prediction/goa_human.gaf \n",
      "18754 IDs in loaded association branch, CC\n"
     ]
    }
   ],
   "source": [
    "fin_gaf = os.path.join(os.getcwd(), \"goa_human.gaf\")\n",
    "associationsBP = dnld_assc(fin_gaf, obodag, namespace='BP')\n",
    "associationsMF = dnld_assc(fin_gaf, obodag, namespace='MF')\n",
    "associationsCC = dnld_assc(fin_gaf, obodag, namespace='CC')\n",
    "# First get the counts of each GO term.\n",
    "termcountsBP = TermCounts(obodag, associationsBP)\n",
    "termcountsMF = TermCounts(obodag, associationsMF)\n",
    "termcountsCC = TermCounts(obodag, associationsCC)"
   ]
  },
  {
   "cell_type": "code",
   "execution_count": 48,
   "metadata": {},
   "outputs": [],
   "source": [
    "def semantic_similarity_srb(go_id1, go_id2, godag, branch_dist=None):\n",
    "    '''\n",
    "        Finds the semantic similarity (inverse of the semantic distance)\n",
    "        between two GO terms.\n",
    "    '''\n",
    "    dist = semantic_distance(go_id1, go_id2, godag, branch_dist)\n",
    "    if dist == 0:\n",
    "        return 1\n",
    "    if dist is not None:\n",
    "        return 1.0 / float(dist)\n",
    "    return None"
   ]
  },
  {
   "cell_type": "code",
   "execution_count": 49,
   "metadata": {},
   "outputs": [],
   "source": [
    "def calculate_similarity_matrix(go_ids,aspect):\n",
    "    similarity_matrix = pd.DataFrame(index = go_ids, columns = go_ids)\n",
    "    if aspect == 'biological_process':\n",
    "        termcounts = termcountsBP\n",
    "    if aspect == 'molecular_function':\n",
    "        termcounts = termcountsMF\n",
    "    if aspect == 'cellular_component':\n",
    "        termcounts = termcountsCC\n",
    "    \n",
    "    for i in tqdm_notebook(range(len(go_ids))):\n",
    "        for j in range(len(go_ids)):\n",
    "            term1 = str(go_ids[i])\n",
    "            term2 = str(go_ids[j])\n",
    "            sim_l = semantic_similarity_srb(term1,term2, obodag, termcounts)\n",
    "            #print('Lin similarity score ({}, {}) = {}'.format(go_ids[i], go_ids[j], sim_l))\n",
    "            similarity_matrix.at[term1, term2] = sim_l\n",
    "    return similarity_matrix"
   ]
  },
  {
   "cell_type": "code",
   "execution_count": 50,
   "metadata": {
    "pixiedust": {
     "displayParams": {}
    },
    "scrolled": true
   },
   "outputs": [
    {
     "data": {
      "application/vnd.jupyter.widget-view+json": {
       "model_id": "e80ae6f01a834da18c66a44b1232372a",
       "version_major": 2,
       "version_minor": 0
      },
      "text/plain": [
       "HBox(children=(IntProgress(value=0, max=2), HTML(value='')))"
      ]
     },
     "metadata": {},
     "output_type": "display_data"
    },
    {
     "name": "stdout",
     "output_type": "stream",
     "text": [
      "\n"
     ]
    },
    {
     "data": {
      "text/html": [
       "<div>\n",
       "<style scoped>\n",
       "    .dataframe tbody tr th:only-of-type {\n",
       "        vertical-align: middle;\n",
       "    }\n",
       "\n",
       "    .dataframe tbody tr th {\n",
       "        vertical-align: top;\n",
       "    }\n",
       "\n",
       "    .dataframe thead th {\n",
       "        text-align: right;\n",
       "    }\n",
       "</style>\n",
       "<table border=\"1\" class=\"dataframe\">\n",
       "  <thead>\n",
       "    <tr style=\"text-align: right;\">\n",
       "      <th></th>\n",
       "      <th>GO:0101002</th>\n",
       "      <th>GO:0042581</th>\n",
       "    </tr>\n",
       "  </thead>\n",
       "  <tbody>\n",
       "    <tr>\n",
       "      <th>GO:0101002</th>\n",
       "      <td>1</td>\n",
       "      <td>0.5</td>\n",
       "    </tr>\n",
       "    <tr>\n",
       "      <th>GO:0042581</th>\n",
       "      <td>0.5</td>\n",
       "      <td>1</td>\n",
       "    </tr>\n",
       "  </tbody>\n",
       "</table>\n",
       "</div>"
      ],
      "text/plain": [
       "           GO:0101002 GO:0042581\n",
       "GO:0101002          1        0.5\n",
       "GO:0042581        0.5          1"
      ]
     },
     "execution_count": 50,
     "metadata": {},
     "output_type": "execute_result"
    }
   ],
   "source": [
    "#%%pixie_debugger\n",
    "calculate_similarity_matrix(['GO:0101002','GO:0042581'],'cellular_component')"
   ]
  },
  {
   "cell_type": "code",
   "execution_count": 51,
   "metadata": {},
   "outputs": [
    {
     "data": {
      "application/vnd.jupyter.widget-view+json": {
       "model_id": "1e9cd487daff403c83edfc8f3a2c7ba8",
       "version_major": 2,
       "version_minor": 0
      },
      "text/plain": [
       "HBox(children=(IntProgress(value=0, max=27), HTML(value='')))"
      ]
     },
     "metadata": {},
     "output_type": "display_data"
    },
    {
     "data": {
      "application/vnd.jupyter.widget-view+json": {
       "model_id": "df00c36b48d34f2ab540432e4098e90d",
       "version_major": 2,
       "version_minor": 0
      },
      "text/plain": [
       "HBox(children=(IntProgress(value=0, max=431), HTML(value='')))"
      ]
     },
     "metadata": {},
     "output_type": "display_data"
    },
    {
     "data": {
      "application/vnd.jupyter.widget-view+json": {
       "model_id": "041f8d28a48a4a4a9760c9d85b6556f9",
       "version_major": 2,
       "version_minor": 0
      },
      "text/plain": [
       "HBox(children=(IntProgress(value=0, max=201), HTML(value='')))"
      ]
     },
     "metadata": {},
     "output_type": "display_data"
    },
    {
     "data": {
      "application/vnd.jupyter.widget-view+json": {
       "model_id": "4eefd7d70e214a2d9d33118b38342ca3",
       "version_major": 2,
       "version_minor": 0
      },
      "text/plain": [
       "HBox(children=(IntProgress(value=0, max=33), HTML(value='')))"
      ]
     },
     "metadata": {},
     "output_type": "display_data"
    },
    {
     "data": {
      "application/vnd.jupyter.widget-view+json": {
       "model_id": "af9c45b232b14a20b7a62329eb358eea",
       "version_major": 2,
       "version_minor": 0
      },
      "text/plain": [
       "HBox(children=(IntProgress(value=0, max=118), HTML(value='')))"
      ]
     },
     "metadata": {},
     "output_type": "display_data"
    },
    {
     "data": {
      "application/vnd.jupyter.widget-view+json": {
       "model_id": "e4e5bcf9f7104d38a52501fb4db61a12",
       "version_major": 2,
       "version_minor": 0
      },
      "text/plain": [
       "HBox(children=(IntProgress(value=0, max=62), HTML(value='')))"
      ]
     },
     "metadata": {},
     "output_type": "display_data"
    },
    {
     "data": {
      "application/vnd.jupyter.widget-view+json": {
       "model_id": "0130683e93bc4d1cb47920883fbc42a3",
       "version_major": 2,
       "version_minor": 0
      },
      "text/plain": [
       "HBox(children=(IntProgress(value=0, max=7), HTML(value='')))"
      ]
     },
     "metadata": {},
     "output_type": "display_data"
    },
    {
     "data": {
      "application/vnd.jupyter.widget-view+json": {
       "model_id": "cfae7913090a488db03e010777e5da8f",
       "version_major": 2,
       "version_minor": 0
      },
      "text/plain": [
       "HBox(children=(IntProgress(value=0, max=49), HTML(value='')))"
      ]
     },
     "metadata": {},
     "output_type": "display_data"
    },
    {
     "data": {
      "application/vnd.jupyter.widget-view+json": {
       "model_id": "aeb71ab2c92248059d35084c828b5f31",
       "version_major": 2,
       "version_minor": 0
      },
      "text/plain": [
       "HBox(children=(IntProgress(value=0, max=13), HTML(value='')))"
      ]
     },
     "metadata": {},
     "output_type": "display_data"
    },
    {
     "data": {
      "application/vnd.jupyter.widget-view+json": {
       "model_id": "adab1fa58f3d466888207d7c363a4252",
       "version_major": 2,
       "version_minor": 0
      },
      "text/plain": [
       "HBox(children=(IntProgress(value=1, bar_style='info', max=1), HTML(value='')))"
      ]
     },
     "metadata": {},
     "output_type": "display_data"
    },
    {
     "data": {
      "application/vnd.jupyter.widget-view+json": {
       "model_id": "3a01171a64864486b5ceebc08aa1595d",
       "version_major": 2,
       "version_minor": 0
      },
      "text/plain": [
       "HBox(children=(IntProgress(value=0, max=1144), HTML(value='')))"
      ]
     },
     "metadata": {},
     "output_type": "display_data"
    },
    {
     "data": {
      "application/vnd.jupyter.widget-view+json": {
       "model_id": "ea0a31a3628e45c983cdb257385336cd",
       "version_major": 2,
       "version_minor": 0
      },
      "text/plain": [
       "HBox(children=(IntProgress(value=0, max=3179), HTML(value='')))"
      ]
     },
     "metadata": {},
     "output_type": "display_data"
    },
    {
     "data": {
      "application/vnd.jupyter.widget-view+json": {
       "model_id": "4b26c32174024e8fb9af9e8ab8f464a2",
       "version_major": 2,
       "version_minor": 0
      },
      "text/plain": [
       "HBox(children=(IntProgress(value=0, max=470), HTML(value='')))"
      ]
     },
     "metadata": {},
     "output_type": "display_data"
    },
    {
     "data": {
      "application/vnd.jupyter.widget-view+json": {
       "model_id": "4f4fa44f42724652ae679072609ac845",
       "version_major": 2,
       "version_minor": 0
      },
      "text/plain": [
       "HBox(children=(IntProgress(value=0, max=462), HTML(value='')))"
      ]
     },
     "metadata": {},
     "output_type": "display_data"
    },
    {
     "data": {
      "application/vnd.jupyter.widget-view+json": {
       "model_id": "f97e2f23716649fd8a00dfa434c36cfa",
       "version_major": 2,
       "version_minor": 0
      },
      "text/plain": [
       "HBox(children=(IntProgress(value=0, max=579), HTML(value='')))"
      ]
     },
     "metadata": {},
     "output_type": "display_data"
    },
    {
     "data": {
      "application/vnd.jupyter.widget-view+json": {
       "model_id": "60816384f620455d8b35dc6cb43d24d2",
       "version_major": 2,
       "version_minor": 0
      },
      "text/plain": [
       "HBox(children=(IntProgress(value=0, max=46), HTML(value='')))"
      ]
     },
     "metadata": {},
     "output_type": "display_data"
    },
    {
     "data": {
      "application/vnd.jupyter.widget-view+json": {
       "model_id": "82d19c034889428ca59705cba0c188a2",
       "version_major": 2,
       "version_minor": 0
      },
      "text/plain": [
       "HBox(children=(IntProgress(value=0, max=186), HTML(value='')))"
      ]
     },
     "metadata": {},
     "output_type": "display_data"
    },
    {
     "data": {
      "application/vnd.jupyter.widget-view+json": {
       "model_id": "9c1cd48d37cb4bda95289115fd0f61f2",
       "version_major": 2,
       "version_minor": 0
      },
      "text/plain": [
       "HBox(children=(IntProgress(value=0, max=67), HTML(value='')))"
      ]
     },
     "metadata": {},
     "output_type": "display_data"
    },
    {
     "data": {
      "application/vnd.jupyter.widget-view+json": {
       "model_id": "6b0a5a0016134660bd1b8ed67df9bf68",
       "version_major": 2,
       "version_minor": 0
      },
      "text/plain": [
       "HBox(children=(IntProgress(value=0, max=5), HTML(value='')))"
      ]
     },
     "metadata": {},
     "output_type": "display_data"
    },
    {
     "data": {
      "application/vnd.jupyter.widget-view+json": {
       "model_id": "9cc7c56b19c7441e9bd26f8149b1024d",
       "version_major": 2,
       "version_minor": 0
      },
      "text/plain": [
       "HBox(children=(IntProgress(value=0, max=574), HTML(value='')))"
      ]
     },
     "metadata": {},
     "output_type": "display_data"
    },
    {
     "data": {
      "application/vnd.jupyter.widget-view+json": {
       "model_id": "78cee01ebfaf41f78f3363655d3dcaf5",
       "version_major": 2,
       "version_minor": 0
      },
      "text/plain": [
       "HBox(children=(IntProgress(value=0, max=820), HTML(value='')))"
      ]
     },
     "metadata": {},
     "output_type": "display_data"
    },
    {
     "data": {
      "application/vnd.jupyter.widget-view+json": {
       "model_id": "d8c00396ff9543598862908e5b91e012",
       "version_major": 2,
       "version_minor": 0
      },
      "text/plain": [
       "HBox(children=(IntProgress(value=0, max=54), HTML(value='')))"
      ]
     },
     "metadata": {},
     "output_type": "display_data"
    },
    {
     "data": {
      "application/vnd.jupyter.widget-view+json": {
       "model_id": "1706ff650a9b46be88a0f8d4e026224a",
       "version_major": 2,
       "version_minor": 0
      },
      "text/plain": [
       "HBox(children=(IntProgress(value=0, max=143), HTML(value='')))"
      ]
     },
     "metadata": {},
     "output_type": "display_data"
    },
    {
     "data": {
      "application/vnd.jupyter.widget-view+json": {
       "model_id": "43b11a0e8a4047319668a45154d8b394",
       "version_major": 2,
       "version_minor": 0
      },
      "text/plain": [
       "HBox(children=(IntProgress(value=0, max=81), HTML(value='')))"
      ]
     },
     "metadata": {},
     "output_type": "display_data"
    },
    {
     "data": {
      "application/vnd.jupyter.widget-view+json": {
       "model_id": "29b0c97e44f24cff91220c4aa58931bd",
       "version_major": 2,
       "version_minor": 0
      },
      "text/plain": [
       "HBox(children=(IntProgress(value=0, max=5), HTML(value='')))"
      ]
     },
     "metadata": {},
     "output_type": "display_data"
    },
    {
     "data": {
      "application/vnd.jupyter.widget-view+json": {
       "model_id": "49e3e6c85b4f46dcaa3c5fd185ce5df7",
       "version_major": 2,
       "version_minor": 0
      },
      "text/plain": [
       "HBox(children=(IntProgress(value=0, max=48), HTML(value='')))"
      ]
     },
     "metadata": {},
     "output_type": "display_data"
    },
    {
     "data": {
      "application/vnd.jupyter.widget-view+json": {
       "model_id": "1f83558f249d4d1c958cd3c19755daf2",
       "version_major": 2,
       "version_minor": 0
      },
      "text/plain": [
       "HBox(children=(IntProgress(value=0, max=5), HTML(value='')))"
      ]
     },
     "metadata": {},
     "output_type": "display_data"
    },
    {
     "data": {
      "application/vnd.jupyter.widget-view+json": {
       "model_id": "8999c890ffec4f0a8678a7f4c8f17f62",
       "version_major": 2,
       "version_minor": 0
      },
      "text/plain": [
       "HBox(children=(IntProgress(value=1, bar_style='info', max=1), HTML(value='')))"
      ]
     },
     "metadata": {},
     "output_type": "display_data"
    },
    {
     "name": "stdout",
     "output_type": "stream",
     "text": [
      "\n"
     ]
    }
   ],
   "source": [
    "# find_dissimilar_samples\n",
    "go_category_dataframe[\"Similarity_Matrix\"] = \"\"\n",
    "go_category_dataframe[\"Dissimilar_Terms\"] = \"\"\n",
    "for index, row in tqdm_notebook(go_category_dataframe.iterrows(), total=go_category_dataframe.shape[0]):\n",
    "#for index, row in go_category_dataframe.iterrows():\n",
    "    #if len(row.GO_IDs) > 5:\n",
    "    similarity_matrix = calculate_similarity_matrix(row.GO_IDs,row.Aspect)\n",
    "    go_category_dataframe.at[index,\"Similarity_Matrix\"] = similarity_matrix\n",
    "    go_category_dataframe.at[index,\"Dissimilar_Terms\"] = get_most_dissimilar_terms(similarity_matrix,5)"
   ]
  },
  {
   "cell_type": "code",
   "execution_count": 54,
   "metadata": {},
   "outputs": [],
   "source": [
    "go_category_dataframe.to_pickle(save_path + 'go_category_dataframe.pkl')"
   ]
  },
  {
   "cell_type": "code",
   "execution_count": 4,
   "metadata": {},
   "outputs": [],
   "source": [
    "go_category_dataframe = pd.read_pickle(save_path + 'go_category_dataframe.pkl')"
   ]
  },
  {
   "cell_type": "code",
   "execution_count": 61,
   "metadata": {},
   "outputs": [
    {
     "data": {
      "text/html": [
       "<div>\n",
       "<style scoped>\n",
       "    .dataframe tbody tr th:only-of-type {\n",
       "        vertical-align: middle;\n",
       "    }\n",
       "\n",
       "    .dataframe tbody tr th {\n",
       "        vertical-align: top;\n",
       "    }\n",
       "\n",
       "    .dataframe thead th {\n",
       "        text-align: right;\n",
       "    }\n",
       "</style>\n",
       "<table border=\"1\" class=\"dataframe\">\n",
       "  <thead>\n",
       "    <tr style=\"text-align: right;\">\n",
       "      <th></th>\n",
       "      <th>Aspect</th>\n",
       "      <th>Number_Category</th>\n",
       "      <th>Term_Specificity</th>\n",
       "      <th>Dissimilar_Terms</th>\n",
       "    </tr>\n",
       "  </thead>\n",
       "  <tbody>\n",
       "    <tr>\n",
       "      <th>0</th>\n",
       "      <td>cellular_component</td>\n",
       "      <td>Low</td>\n",
       "      <td>Shallow</td>\n",
       "      <td>{GO:0000124, GO:0097165, GO:0008024, GO:0032590, GO:0033162}</td>\n",
       "    </tr>\n",
       "    <tr>\n",
       "      <th>1</th>\n",
       "      <td>cellular_component</td>\n",
       "      <td>Low</td>\n",
       "      <td>Normal</td>\n",
       "      <td>{GO:0036020, GO:0070081, GO:0044754, GO:1990454, GO:0031089}</td>\n",
       "    </tr>\n",
       "    <tr>\n",
       "      <th>2</th>\n",
       "      <td>cellular_component</td>\n",
       "      <td>Low</td>\n",
       "      <td>Specific</td>\n",
       "      <td>{GO:0019908, GO:0005767, GO:0032009, GO:0005736, GO:0099061}</td>\n",
       "    </tr>\n",
       "    <tr>\n",
       "      <th>3</th>\n",
       "      <td>cellular_component</td>\n",
       "      <td>Middle</td>\n",
       "      <td>Shallow</td>\n",
       "      <td>{GO:0008076, GO:0005762, GO:0005747, GO:0036464, GO:0044853}</td>\n",
       "    </tr>\n",
       "    <tr>\n",
       "      <th>4</th>\n",
       "      <td>cellular_component</td>\n",
       "      <td>Middle</td>\n",
       "      <td>Normal</td>\n",
       "      <td>{GO:0000502, GO:0005925, GO:0022627, GO:0030665, GO:0034705}</td>\n",
       "    </tr>\n",
       "    <tr>\n",
       "      <th>5</th>\n",
       "      <td>cellular_component</td>\n",
       "      <td>Middle</td>\n",
       "      <td>Specific</td>\n",
       "      <td>{GO:0005766, GO:0016591, GO:0101002, GO:0008021}</td>\n",
       "    </tr>\n",
       "    <tr>\n",
       "      <th>6</th>\n",
       "      <td>cellular_component</td>\n",
       "      <td>High</td>\n",
       "      <td>Shallow</td>\n",
       "      <td>{GO:0005789, GO:1990234, GO:1903561, GO:0005740, GO:0070013}</td>\n",
       "    </tr>\n",
       "    <tr>\n",
       "      <th>7</th>\n",
       "      <td>cellular_component</td>\n",
       "      <td>High</td>\n",
       "      <td>Normal</td>\n",
       "      <td>{GO:0070062, GO:0000228, GO:0031981, GO:0015630, GO:0005768}</td>\n",
       "    </tr>\n",
       "    <tr>\n",
       "      <th>8</th>\n",
       "      <td>cellular_component</td>\n",
       "      <td>High</td>\n",
       "      <td>Specific</td>\n",
       "      <td>{}</td>\n",
       "    </tr>\n",
       "    <tr>\n",
       "      <th>9</th>\n",
       "      <td>biological_process</td>\n",
       "      <td>Low</td>\n",
       "      <td>Shallow</td>\n",
       "      <td>{GO:0032933, GO:0006348, GO:0042989, GO:0000054, GO:0039529}</td>\n",
       "    </tr>\n",
       "    <tr>\n",
       "      <th>10</th>\n",
       "      <td>biological_process</td>\n",
       "      <td>Low</td>\n",
       "      <td>Normal</td>\n",
       "      <td>{GO:0098703, GO:0061740, GO:0014808, GO:0000056, GO:0050482}</td>\n",
       "    </tr>\n",
       "    <tr>\n",
       "      <th>11</th>\n",
       "      <td>biological_process</td>\n",
       "      <td>Low</td>\n",
       "      <td>Specific</td>\n",
       "      <td>{GO:0043984, GO:0034625, GO:0006231, GO:0046323, GO:0072539}</td>\n",
       "    </tr>\n",
       "    <tr>\n",
       "      <th>12</th>\n",
       "      <td>biological_process</td>\n",
       "      <td>Middle</td>\n",
       "      <td>Shallow</td>\n",
       "      <td>{GO:0043488, GO:0043312, GO:0038096, GO:0006637, GO:0051091}</td>\n",
       "    </tr>\n",
       "    <tr>\n",
       "      <th>13</th>\n",
       "      <td>biological_process</td>\n",
       "      <td>Middle</td>\n",
       "      <td>Normal</td>\n",
       "      <td>{GO:0071427, GO:0016573, GO:0006613, GO:0031146, GO:0051092}</td>\n",
       "    </tr>\n",
       "    <tr>\n",
       "      <th>14</th>\n",
       "      <td>biological_process</td>\n",
       "      <td>Middle</td>\n",
       "      <td>Specific</td>\n",
       "      <td>{GO:1903169, GO:0050773, GO:0071805, GO:0031124, GO:0000209}</td>\n",
       "    </tr>\n",
       "    <tr>\n",
       "      <th>15</th>\n",
       "      <td>biological_process</td>\n",
       "      <td>High</td>\n",
       "      <td>Shallow</td>\n",
       "      <td>{GO:0007399, GO:0006259, GO:0007167, GO:0006886, GO:0051707}</td>\n",
       "    </tr>\n",
       "    <tr>\n",
       "      <th>16</th>\n",
       "      <td>biological_process</td>\n",
       "      <td>High</td>\n",
       "      <td>Normal</td>\n",
       "      <td>{GO:0070647, GO:0016071, GO:0015833, GO:0048699, GO:0019752}</td>\n",
       "    </tr>\n",
       "    <tr>\n",
       "      <th>17</th>\n",
       "      <td>biological_process</td>\n",
       "      <td>High</td>\n",
       "      <td>Specific</td>\n",
       "      <td>{GO:0045944, GO:0001934, GO:1903507}</td>\n",
       "    </tr>\n",
       "    <tr>\n",
       "      <th>18</th>\n",
       "      <td>molecular_function</td>\n",
       "      <td>Low</td>\n",
       "      <td>Shallow</td>\n",
       "      <td>{GO:0015187, GO:0008568, GO:0008508, GO:0005328, GO:0043138}</td>\n",
       "    </tr>\n",
       "    <tr>\n",
       "      <th>19</th>\n",
       "      <td>molecular_function</td>\n",
       "      <td>Low</td>\n",
       "      <td>Normal</td>\n",
       "      <td>{GO:0016934, GO:0022848, GO:0005314, GO:0003689, GO:0005335}</td>\n",
       "    </tr>\n",
       "    <tr>\n",
       "      <th>20</th>\n",
       "      <td>molecular_function</td>\n",
       "      <td>Low</td>\n",
       "      <td>Specific</td>\n",
       "      <td>{GO:0004957, GO:0008511, GO:0004571, GO:0017049, GO:0097199}</td>\n",
       "    </tr>\n",
       "    <tr>\n",
       "      <th>21</th>\n",
       "      <td>molecular_function</td>\n",
       "      <td>Middle</td>\n",
       "      <td>Shallow</td>\n",
       "      <td>{GO:0036459, GO:0046943, GO:0005524, GO:0005244, GO:0022835}</td>\n",
       "    </tr>\n",
       "    <tr>\n",
       "      <th>22</th>\n",
       "      <td>molecular_function</td>\n",
       "      <td>Middle</td>\n",
       "      <td>Normal</td>\n",
       "      <td>{GO:0003774, GO:0008227, GO:0004866, GO:0004714, GO:0004843}</td>\n",
       "    </tr>\n",
       "    <tr>\n",
       "      <th>23</th>\n",
       "      <td>molecular_function</td>\n",
       "      <td>Middle</td>\n",
       "      <td>Specific</td>\n",
       "      <td>{GO:0061733, GO:0003777, GO:0004386}</td>\n",
       "    </tr>\n",
       "    <tr>\n",
       "      <th>24</th>\n",
       "      <td>molecular_function</td>\n",
       "      <td>High</td>\n",
       "      <td>Shallow</td>\n",
       "      <td>{GO:0016818, GO:0022890, GO:0046872, GO:0004672, GO:0000981}</td>\n",
       "    </tr>\n",
       "    <tr>\n",
       "      <th>25</th>\n",
       "      <td>molecular_function</td>\n",
       "      <td>High</td>\n",
       "      <td>Normal</td>\n",
       "      <td>{GO:0016462, GO:0044212}</td>\n",
       "    </tr>\n",
       "    <tr>\n",
       "      <th>26</th>\n",
       "      <td>molecular_function</td>\n",
       "      <td>High</td>\n",
       "      <td>Specific</td>\n",
       "      <td>{}</td>\n",
       "    </tr>\n",
       "  </tbody>\n",
       "</table>\n",
       "</div>"
      ],
      "text/plain": [
       "                Aspect Number_Category Term_Specificity  \\\n",
       "0   cellular_component  Low             Shallow           \n",
       "1   cellular_component  Low             Normal            \n",
       "2   cellular_component  Low             Specific          \n",
       "3   cellular_component  Middle          Shallow           \n",
       "4   cellular_component  Middle          Normal            \n",
       "5   cellular_component  Middle          Specific          \n",
       "6   cellular_component  High            Shallow           \n",
       "7   cellular_component  High            Normal            \n",
       "8   cellular_component  High            Specific          \n",
       "9   biological_process  Low             Shallow           \n",
       "10  biological_process  Low             Normal            \n",
       "11  biological_process  Low             Specific          \n",
       "12  biological_process  Middle          Shallow           \n",
       "13  biological_process  Middle          Normal            \n",
       "14  biological_process  Middle          Specific          \n",
       "15  biological_process  High            Shallow           \n",
       "16  biological_process  High            Normal            \n",
       "17  biological_process  High            Specific          \n",
       "18  molecular_function  Low             Shallow           \n",
       "19  molecular_function  Low             Normal            \n",
       "20  molecular_function  Low             Specific          \n",
       "21  molecular_function  Middle          Shallow           \n",
       "22  molecular_function  Middle          Normal            \n",
       "23  molecular_function  Middle          Specific          \n",
       "24  molecular_function  High            Shallow           \n",
       "25  molecular_function  High            Normal            \n",
       "26  molecular_function  High            Specific          \n",
       "\n",
       "                                                Dissimilar_Terms  \n",
       "0   {GO:0000124, GO:0097165, GO:0008024, GO:0032590, GO:0033162}  \n",
       "1   {GO:0036020, GO:0070081, GO:0044754, GO:1990454, GO:0031089}  \n",
       "2   {GO:0019908, GO:0005767, GO:0032009, GO:0005736, GO:0099061}  \n",
       "3   {GO:0008076, GO:0005762, GO:0005747, GO:0036464, GO:0044853}  \n",
       "4   {GO:0000502, GO:0005925, GO:0022627, GO:0030665, GO:0034705}  \n",
       "5   {GO:0005766, GO:0016591, GO:0101002, GO:0008021}              \n",
       "6   {GO:0005789, GO:1990234, GO:1903561, GO:0005740, GO:0070013}  \n",
       "7   {GO:0070062, GO:0000228, GO:0031981, GO:0015630, GO:0005768}  \n",
       "8   {}                                                            \n",
       "9   {GO:0032933, GO:0006348, GO:0042989, GO:0000054, GO:0039529}  \n",
       "10  {GO:0098703, GO:0061740, GO:0014808, GO:0000056, GO:0050482}  \n",
       "11  {GO:0043984, GO:0034625, GO:0006231, GO:0046323, GO:0072539}  \n",
       "12  {GO:0043488, GO:0043312, GO:0038096, GO:0006637, GO:0051091}  \n",
       "13  {GO:0071427, GO:0016573, GO:0006613, GO:0031146, GO:0051092}  \n",
       "14  {GO:1903169, GO:0050773, GO:0071805, GO:0031124, GO:0000209}  \n",
       "15  {GO:0007399, GO:0006259, GO:0007167, GO:0006886, GO:0051707}  \n",
       "16  {GO:0070647, GO:0016071, GO:0015833, GO:0048699, GO:0019752}  \n",
       "17  {GO:0045944, GO:0001934, GO:1903507}                          \n",
       "18  {GO:0015187, GO:0008568, GO:0008508, GO:0005328, GO:0043138}  \n",
       "19  {GO:0016934, GO:0022848, GO:0005314, GO:0003689, GO:0005335}  \n",
       "20  {GO:0004957, GO:0008511, GO:0004571, GO:0017049, GO:0097199}  \n",
       "21  {GO:0036459, GO:0046943, GO:0005524, GO:0005244, GO:0022835}  \n",
       "22  {GO:0003774, GO:0008227, GO:0004866, GO:0004714, GO:0004843}  \n",
       "23  {GO:0061733, GO:0003777, GO:0004386}                          \n",
       "24  {GO:0016818, GO:0022890, GO:0046872, GO:0004672, GO:0000981}  \n",
       "25  {GO:0016462, GO:0044212}                                      \n",
       "26  {}                                                            "
      ]
     },
     "execution_count": 61,
     "metadata": {},
     "output_type": "execute_result"
    }
   ],
   "source": [
    "pd.set_option('display.max_rows', None)\n",
    "pd.set_option('display.max_columns', None)\n",
    "pd.set_option('display.width', None)\n",
    "pd.set_option('display.max_colwidth', -1)\n",
    "go_category_dataframe[['Aspect','Number_Category','Term_Specificity','Dissimilar_Terms']]"
   ]
  },
  {
   "cell_type": "markdown",
   "metadata": {},
   "source": [
    "check if is there any value greater than 1 to see any bug exits"
   ]
  },
  {
   "cell_type": "code",
   "execution_count": 6,
   "metadata": {},
   "outputs": [],
   "source": [
    "for sim_matrix in go_category_dataframe['Similarity_Matrix']:\n",
    "    isDF = type(sim_matrix) is pd.core.frame.DataFrame\n",
    "    if (isDF and True in set(sim_matrix.gt(1).any())):\n",
    "        print(sim_matrix)"
   ]
  },
  {
   "cell_type": "code",
   "execution_count": 25,
   "metadata": {},
   "outputs": [],
   "source": [
    "dissimilar_terms_dataframe = pd.DataFrame(columns = ['GO_ID', 'Number_of_Proteins', 'Proteins'])\n",
    "\n",
    "for go_ids in list(go_category_dataframe[\"Dissimilar_Terms\"]):\n",
    "    for go_id in go_ids:\n",
    "        annotated_proteins = list(set(propagated_go_terms \\\n",
    "                                      .loc[(propagated_go_terms['GO_ID'] == go_id)]['DB_OBJECT_ID']))\n",
    "        number_of_proteins = len(annotated_proteins)\n",
    "        dissimilar_terms_dataframe = dissimilar_terms_dataframe.append({'GO_ID': go_id,'Number_of_Proteins':number_of_proteins, 'Proteins': annotated_proteins},ignore_index=True)"
   ]
  },
  {
   "cell_type": "code",
   "execution_count": 26,
   "metadata": {},
   "outputs": [
    {
     "data": {
      "text/html": [
       "<div>\n",
       "<style scoped>\n",
       "    .dataframe tbody tr th:only-of-type {\n",
       "        vertical-align: middle;\n",
       "    }\n",
       "\n",
       "    .dataframe tbody tr th {\n",
       "        vertical-align: top;\n",
       "    }\n",
       "\n",
       "    .dataframe thead th {\n",
       "        text-align: right;\n",
       "    }\n",
       "</style>\n",
       "<table border=\"1\" class=\"dataframe\">\n",
       "  <thead>\n",
       "    <tr style=\"text-align: right;\">\n",
       "      <th></th>\n",
       "      <th>GO_ID</th>\n",
       "      <th>Number_of_Proteins</th>\n",
       "      <th>Proteins</th>\n",
       "    </tr>\n",
       "  </thead>\n",
       "  <tbody>\n",
       "    <tr>\n",
       "      <th>0</th>\n",
       "      <td>GO:0000124</td>\n",
       "      <td>12</td>\n",
       "      <td>[Q9HBM6, Q16514, Q9UPT9, P0C7V6, Q8NEM7, Q1659...</td>\n",
       "    </tr>\n",
       "    <tr>\n",
       "      <th>1</th>\n",
       "      <td>GO:0097165</td>\n",
       "      <td>5</td>\n",
       "      <td>[Q92797, P31483, Q08211, Q00613, P63165]</td>\n",
       "    </tr>\n",
       "    <tr>\n",
       "      <th>2</th>\n",
       "      <td>GO:0008024</td>\n",
       "      <td>7</td>\n",
       "      <td>[Q14004, P50750, O60563, O60583, O75909, Q1357...</td>\n",
       "    </tr>\n",
       "    <tr>\n",
       "      <th>3</th>\n",
       "      <td>GO:0032590</td>\n",
       "      <td>25</td>\n",
       "      <td>[P24588, Q99527, P04216, O43556, Q14003, P0621...</td>\n",
       "    </tr>\n",
       "    <tr>\n",
       "      <th>4</th>\n",
       "      <td>GO:0033162</td>\n",
       "      <td>10</td>\n",
       "      <td>[P51159, P07101, Q13637, P51810, P17643, P4012...</td>\n",
       "    </tr>\n",
       "    <tr>\n",
       "      <th>5</th>\n",
       "      <td>GO:0036020</td>\n",
       "      <td>14</td>\n",
       "      <td>[Q9NR96, O94973, Q2KHT3, Q00610, Q8NBP7, Q9NYK...</td>\n",
       "    </tr>\n",
       "    <tr>\n",
       "      <th>6</th>\n",
       "      <td>GO:0070081</td>\n",
       "      <td>5</td>\n",
       "      <td>[P54219, P20336, P21579, Q05940, P63027]</td>\n",
       "    </tr>\n",
       "    <tr>\n",
       "      <th>7</th>\n",
       "      <td>GO:0044754</td>\n",
       "      <td>8</td>\n",
       "      <td>[Q13501, P02794, Q9H492, P02792, Q8NEB9, Q5S00...</td>\n",
       "    </tr>\n",
       "    <tr>\n",
       "      <th>8</th>\n",
       "      <td>GO:1990454</td>\n",
       "      <td>12</td>\n",
       "      <td>[Q08289, Q01668, Q9UBN1, Q13698, P54284, P6295...</td>\n",
       "    </tr>\n",
       "    <tr>\n",
       "      <th>9</th>\n",
       "      <td>GO:0031089</td>\n",
       "      <td>14</td>\n",
       "      <td>[Q14624, Q7L3B6, P35625, P05452, P29622, Q9996...</td>\n",
       "    </tr>\n",
       "    <tr>\n",
       "      <th>10</th>\n",
       "      <td>GO:0019908</td>\n",
       "      <td>12</td>\n",
       "      <td>[Q9P287, Q14004, P50750, P50613, P51946, Q9NYV...</td>\n",
       "    </tr>\n",
       "    <tr>\n",
       "      <th>11</th>\n",
       "      <td>GO:0005767</td>\n",
       "      <td>13</td>\n",
       "      <td>[Q13501, P02794, P78325, Q9H492, Q15080, P0279...</td>\n",
       "    </tr>\n",
       "    <tr>\n",
       "      <th>12</th>\n",
       "      <td>GO:0032009</td>\n",
       "      <td>11</td>\n",
       "      <td>[Q8NEU8, Q9NR96, O60493, Q9NYK1, Q9UKG1, Q9BT8...</td>\n",
       "    </tr>\n",
       "    <tr>\n",
       "      <th>13</th>\n",
       "      <td>GO:0005736</td>\n",
       "      <td>13</td>\n",
       "      <td>[Q9GZS1, P53803, Q9P1U0, P61218, P62875, Q9H9Y...</td>\n",
       "    </tr>\n",
       "    <tr>\n",
       "      <th>14</th>\n",
       "      <td>GO:0099061</td>\n",
       "      <td>8</td>\n",
       "      <td>[Q9UPU3, Q6UXU4, Q9BTN0, Q9ULH4, Q96NI6, Q6PJG...</td>\n",
       "    </tr>\n",
       "    <tr>\n",
       "      <th>15</th>\n",
       "      <td>GO:0008076</td>\n",
       "      <td>81</td>\n",
       "      <td>[Q2I0M4, Q14722, P48544, O00180, P15382, Q1632...</td>\n",
       "    </tr>\n",
       "    <tr>\n",
       "      <th>16</th>\n",
       "      <td>GO:0005762</td>\n",
       "      <td>58</td>\n",
       "      <td>[Q9P0M9, Q9BYD2, P49406, Q9BQ48, Q9H9J2, Q7Z2W...</td>\n",
       "    </tr>\n",
       "    <tr>\n",
       "      <th>17</th>\n",
       "      <td>GO:0005747</td>\n",
       "      <td>49</td>\n",
       "      <td>[O95182, Q9NW81, O95299, P56181, O43181, Q9UI0...</td>\n",
       "    </tr>\n",
       "    <tr>\n",
       "      <th>18</th>\n",
       "      <td>GO:0036464</td>\n",
       "      <td>197</td>\n",
       "      <td>[O75175, O15524, A5YKK6, Q8N122, Q5PRF9, Q86TB...</td>\n",
       "    </tr>\n",
       "    <tr>\n",
       "      <th>19</th>\n",
       "      <td>GO:0044853</td>\n",
       "      <td>81</td>\n",
       "      <td>[Q8NI77, Q14524, Q13094, Q03135, O95810, P3689...</td>\n",
       "    </tr>\n",
       "    <tr>\n",
       "      <th>20</th>\n",
       "      <td>GO:0000502</td>\n",
       "      <td>54</td>\n",
       "      <td>[P28070, P25786, P62195, O43242, P28072, P5472...</td>\n",
       "    </tr>\n",
       "    <tr>\n",
       "      <th>21</th>\n",
       "      <td>GO:0005925</td>\n",
       "      <td>364</td>\n",
       "      <td>[Q9NVD7, P21291, Q03135, P46782, O43294, Q9NZN...</td>\n",
       "    </tr>\n",
       "    <tr>\n",
       "      <th>22</th>\n",
       "      <td>GO:0022627</td>\n",
       "      <td>45</td>\n",
       "      <td>[P62841, P46781, P62280, P39019, Q9ULC4, Q5JNZ...</td>\n",
       "    </tr>\n",
       "    <tr>\n",
       "      <th>23</th>\n",
       "      <td>GO:0030665</td>\n",
       "      <td>95</td>\n",
       "      <td>[Q9UMZ2, O94973, Q15836, P30518, Q99259, O7590...</td>\n",
       "    </tr>\n",
       "    <tr>\n",
       "      <th>24</th>\n",
       "      <td>GO:0034705</td>\n",
       "      <td>92</td>\n",
       "      <td>[Q2I0M4, Q14722, P48544, O00180, P15382, Q1632...</td>\n",
       "    </tr>\n",
       "    <tr>\n",
       "      <th>25</th>\n",
       "      <td>GO:0005766</td>\n",
       "      <td>154</td>\n",
       "      <td>[P08962, P41218, Q9NV96, Q70J99, P59665, O6078...</td>\n",
       "    </tr>\n",
       "    <tr>\n",
       "      <th>26</th>\n",
       "      <td>GO:0016591</td>\n",
       "      <td>73</td>\n",
       "      <td>[Q12962, P19387, O15514, A6NLC8, P18074, P2167...</td>\n",
       "    </tr>\n",
       "    <tr>\n",
       "      <th>27</th>\n",
       "      <td>GO:0101002</td>\n",
       "      <td>122</td>\n",
       "      <td>[P41218, O43242, O75874, Q14764, Q9UBI1, O0023...</td>\n",
       "    </tr>\n",
       "    <tr>\n",
       "      <th>28</th>\n",
       "      <td>GO:0008021</td>\n",
       "      <td>126</td>\n",
       "      <td>[Q13614, Q5VXT5, P01138, Q05940, Q02410, Q9UEU...</td>\n",
       "    </tr>\n",
       "    <tr>\n",
       "      <th>29</th>\n",
       "      <td>GO:0005789</td>\n",
       "      <td>755</td>\n",
       "      <td>[Q86VF5, Q8N766, Q9BUM1, P04839, P22680, Q8IU8...</td>\n",
       "    </tr>\n",
       "    <tr>\n",
       "      <th>...</th>\n",
       "      <td>...</td>\n",
       "      <td>...</td>\n",
       "      <td>...</td>\n",
       "    </tr>\n",
       "    <tr>\n",
       "      <th>87</th>\n",
       "      <td>GO:0016934</td>\n",
       "      <td>2</td>\n",
       "      <td>[P23415, P48167]</td>\n",
       "    </tr>\n",
       "    <tr>\n",
       "      <th>88</th>\n",
       "      <td>GO:0022848</td>\n",
       "      <td>14</td>\n",
       "      <td>[P43681, P32297, P17787, Q04844, P36544, P3092...</td>\n",
       "    </tr>\n",
       "    <tr>\n",
       "      <th>89</th>\n",
       "      <td>GO:0005314</td>\n",
       "      <td>4</td>\n",
       "      <td>[P43005, P48664, P43004, P43003]</td>\n",
       "    </tr>\n",
       "    <tr>\n",
       "      <th>90</th>\n",
       "      <td>GO:0003689</td>\n",
       "      <td>8</td>\n",
       "      <td>[Q9BVC3, P0CG13, P40938, P35249, O75943, Q8WVB...</td>\n",
       "    </tr>\n",
       "    <tr>\n",
       "      <th>91</th>\n",
       "      <td>GO:0005335</td>\n",
       "      <td>3</td>\n",
       "      <td>[P31645, P54219, Q05940]</td>\n",
       "    </tr>\n",
       "    <tr>\n",
       "      <th>92</th>\n",
       "      <td>GO:0004957</td>\n",
       "      <td>5</td>\n",
       "      <td>[P43115, P15428, P43116, P35408, P34995]</td>\n",
       "    </tr>\n",
       "    <tr>\n",
       "      <th>93</th>\n",
       "      <td>GO:0008511</td>\n",
       "      <td>3</td>\n",
       "      <td>[P55017, P55011, Q13621]</td>\n",
       "    </tr>\n",
       "    <tr>\n",
       "      <th>94</th>\n",
       "      <td>GO:0004571</td>\n",
       "      <td>7</td>\n",
       "      <td>[O60476, Q9BZQ6, Q9BV94, P33908, Q9UKM7, Q9261...</td>\n",
       "    </tr>\n",
       "    <tr>\n",
       "      <th>95</th>\n",
       "      <td>GO:0017049</td>\n",
       "      <td>20</td>\n",
       "      <td>[Q9H3F6, Q9H521, Q9BST9, Q00587, Q8TF30, Q1651...</td>\n",
       "    </tr>\n",
       "    <tr>\n",
       "      <th>96</th>\n",
       "      <td>GO:0097199</td>\n",
       "      <td>10</td>\n",
       "      <td>[P55211, P29466, Q6UXS9, P42574, Q14790, P5187...</td>\n",
       "    </tr>\n",
       "    <tr>\n",
       "      <th>97</th>\n",
       "      <td>GO:0036459</td>\n",
       "      <td>84</td>\n",
       "      <td>[O75604, Q9BXU7, Q70CQ3, Q5D1E8, Q96DC9, Q5VVJ...</td>\n",
       "    </tr>\n",
       "    <tr>\n",
       "      <th>98</th>\n",
       "      <td>GO:0046943</td>\n",
       "      <td>142</td>\n",
       "      <td>[P36021, O15427, Q9UM01, Q99884, A1A4F0, Q1EHB...</td>\n",
       "    </tr>\n",
       "    <tr>\n",
       "      <th>99</th>\n",
       "      <td>GO:0005524</td>\n",
       "      <td>289</td>\n",
       "      <td>[P49589, P11908, P68133, Q16774, Q9NYL2, P5705...</td>\n",
       "    </tr>\n",
       "    <tr>\n",
       "      <th>100</th>\n",
       "      <td>GO:0005244</td>\n",
       "      <td>136</td>\n",
       "      <td>[Q2I0M4, P48544, O00180, Q9UF02, P21817, P1538...</td>\n",
       "    </tr>\n",
       "    <tr>\n",
       "      <th>101</th>\n",
       "      <td>GO:0022835</td>\n",
       "      <td>50</td>\n",
       "      <td>[Q13003, P18505, P42263, Q15822, Q15825, Q9UGM...</td>\n",
       "    </tr>\n",
       "    <tr>\n",
       "      <th>102</th>\n",
       "      <td>GO:0003774</td>\n",
       "      <td>96</td>\n",
       "      <td>[Q8NI77, Q2M1P5, Q9UIL4, Q96M86, O14782, Q9UI4...</td>\n",
       "    </tr>\n",
       "    <tr>\n",
       "      <th>103</th>\n",
       "      <td>GO:0008227</td>\n",
       "      <td>55</td>\n",
       "      <td>[P08588, Q8NGC8, Q96RI9, P18089, P20309, O6040...</td>\n",
       "    </tr>\n",
       "    <tr>\n",
       "      <th>104</th>\n",
       "      <td>GO:0004866</td>\n",
       "      <td>127</td>\n",
       "      <td>[Q8WWY7, P01138, Q96P63, Q06033, O75635, Q1541...</td>\n",
       "    </tr>\n",
       "    <tr>\n",
       "      <th>105</th>\n",
       "      <td>GO:0004714</td>\n",
       "      <td>63</td>\n",
       "      <td>[Q12805, P14616, P54762, P35968, P00533, Q1576...</td>\n",
       "    </tr>\n",
       "    <tr>\n",
       "      <th>106</th>\n",
       "      <td>GO:0004843</td>\n",
       "      <td>83</td>\n",
       "      <td>[O75604, Q9BXU7, Q70CQ3, Q5D1E8, Q96DC9, Q5VVJ...</td>\n",
       "    </tr>\n",
       "    <tr>\n",
       "      <th>107</th>\n",
       "      <td>GO:0061733</td>\n",
       "      <td>60</td>\n",
       "      <td>[Q12962, Q7Z3B3, Q92785, O15516, Q6ZRS2, P2167...</td>\n",
       "    </tr>\n",
       "    <tr>\n",
       "      <th>108</th>\n",
       "      <td>GO:0003777</td>\n",
       "      <td>74</td>\n",
       "      <td>[Q5T7B8, Q8NI77, Q9P2D7, Q9P2P6, Q9P2E2, Q6ZMV...</td>\n",
       "    </tr>\n",
       "    <tr>\n",
       "      <th>109</th>\n",
       "      <td>GO:0004386</td>\n",
       "      <td>93</td>\n",
       "      <td>[Q92878, P18074, Q13838, Q7L2E3, Q9BVC3, Q1328...</td>\n",
       "    </tr>\n",
       "    <tr>\n",
       "      <th>110</th>\n",
       "      <td>GO:0016818</td>\n",
       "      <td>653</td>\n",
       "      <td>[Q9NYR9, Q9BVQ7, Q92878, Q8NI77, P51157, Q9NZQ...</td>\n",
       "    </tr>\n",
       "    <tr>\n",
       "      <th>111</th>\n",
       "      <td>GO:0022890</td>\n",
       "      <td>513</td>\n",
       "      <td>[O75949, O00180, Q14524, Q9NW15, Q9BRY0, P4806...</td>\n",
       "    </tr>\n",
       "    <tr>\n",
       "      <th>112</th>\n",
       "      <td>GO:0046872</td>\n",
       "      <td>899</td>\n",
       "      <td>[P19793, P17026, P16050, Q9NYL2, P57059, Q9BXM...</td>\n",
       "    </tr>\n",
       "    <tr>\n",
       "      <th>113</th>\n",
       "      <td>GO:0004672</td>\n",
       "      <td>528</td>\n",
       "      <td>[Q9NYL2, P57059, Q7RTN6, Q9BXM7, P52798, Q1541...</td>\n",
       "    </tr>\n",
       "    <tr>\n",
       "      <th>114</th>\n",
       "      <td>GO:0000981</td>\n",
       "      <td>983</td>\n",
       "      <td>[P48431, P19793, P35711, Q86T24, O43186, P4116...</td>\n",
       "    </tr>\n",
       "    <tr>\n",
       "      <th>115</th>\n",
       "      <td>GO:0016462</td>\n",
       "      <td>651</td>\n",
       "      <td>[Q9NYR9, Q9BVQ7, Q92878, Q8NI77, P51157, Q9NZQ...</td>\n",
       "    </tr>\n",
       "    <tr>\n",
       "      <th>116</th>\n",
       "      <td>GO:0044212</td>\n",
       "      <td>816</td>\n",
       "      <td>[P48431, P19793, O43186, P51449, O14686, Q8WYK...</td>\n",
       "    </tr>\n",
       "  </tbody>\n",
       "</table>\n",
       "<p>117 rows × 3 columns</p>\n",
       "</div>"
      ],
      "text/plain": [
       "          GO_ID Number_of_Proteins  \\\n",
       "0    GO:0000124                 12   \n",
       "1    GO:0097165                  5   \n",
       "2    GO:0008024                  7   \n",
       "3    GO:0032590                 25   \n",
       "4    GO:0033162                 10   \n",
       "5    GO:0036020                 14   \n",
       "6    GO:0070081                  5   \n",
       "7    GO:0044754                  8   \n",
       "8    GO:1990454                 12   \n",
       "9    GO:0031089                 14   \n",
       "10   GO:0019908                 12   \n",
       "11   GO:0005767                 13   \n",
       "12   GO:0032009                 11   \n",
       "13   GO:0005736                 13   \n",
       "14   GO:0099061                  8   \n",
       "15   GO:0008076                 81   \n",
       "16   GO:0005762                 58   \n",
       "17   GO:0005747                 49   \n",
       "18   GO:0036464                197   \n",
       "19   GO:0044853                 81   \n",
       "20   GO:0000502                 54   \n",
       "21   GO:0005925                364   \n",
       "22   GO:0022627                 45   \n",
       "23   GO:0030665                 95   \n",
       "24   GO:0034705                 92   \n",
       "25   GO:0005766                154   \n",
       "26   GO:0016591                 73   \n",
       "27   GO:0101002                122   \n",
       "28   GO:0008021                126   \n",
       "29   GO:0005789                755   \n",
       "..          ...                ...   \n",
       "87   GO:0016934                  2   \n",
       "88   GO:0022848                 14   \n",
       "89   GO:0005314                  4   \n",
       "90   GO:0003689                  8   \n",
       "91   GO:0005335                  3   \n",
       "92   GO:0004957                  5   \n",
       "93   GO:0008511                  3   \n",
       "94   GO:0004571                  7   \n",
       "95   GO:0017049                 20   \n",
       "96   GO:0097199                 10   \n",
       "97   GO:0036459                 84   \n",
       "98   GO:0046943                142   \n",
       "99   GO:0005524                289   \n",
       "100  GO:0005244                136   \n",
       "101  GO:0022835                 50   \n",
       "102  GO:0003774                 96   \n",
       "103  GO:0008227                 55   \n",
       "104  GO:0004866                127   \n",
       "105  GO:0004714                 63   \n",
       "106  GO:0004843                 83   \n",
       "107  GO:0061733                 60   \n",
       "108  GO:0003777                 74   \n",
       "109  GO:0004386                 93   \n",
       "110  GO:0016818                653   \n",
       "111  GO:0022890                513   \n",
       "112  GO:0046872                899   \n",
       "113  GO:0004672                528   \n",
       "114  GO:0000981                983   \n",
       "115  GO:0016462                651   \n",
       "116  GO:0044212                816   \n",
       "\n",
       "                                              Proteins  \n",
       "0    [Q9HBM6, Q16514, Q9UPT9, P0C7V6, Q8NEM7, Q1659...  \n",
       "1             [Q92797, P31483, Q08211, Q00613, P63165]  \n",
       "2    [Q14004, P50750, O60563, O60583, O75909, Q1357...  \n",
       "3    [P24588, Q99527, P04216, O43556, Q14003, P0621...  \n",
       "4    [P51159, P07101, Q13637, P51810, P17643, P4012...  \n",
       "5    [Q9NR96, O94973, Q2KHT3, Q00610, Q8NBP7, Q9NYK...  \n",
       "6             [P54219, P20336, P21579, Q05940, P63027]  \n",
       "7    [Q13501, P02794, Q9H492, P02792, Q8NEB9, Q5S00...  \n",
       "8    [Q08289, Q01668, Q9UBN1, Q13698, P54284, P6295...  \n",
       "9    [Q14624, Q7L3B6, P35625, P05452, P29622, Q9996...  \n",
       "10   [Q9P287, Q14004, P50750, P50613, P51946, Q9NYV...  \n",
       "11   [Q13501, P02794, P78325, Q9H492, Q15080, P0279...  \n",
       "12   [Q8NEU8, Q9NR96, O60493, Q9NYK1, Q9UKG1, Q9BT8...  \n",
       "13   [Q9GZS1, P53803, Q9P1U0, P61218, P62875, Q9H9Y...  \n",
       "14   [Q9UPU3, Q6UXU4, Q9BTN0, Q9ULH4, Q96NI6, Q6PJG...  \n",
       "15   [Q2I0M4, Q14722, P48544, O00180, P15382, Q1632...  \n",
       "16   [Q9P0M9, Q9BYD2, P49406, Q9BQ48, Q9H9J2, Q7Z2W...  \n",
       "17   [O95182, Q9NW81, O95299, P56181, O43181, Q9UI0...  \n",
       "18   [O75175, O15524, A5YKK6, Q8N122, Q5PRF9, Q86TB...  \n",
       "19   [Q8NI77, Q14524, Q13094, Q03135, O95810, P3689...  \n",
       "20   [P28070, P25786, P62195, O43242, P28072, P5472...  \n",
       "21   [Q9NVD7, P21291, Q03135, P46782, O43294, Q9NZN...  \n",
       "22   [P62841, P46781, P62280, P39019, Q9ULC4, Q5JNZ...  \n",
       "23   [Q9UMZ2, O94973, Q15836, P30518, Q99259, O7590...  \n",
       "24   [Q2I0M4, Q14722, P48544, O00180, P15382, Q1632...  \n",
       "25   [P08962, P41218, Q9NV96, Q70J99, P59665, O6078...  \n",
       "26   [Q12962, P19387, O15514, A6NLC8, P18074, P2167...  \n",
       "27   [P41218, O43242, O75874, Q14764, Q9UBI1, O0023...  \n",
       "28   [Q13614, Q5VXT5, P01138, Q05940, Q02410, Q9UEU...  \n",
       "29   [Q86VF5, Q8N766, Q9BUM1, P04839, P22680, Q8IU8...  \n",
       "..                                                 ...  \n",
       "87                                    [P23415, P48167]  \n",
       "88   [P43681, P32297, P17787, Q04844, P36544, P3092...  \n",
       "89                    [P43005, P48664, P43004, P43003]  \n",
       "90   [Q9BVC3, P0CG13, P40938, P35249, O75943, Q8WVB...  \n",
       "91                            [P31645, P54219, Q05940]  \n",
       "92            [P43115, P15428, P43116, P35408, P34995]  \n",
       "93                            [P55017, P55011, Q13621]  \n",
       "94   [O60476, Q9BZQ6, Q9BV94, P33908, Q9UKM7, Q9261...  \n",
       "95   [Q9H3F6, Q9H521, Q9BST9, Q00587, Q8TF30, Q1651...  \n",
       "96   [P55211, P29466, Q6UXS9, P42574, Q14790, P5187...  \n",
       "97   [O75604, Q9BXU7, Q70CQ3, Q5D1E8, Q96DC9, Q5VVJ...  \n",
       "98   [P36021, O15427, Q9UM01, Q99884, A1A4F0, Q1EHB...  \n",
       "99   [P49589, P11908, P68133, Q16774, Q9NYL2, P5705...  \n",
       "100  [Q2I0M4, P48544, O00180, Q9UF02, P21817, P1538...  \n",
       "101  [Q13003, P18505, P42263, Q15822, Q15825, Q9UGM...  \n",
       "102  [Q8NI77, Q2M1P5, Q9UIL4, Q96M86, O14782, Q9UI4...  \n",
       "103  [P08588, Q8NGC8, Q96RI9, P18089, P20309, O6040...  \n",
       "104  [Q8WWY7, P01138, Q96P63, Q06033, O75635, Q1541...  \n",
       "105  [Q12805, P14616, P54762, P35968, P00533, Q1576...  \n",
       "106  [O75604, Q9BXU7, Q70CQ3, Q5D1E8, Q96DC9, Q5VVJ...  \n",
       "107  [Q12962, Q7Z3B3, Q92785, O15516, Q6ZRS2, P2167...  \n",
       "108  [Q5T7B8, Q8NI77, Q9P2D7, Q9P2P6, Q9P2E2, Q6ZMV...  \n",
       "109  [Q92878, P18074, Q13838, Q7L2E3, Q9BVC3, Q1328...  \n",
       "110  [Q9NYR9, Q9BVQ7, Q92878, Q8NI77, P51157, Q9NZQ...  \n",
       "111  [O75949, O00180, Q14524, Q9NW15, Q9BRY0, P4806...  \n",
       "112  [P19793, P17026, P16050, Q9NYL2, P57059, Q9BXM...  \n",
       "113  [Q9NYL2, P57059, Q7RTN6, Q9BXM7, P52798, Q1541...  \n",
       "114  [P48431, P19793, P35711, Q86T24, O43186, P4116...  \n",
       "115  [Q9NYR9, Q9BVQ7, Q92878, Q8NI77, P51157, Q9NZQ...  \n",
       "116  [P48431, P19793, O43186, P51449, O14686, Q8WYK...  \n",
       "\n",
       "[117 rows x 3 columns]"
      ]
     },
     "execution_count": 26,
     "metadata": {},
     "output_type": "execute_result"
    }
   ],
   "source": [
    "dissimilar_terms_dataframe"
   ]
  },
  {
   "cell_type": "code",
   "execution_count": 4,
   "metadata": {},
   "outputs": [],
   "source": [
    "dissimilar_terms_dataframe_save_path = save_path + 'dissimilar_terms_dataframe.pkl'\n",
    "#dissimilar_terms_dataframe.to_pickle(dissimilar_terms_dataframe_save_path)"
   ]
  },
  {
   "cell_type": "code",
   "execution_count": 5,
   "metadata": {},
   "outputs": [],
   "source": [
    "dissimilar_terms_dataframe = pd.read_pickle(dissimilar_terms_dataframe_save_path)"
   ]
  },
  {
   "cell_type": "code",
   "execution_count": 30,
   "metadata": {},
   "outputs": [
    {
     "data": {
      "text/plain": [
       "'/media/DATA/serbulent/DATA/Thesis/ReviewPaper/preprocess/go_related_data/go_category_dataframe.pkl'"
      ]
     },
     "execution_count": 30,
     "metadata": {},
     "output_type": "execute_result"
    }
   ],
   "source": [
    "save_path + 'go_category_dataframe.pkl'"
   ]
  },
  {
   "cell_type": "code",
   "execution_count": 31,
   "metadata": {},
   "outputs": [
    {
     "data": {
      "text/plain": [
       "'/media/DATA/serbulent/DATA/Thesis/ReviewPaper/preprocess/go_related_data/dissimilar_terms_dataframe.pkl'"
      ]
     },
     "execution_count": 31,
     "metadata": {},
     "output_type": "execute_result"
    }
   ],
   "source": [
    "dissimilar_terms_dataframe_save_path"
   ]
  },
  {
   "cell_type": "code",
   "execution_count": 55,
   "metadata": {},
   "outputs": [],
   "source": [
    "go_stats_dataframe = pd.DataFrame(columns = ['Aspect', 'Number_Category', 'Term_Specificity', 'Annotated_Protein_Number'])\n",
    "\n",
    "for index,row in go_category_dataframe.iterrows():\n",
    "    annotated_protein_number = 0\n",
    "    for go_term in row['Dissimilar_Terms']:\n",
    "        annotated_protein_number += int(dissimilar_terms_dataframe\\\n",
    "                  .loc[(dissimilar_terms_dataframe['GO_ID'] == go_term)]['Number_of_Proteins'])\n",
    "    \n",
    "    aspect = row['Aspect']\n",
    "    number_category = row['Number_Category']\n",
    "    term_specificity = row['Term_Specificity'] \n",
    "    go_stats_dataframe = go_stats_dataframe\\\n",
    "    .append({'Aspect': aspect,'Number_Category':number_category,'Term_Specificity': term_specificity,\\\n",
    "             'Annotated_Protein_Number':annotated_protein_number},ignore_index=True)\n",
    "        \n",
    "    "
   ]
  },
  {
   "cell_type": "code",
   "execution_count": 56,
   "metadata": {},
   "outputs": [
    {
     "data": {
      "text/html": [
       "<div>\n",
       "<style scoped>\n",
       "    .dataframe tbody tr th:only-of-type {\n",
       "        vertical-align: middle;\n",
       "    }\n",
       "\n",
       "    .dataframe tbody tr th {\n",
       "        vertical-align: top;\n",
       "    }\n",
       "\n",
       "    .dataframe thead th {\n",
       "        text-align: right;\n",
       "    }\n",
       "</style>\n",
       "<table border=\"1\" class=\"dataframe\">\n",
       "  <thead>\n",
       "    <tr style=\"text-align: right;\">\n",
       "      <th></th>\n",
       "      <th>Aspect</th>\n",
       "      <th>Number_Category</th>\n",
       "      <th>Term_Specificity</th>\n",
       "      <th>Annotated_Protein_Number</th>\n",
       "    </tr>\n",
       "  </thead>\n",
       "  <tbody>\n",
       "    <tr>\n",
       "      <th>0</th>\n",
       "      <td>cellular_component</td>\n",
       "      <td>Low</td>\n",
       "      <td>Shallow</td>\n",
       "      <td>59</td>\n",
       "    </tr>\n",
       "    <tr>\n",
       "      <th>1</th>\n",
       "      <td>cellular_component</td>\n",
       "      <td>Low</td>\n",
       "      <td>Normal</td>\n",
       "      <td>53</td>\n",
       "    </tr>\n",
       "    <tr>\n",
       "      <th>2</th>\n",
       "      <td>cellular_component</td>\n",
       "      <td>Low</td>\n",
       "      <td>Specific</td>\n",
       "      <td>57</td>\n",
       "    </tr>\n",
       "    <tr>\n",
       "      <th>3</th>\n",
       "      <td>cellular_component</td>\n",
       "      <td>Middle</td>\n",
       "      <td>Shallow</td>\n",
       "      <td>466</td>\n",
       "    </tr>\n",
       "    <tr>\n",
       "      <th>4</th>\n",
       "      <td>cellular_component</td>\n",
       "      <td>Middle</td>\n",
       "      <td>Normal</td>\n",
       "      <td>650</td>\n",
       "    </tr>\n",
       "    <tr>\n",
       "      <th>5</th>\n",
       "      <td>cellular_component</td>\n",
       "      <td>Middle</td>\n",
       "      <td>Specific</td>\n",
       "      <td>475</td>\n",
       "    </tr>\n",
       "    <tr>\n",
       "      <th>6</th>\n",
       "      <td>cellular_component</td>\n",
       "      <td>High</td>\n",
       "      <td>Shallow</td>\n",
       "      <td>9589</td>\n",
       "    </tr>\n",
       "    <tr>\n",
       "      <th>7</th>\n",
       "      <td>cellular_component</td>\n",
       "      <td>High</td>\n",
       "      <td>Normal</td>\n",
       "      <td>9376</td>\n",
       "    </tr>\n",
       "    <tr>\n",
       "      <th>8</th>\n",
       "      <td>cellular_component</td>\n",
       "      <td>High</td>\n",
       "      <td>Specific</td>\n",
       "      <td>0</td>\n",
       "    </tr>\n",
       "    <tr>\n",
       "      <th>9</th>\n",
       "      <td>biological_process</td>\n",
       "      <td>Low</td>\n",
       "      <td>Shallow</td>\n",
       "      <td>33</td>\n",
       "    </tr>\n",
       "    <tr>\n",
       "      <th>10</th>\n",
       "      <td>biological_process</td>\n",
       "      <td>Low</td>\n",
       "      <td>Normal</td>\n",
       "      <td>32</td>\n",
       "    </tr>\n",
       "    <tr>\n",
       "      <th>11</th>\n",
       "      <td>biological_process</td>\n",
       "      <td>Low</td>\n",
       "      <td>Specific</td>\n",
       "      <td>42</td>\n",
       "    </tr>\n",
       "    <tr>\n",
       "      <th>12</th>\n",
       "      <td>biological_process</td>\n",
       "      <td>Middle</td>\n",
       "      <td>Shallow</td>\n",
       "      <td>1071</td>\n",
       "    </tr>\n",
       "    <tr>\n",
       "      <th>13</th>\n",
       "      <td>biological_process</td>\n",
       "      <td>Middle</td>\n",
       "      <td>Normal</td>\n",
       "      <td>508</td>\n",
       "    </tr>\n",
       "    <tr>\n",
       "      <th>14</th>\n",
       "      <td>biological_process</td>\n",
       "      <td>Middle</td>\n",
       "      <td>Specific</td>\n",
       "      <td>686</td>\n",
       "    </tr>\n",
       "    <tr>\n",
       "      <th>15</th>\n",
       "      <td>biological_process</td>\n",
       "      <td>High</td>\n",
       "      <td>Shallow</td>\n",
       "      <td>4259</td>\n",
       "    </tr>\n",
       "    <tr>\n",
       "      <th>16</th>\n",
       "      <td>biological_process</td>\n",
       "      <td>High</td>\n",
       "      <td>Normal</td>\n",
       "      <td>3998</td>\n",
       "    </tr>\n",
       "    <tr>\n",
       "      <th>17</th>\n",
       "      <td>biological_process</td>\n",
       "      <td>High</td>\n",
       "      <td>Specific</td>\n",
       "      <td>2722</td>\n",
       "    </tr>\n",
       "    <tr>\n",
       "      <th>18</th>\n",
       "      <td>molecular_function</td>\n",
       "      <td>Low</td>\n",
       "      <td>Shallow</td>\n",
       "      <td>50</td>\n",
       "    </tr>\n",
       "    <tr>\n",
       "      <th>19</th>\n",
       "      <td>molecular_function</td>\n",
       "      <td>Low</td>\n",
       "      <td>Normal</td>\n",
       "      <td>31</td>\n",
       "    </tr>\n",
       "    <tr>\n",
       "      <th>20</th>\n",
       "      <td>molecular_function</td>\n",
       "      <td>Low</td>\n",
       "      <td>Specific</td>\n",
       "      <td>45</td>\n",
       "    </tr>\n",
       "    <tr>\n",
       "      <th>21</th>\n",
       "      <td>molecular_function</td>\n",
       "      <td>Middle</td>\n",
       "      <td>Shallow</td>\n",
       "      <td>701</td>\n",
       "    </tr>\n",
       "    <tr>\n",
       "      <th>22</th>\n",
       "      <td>molecular_function</td>\n",
       "      <td>Middle</td>\n",
       "      <td>Normal</td>\n",
       "      <td>424</td>\n",
       "    </tr>\n",
       "    <tr>\n",
       "      <th>23</th>\n",
       "      <td>molecular_function</td>\n",
       "      <td>Middle</td>\n",
       "      <td>Specific</td>\n",
       "      <td>227</td>\n",
       "    </tr>\n",
       "    <tr>\n",
       "      <th>24</th>\n",
       "      <td>molecular_function</td>\n",
       "      <td>High</td>\n",
       "      <td>Shallow</td>\n",
       "      <td>3576</td>\n",
       "    </tr>\n",
       "    <tr>\n",
       "      <th>25</th>\n",
       "      <td>molecular_function</td>\n",
       "      <td>High</td>\n",
       "      <td>Normal</td>\n",
       "      <td>1467</td>\n",
       "    </tr>\n",
       "    <tr>\n",
       "      <th>26</th>\n",
       "      <td>molecular_function</td>\n",
       "      <td>High</td>\n",
       "      <td>Specific</td>\n",
       "      <td>0</td>\n",
       "    </tr>\n",
       "  </tbody>\n",
       "</table>\n",
       "</div>"
      ],
      "text/plain": [
       "                Aspect Number_Category Term_Specificity  \\\n",
       "0   cellular_component             Low          Shallow   \n",
       "1   cellular_component             Low           Normal   \n",
       "2   cellular_component             Low         Specific   \n",
       "3   cellular_component          Middle          Shallow   \n",
       "4   cellular_component          Middle           Normal   \n",
       "5   cellular_component          Middle         Specific   \n",
       "6   cellular_component            High          Shallow   \n",
       "7   cellular_component            High           Normal   \n",
       "8   cellular_component            High         Specific   \n",
       "9   biological_process             Low          Shallow   \n",
       "10  biological_process             Low           Normal   \n",
       "11  biological_process             Low         Specific   \n",
       "12  biological_process          Middle          Shallow   \n",
       "13  biological_process          Middle           Normal   \n",
       "14  biological_process          Middle         Specific   \n",
       "15  biological_process            High          Shallow   \n",
       "16  biological_process            High           Normal   \n",
       "17  biological_process            High         Specific   \n",
       "18  molecular_function             Low          Shallow   \n",
       "19  molecular_function             Low           Normal   \n",
       "20  molecular_function             Low         Specific   \n",
       "21  molecular_function          Middle          Shallow   \n",
       "22  molecular_function          Middle           Normal   \n",
       "23  molecular_function          Middle         Specific   \n",
       "24  molecular_function            High          Shallow   \n",
       "25  molecular_function            High           Normal   \n",
       "26  molecular_function            High         Specific   \n",
       "\n",
       "   Annotated_Protein_Number  \n",
       "0                        59  \n",
       "1                        53  \n",
       "2                        57  \n",
       "3                       466  \n",
       "4                       650  \n",
       "5                       475  \n",
       "6                      9589  \n",
       "7                      9376  \n",
       "8                         0  \n",
       "9                        33  \n",
       "10                       32  \n",
       "11                       42  \n",
       "12                     1071  \n",
       "13                      508  \n",
       "14                      686  \n",
       "15                     4259  \n",
       "16                     3998  \n",
       "17                     2722  \n",
       "18                       50  \n",
       "19                       31  \n",
       "20                       45  \n",
       "21                      701  \n",
       "22                      424  \n",
       "23                      227  \n",
       "24                     3576  \n",
       "25                     1467  \n",
       "26                        0  "
      ]
     },
     "execution_count": 56,
     "metadata": {},
     "output_type": "execute_result"
    }
   ],
   "source": [
    "go_stats_dataframe"
   ]
  },
  {
   "cell_type": "code",
   "execution_count": null,
   "metadata": {},
   "outputs": [],
   "source": []
  }
 ],
 "metadata": {
  "kernelspec": {
   "display_name": "Python 3",
   "language": "python",
   "name": "python3"
  },
  "language_info": {
   "codemirror_mode": {
    "name": "ipython",
    "version": 3
   },
   "file_extension": ".py",
   "mimetype": "text/x-python",
   "name": "python",
   "nbconvert_exporter": "python",
   "pygments_lexer": "ipython3",
   "version": "3.7.3"
  }
 },
 "nbformat": 4,
 "nbformat_minor": 2
}
