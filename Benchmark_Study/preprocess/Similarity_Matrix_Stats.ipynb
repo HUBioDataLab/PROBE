{
 "cells": [
  {
   "cell_type": "code",
   "execution_count": 11,
   "metadata": {},
   "outputs": [],
   "source": [
    "import pandas as pd"
   ]
  },
  {
   "cell_type": "code",
   "execution_count": 32,
   "metadata": {},
   "outputs": [],
   "source": [
    "def calculateSimMatrixStats(aspect,matrix_type):\n",
    "\n",
    "    similarityMatrixNameDict = {}\n",
    "    similarityMatrixNameDict[\"All\"] = \"/media/DATA/serbulent/Code/Thesis/ReviewPaper/preprocess/human_\"\\\n",
    "    +aspect+\"_proteinSimilarityMatrix.csv\" \n",
    "    similarityMatrixNameDict[\"500\"] = \"/media/DATA/serbulent/Code/Thesis/ReviewPaper/preprocess/human_\"\\\n",
    "    +aspect+\"_proteinSimilarityMatrix_for_highest_annotated_500_proteins.csv\"\n",
    "    similarityMatrixNameDict[\"Sparse\"] = \"/media/DATA/serbulent/Code/Thesis/ReviewPaper/preprocess/human_\"\\\n",
    "    +aspect+\"_proteinSimilarityMatrix_for_highest_annotated_500_proteins.csv\" \n",
    "    similarityMatrixNameDict[\"200\"] = \"/media/DATA/serbulent/Code/Thesis/ReviewPaper/preprocess/human_\"\\\n",
    "    +aspect+\"_proteinSimilarityMatrix_for_highest_annotated_200_proteins.csv\"\n",
    "    \n",
    "    similarityMatrixFileName = similarityMatrixNameDict[matrix_type]\n",
    "    human_proteinSimilarityMatrix = pd.read_csv(similarityMatrixFileName)\n",
    "    human_proteinSimilarityMatrix.set_index(human_proteinSimilarityMatrix.columns, inplace = True) \n",
    "    \n",
    "    print((aspect,matrix_type,human_proteinSimilarityMatrix.shape))"
   ]
  },
  {
   "cell_type": "code",
   "execution_count": 33,
   "metadata": {},
   "outputs": [
    {
     "name": "stdout",
     "output_type": "stream",
     "text": [
      "('MF', 'All', (3077, 3077))\n"
     ]
    }
   ],
   "source": [
    "human_proteinSimilarityMatrix = calculateSimMatrixStats(\"MF\",\"All\")"
   ]
  },
  {
   "cell_type": "code",
   "execution_count": 35,
   "metadata": {},
   "outputs": [
    {
     "name": "stdout",
     "output_type": "stream",
     "text": [
      "('MF', 'Sparse', (497, 497))\n",
      "('BP', 'Sparse', (497, 497))\n",
      "('CC', 'Sparse', (495, 495))\n",
      "('MF', '200', (200, 200))\n",
      "('BP', '200', (200, 200))\n",
      "('CC', '200', (200, 200))\n",
      "('MF', '500', (497, 497))\n",
      "('BP', '500', (497, 497))\n",
      "('CC', '500', (495, 495))\n",
      "('MF', 'All', (3077, 3077))\n",
      "('BP', 'All', (6154, 6154))\n",
      "('CC', 'All', (4531, 4531))\n"
     ]
    }
   ],
   "source": [
    "for similarity_matrix_type in [\"Sparse\",\"200\",\"500\",\"All\"]:\n",
    "    for aspect in [\"MF\",\"BP\",\"CC\"]:\n",
    "        human_proteinSimilarityMatrix = calculateSimMatrixStats(aspect,similarity_matrix_type)"
   ]
  },
  {
   "cell_type": "code",
   "execution_count": null,
   "metadata": {},
   "outputs": [],
   "source": []
  }
 ],
 "metadata": {
  "kernelspec": {
   "display_name": "Python 3",
   "language": "python",
   "name": "python3"
  },
  "language_info": {
   "codemirror_mode": {
    "name": "ipython",
    "version": 3
   },
   "file_extension": ".py",
   "mimetype": "text/x-python",
   "name": "python",
   "nbconvert_exporter": "python",
   "pygments_lexer": "ipython3",
   "version": "3.7.3"
  }
 },
 "nbformat": 4,
 "nbformat_minor": 2
}
