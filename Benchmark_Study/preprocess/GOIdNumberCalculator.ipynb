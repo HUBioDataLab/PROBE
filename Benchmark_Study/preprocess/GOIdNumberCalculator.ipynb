{
 "cells": [
  {
   "cell_type": "code",
   "execution_count": 1,
   "metadata": {},
   "outputs": [],
   "source": [
    "from goatools.base import download_ncbi_associations\n",
    "from goatools.associations import read_ncbi_gene2go\n",
    "import sys\n",
    "from goatools.associations import read_gaf\n",
    "from goatools.base import dnld_gaf\n",
    "\n",
    "#gene2go = download_ncbi_associations()"
   ]
  },
  {
   "cell_type": "code",
   "execution_count": 2,
   "metadata": {},
   "outputs": [],
   "source": [
    "fin_gaf = dnld_gaf('goa_human')"
   ]
  },
  {
   "cell_type": "code",
   "execution_count": 3,
   "metadata": {},
   "outputs": [
    {
     "name": "stdout",
     "output_type": "stream",
     "text": [
      "HMS:0:00:15.073394 482,897 annotations READ: /media/DATA/serbulent/Code/Thesis/ReviewPaper/preprocess/goa_human.gaf \n",
      "15197 IDs in loaded association branch, BP\n"
     ]
    }
   ],
   "source": [
    "geneid2gos_human = read_gaf(fin_gaf,namespace='BP', ev_exclude={'IEA'})"
   ]
  },
  {
   "cell_type": "code",
   "execution_count": 4,
   "metadata": {},
   "outputs": [
    {
     "data": {
      "text/plain": [
       "{'GO:0002377', 'GO:0006955'}"
      ]
     },
     "execution_count": 4,
     "metadata": {},
     "output_type": "execute_result"
    }
   ],
   "source": [
    "geneid2gos_human['A0A075B6H7']"
   ]
  },
  {
   "cell_type": "markdown",
   "metadata": {},
   "source": [
    "## IEA excluded manually and keep_ND is False by default so annotations without biological evidence are excluded"
   ]
  },
  {
   "cell_type": "code",
   "execution_count": 13,
   "metadata": {
    "scrolled": true
   },
   "outputs": [],
   "source": [
    "def calculate_gene_number(annotationType,number_of_annotations):\n",
    "    #geneid2gos_human = read_ncbi_gene2go(gene2go, taxids=[9606],namespace=annotationType, ev_exclude={'IEA'})\n",
    "    geneid2gos_human = read_gaf(fin_gaf,namespace=annotationType, ev_exclude={'IEA'})\n",
    "    goNumber_pcoding_genes = {}\n",
    "    for uniprot_accession_id in geneid2gos_human.keys():\n",
    "        goNumber_pcoding_genes[uniprot_accession_id] = len(geneid2gos_human[uniprot_accession_id])\n",
    "    print(\"Number of Protein Coding genes for \" + annotationType  +\" is \" + str(len(goNumber_pcoding_genes)))\n",
    "    filtered_genes = dict(filter(lambda elem: elem[1] >= number_of_annotations, goNumber_pcoding_genes.items()))\n",
    "    print(\"Number of Protein Coding genes for \" + annotationType  \\\n",
    "          +\" with minimum \"+str(number_of_annotations)+\" annotation is \" + str(len(filtered_genes)))\n",
    "    return filtered_genes\n"
   ]
  },
  {
   "cell_type": "code",
   "execution_count": 25,
   "metadata": {},
   "outputs": [
    {
     "data": {
      "text/plain": [
       "{'GO:0002377', 'GO:0006955'}"
      ]
     },
     "execution_count": 25,
     "metadata": {},
     "output_type": "execute_result"
    }
   ],
   "source": [
    "geneid2gos_human['A0A075B6H7']"
   ]
  },
  {
   "cell_type": "code",
   "execution_count": 6,
   "metadata": {},
   "outputs": [
    {
     "name": "stdout",
     "output_type": "stream",
     "text": [
      "HMS:0:00:13.105279 482,897 annotations READ: /media/DATA/serbulent/Code/Thesis/ReviewPaper/preprocess/goa_human.gaf \n",
      "15493 IDs in loaded association branch, MF\n",
      "Number of Protein Coding genes for MF is 15493\n",
      "Number of Protein Coding genes for MF with minimum 10 annotation is 471\n"
     ]
    }
   ],
   "source": [
    "filtered_genes = calculate_gene_number(\"MF\")"
   ]
  },
  {
   "cell_type": "code",
   "execution_count": 23,
   "metadata": {},
   "outputs": [
    {
     "name": "stdout",
     "output_type": "stream",
     "text": [
      "HMS:0:00:13.712280 482,897 annotations READ: /media/DATA/serbulent/Code/Thesis/ReviewPaper/preprocess/goa_human.gaf \n",
      "15197 IDs in loaded association branch, BP\n",
      "Number of Protein Coding genes for BP is 15197\n",
      "Number of Protein Coding genes for BP with minimum 26 annotation is 505\n"
     ]
    }
   ],
   "source": [
    "filtered_genes = calculate_gene_number(\"BP\",26)"
   ]
  },
  {
   "cell_type": "code",
   "execution_count": 22,
   "metadata": {},
   "outputs": [
    {
     "name": "stdout",
     "output_type": "stream",
     "text": [
      "HMS:0:00:13.789121 482,897 annotations READ: /media/DATA/serbulent/Code/Thesis/ReviewPaper/preprocess/goa_human.gaf \n",
      "16254 IDs in loaded association branch, CC\n",
      "Number of Protein Coding genes for CC is 16254\n",
      "Number of Protein Coding genes for CC with minimum 11 annotation is 569\n"
     ]
    }
   ],
   "source": [
    "filtered_genes = calculate_gene_number(\"CC\",11)"
   ]
  },
  {
   "cell_type": "code",
   "execution_count": 19,
   "metadata": {},
   "outputs": [
    {
     "name": "stdout",
     "output_type": "stream",
     "text": [
      "HMS:0:00:08.176846 482,897 annotations READ: /media/DATA/serbulent/Code/Thesis/ReviewPaper/preprocess/goa_human.gaf \n",
      "15197 IDs in loaded association branch, BP\n",
      "Number of Protein Coding genes for BP is 15197\n",
      "Number of Protein Coding genes for BP with minimum 5 annotation is 6412\n"
     ]
    }
   ],
   "source": [
    "filtered_genes = calculate_gene_number(\"BP\"),\n",
    "with open(\"uniprot_accession_ids_for_BP_has_5_terms_minimum.tsv\", \"w\") as f:\n",
    "    for key in filtered_genes[0]:\n",
    "        print(key, file=f)"
   ]
  },
  {
   "cell_type": "code",
   "execution_count": 20,
   "metadata": {},
   "outputs": [
    {
     "name": "stdout",
     "output_type": "stream",
     "text": [
      "HMS:0:00:06.864081 482,897 annotations READ: /media/DATA/serbulent/Code/Thesis/ReviewPaper/preprocess/goa_human.gaf \n",
      "16254 IDs in loaded association branch, CC\n",
      "Number of Protein Coding genes for CC is 16254\n",
      "Number of Protein Coding genes for CC with minimum 5 annotation is 4606\n"
     ]
    }
   ],
   "source": [
    "filtered_genes = calculate_gene_number(\"CC\"),\n",
    "with open(\"uniprot_accession_ids_for_CC_has_5_terms_minimum.tsv\", \"w\") as f:\n",
    "    for key in filtered_genes[0]:\n",
    "        print(key, file=f)"
   ]
  },
  {
   "cell_type": "code",
   "execution_count": 21,
   "metadata": {},
   "outputs": [
    {
     "name": "stdout",
     "output_type": "stream",
     "text": [
      "HMS:0:00:07.928036 482,897 annotations READ: /media/DATA/serbulent/Code/Thesis/ReviewPaper/preprocess/goa_human.gaf \n",
      "15493 IDs in loaded association branch, MF\n",
      "Number of Protein Coding genes for MF is 15493\n",
      "Number of Protein Coding genes for MF with minimum 5 annotation is 3111\n"
     ]
    }
   ],
   "source": [
    "filtered_genes = calculate_gene_number(\"MF\"),\n",
    "with open(\"uniprot_accession_ids_for_MF_has_5_terms_minimum.tsv\", \"w\") as f:\n",
    "    for key in filtered_genes[0]:\n",
    "        print(key, file=f)"
   ]
  },
  {
   "cell_type": "code",
   "execution_count": null,
   "metadata": {},
   "outputs": [],
   "source": []
  }
 ],
 "metadata": {
  "kernelspec": {
   "display_name": "Python 3",
   "language": "python",
   "name": "python3"
  },
  "language_info": {
   "codemirror_mode": {
    "name": "ipython",
    "version": 3
   },
   "file_extension": ".py",
   "mimetype": "text/x-python",
   "name": "python",
   "nbconvert_exporter": "python",
   "pygments_lexer": "ipython3",
   "version": "3.7.3"
  }
 },
 "nbformat": 4,
 "nbformat_minor": 2
}
