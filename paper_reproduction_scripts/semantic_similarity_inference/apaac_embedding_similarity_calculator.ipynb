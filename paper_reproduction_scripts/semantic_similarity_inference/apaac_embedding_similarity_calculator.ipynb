{
 "cells": [
  {
   "cell_type": "markdown",
   "metadata": {},
   "source": [
    "This notebook calculates similarity and error between protein embeddings and use GO semantic similarity as gold standart."
   ]
  },
  {
   "cell_type": "code",
   "execution_count": 1,
   "metadata": {},
   "outputs": [],
   "source": [
    "import pandas as pd\n",
    "import numpy as np\n",
    "import gzip\n",
    "import itertools\n",
    "import multiprocessing\n",
    "import csv\n",
    "import pickle\n",
    "from sklearn.metrics.pairwise import cosine_similarity as cosine\n",
    "from sklearn.metrics import mean_squared_error as mse\n",
    "from tqdm import tqdm, tqdm_notebook\n",
    "from multiprocessing import Manager, Pool\n",
    "from scipy.spatial.distance import cdist\n",
    "from numpy.linalg import norm\n",
    "from scipy.stats import spearmanr, pearsonr\n",
    "import random"
   ]
  },
  {
   "cell_type": "markdown",
   "metadata": {},
   "source": [
    "## Load protein vectors of ProtVec"
   ]
  },
  {
   "cell_type": "code",
   "execution_count": 2,
   "metadata": {
    "scrolled": true
   },
   "outputs": [],
   "source": [
    "apaacVectorRaw = pd.read_csv('/media/DATA/serbulent/DATA/Thesis/ReviewPaper/results/Apaac/apaac_dim80.tsv', sep='\\t')"
   ]
  },
  {
   "cell_type": "code",
   "execution_count": 3,
   "metadata": {},
   "outputs": [
    {
     "data": {
      "text/html": [
       "<div>\n",
       "<style scoped>\n",
       "    .dataframe tbody tr th:only-of-type {\n",
       "        vertical-align: middle;\n",
       "    }\n",
       "\n",
       "    .dataframe tbody tr th {\n",
       "        vertical-align: top;\n",
       "    }\n",
       "\n",
       "    .dataframe thead th {\n",
       "        text-align: right;\n",
       "    }\n",
       "</style>\n",
       "<table border=\"1\" class=\"dataframe\">\n",
       "  <thead>\n",
       "    <tr style=\"text-align: right;\">\n",
       "      <th></th>\n",
       "      <th>Protein_Id</th>\n",
       "      <th>Protein_Name</th>\n",
       "      <th>Pc1.A</th>\n",
       "      <th>Pc1.R</th>\n",
       "      <th>Pc1.N</th>\n",
       "      <th>Pc1.D</th>\n",
       "      <th>Pc1.C</th>\n",
       "      <th>Pc1.Q</th>\n",
       "      <th>Pc1.E</th>\n",
       "      <th>Pc1.G</th>\n",
       "      <th>...</th>\n",
       "      <th>Pc2.Hydrophobicity.26</th>\n",
       "      <th>Pc2.Hydrophilicity.26</th>\n",
       "      <th>Pc2.Hydrophobicity.27</th>\n",
       "      <th>Pc2.Hydrophilicity.27</th>\n",
       "      <th>Pc2.Hydrophobicity.28</th>\n",
       "      <th>Pc2.Hydrophilicity.28</th>\n",
       "      <th>Pc2.Hydrophobicity.29</th>\n",
       "      <th>Pc2.Hydrophilicity.29</th>\n",
       "      <th>Pc2.Hydrophobicity.30</th>\n",
       "      <th>Pc2.Hydrophilicity.30</th>\n",
       "    </tr>\n",
       "  </thead>\n",
       "  <tbody>\n",
       "    <tr>\n",
       "      <th>0</th>\n",
       "      <td>A0A584</td>\n",
       "      <td>TVBK2_HUMAN</td>\n",
       "      <td>11.339625</td>\n",
       "      <td>5.154375</td>\n",
       "      <td>3.092625</td>\n",
       "      <td>5.154375</td>\n",
       "      <td>4.123500</td>\n",
       "      <td>9.277875</td>\n",
       "      <td>5.154375</td>\n",
       "      <td>8.247000</td>\n",
       "      <td>...</td>\n",
       "      <td>0.006514</td>\n",
       "      <td>0.002316</td>\n",
       "      <td>0.001619</td>\n",
       "      <td>-0.001182</td>\n",
       "      <td>0.001716</td>\n",
       "      <td>-0.004127</td>\n",
       "      <td>-0.011943</td>\n",
       "      <td>-0.004408</td>\n",
       "      <td>-0.000258</td>\n",
       "      <td>0.001818</td>\n",
       "    </tr>\n",
       "    <tr>\n",
       "      <th>1</th>\n",
       "      <td>Q9BXU3</td>\n",
       "      <td>TX13A_HUMAN</td>\n",
       "      <td>41.827552</td>\n",
       "      <td>24.918542</td>\n",
       "      <td>5.339687</td>\n",
       "      <td>16.909010</td>\n",
       "      <td>5.339687</td>\n",
       "      <td>18.688906</td>\n",
       "      <td>38.267760</td>\n",
       "      <td>22.248698</td>\n",
       "      <td>...</td>\n",
       "      <td>0.000428</td>\n",
       "      <td>0.001691</td>\n",
       "      <td>-0.003082</td>\n",
       "      <td>0.000122</td>\n",
       "      <td>0.001192</td>\n",
       "      <td>0.002445</td>\n",
       "      <td>-0.002766</td>\n",
       "      <td>-0.002308</td>\n",
       "      <td>0.001912</td>\n",
       "      <td>0.002474</td>\n",
       "    </tr>\n",
       "    <tr>\n",
       "      <th>2</th>\n",
       "      <td>Q15031</td>\n",
       "      <td>SYLM_HUMAN</td>\n",
       "      <td>72.439187</td>\n",
       "      <td>41.114133</td>\n",
       "      <td>19.578159</td>\n",
       "      <td>44.050857</td>\n",
       "      <td>15.662527</td>\n",
       "      <td>47.966489</td>\n",
       "      <td>48.945397</td>\n",
       "      <td>50.903212</td>\n",
       "      <td>...</td>\n",
       "      <td>0.000132</td>\n",
       "      <td>-0.000131</td>\n",
       "      <td>0.000797</td>\n",
       "      <td>-0.000286</td>\n",
       "      <td>-0.001230</td>\n",
       "      <td>0.001217</td>\n",
       "      <td>-0.000272</td>\n",
       "      <td>-0.000962</td>\n",
       "      <td>0.001050</td>\n",
       "      <td>0.002627</td>\n",
       "    </tr>\n",
       "    <tr>\n",
       "      <th>3</th>\n",
       "      <td>Q6PKC3</td>\n",
       "      <td>TXD11_HUMAN</td>\n",
       "      <td>69.177489</td>\n",
       "      <td>52.613865</td>\n",
       "      <td>34.101579</td>\n",
       "      <td>34.101579</td>\n",
       "      <td>23.383940</td>\n",
       "      <td>46.767880</td>\n",
       "      <td>70.151819</td>\n",
       "      <td>46.767880</td>\n",
       "      <td>...</td>\n",
       "      <td>0.002130</td>\n",
       "      <td>0.001777</td>\n",
       "      <td>-0.000881</td>\n",
       "      <td>0.000101</td>\n",
       "      <td>0.001302</td>\n",
       "      <td>0.001622</td>\n",
       "      <td>-0.001295</td>\n",
       "      <td>-0.000381</td>\n",
       "      <td>0.000220</td>\n",
       "      <td>0.001340</td>\n",
       "    </tr>\n",
       "    <tr>\n",
       "      <th>4</th>\n",
       "      <td>P42681</td>\n",
       "      <td>TXK_HUMAN</td>\n",
       "      <td>26.902095</td>\n",
       "      <td>32.666830</td>\n",
       "      <td>21.137360</td>\n",
       "      <td>12.490258</td>\n",
       "      <td>14.411837</td>\n",
       "      <td>20.176571</td>\n",
       "      <td>48.039455</td>\n",
       "      <td>25.941306</td>\n",
       "      <td>...</td>\n",
       "      <td>0.000680</td>\n",
       "      <td>0.001407</td>\n",
       "      <td>-0.002114</td>\n",
       "      <td>-0.002314</td>\n",
       "      <td>0.004900</td>\n",
       "      <td>0.003805</td>\n",
       "      <td>0.003160</td>\n",
       "      <td>0.005511</td>\n",
       "      <td>-0.001850</td>\n",
       "      <td>-0.003992</td>\n",
       "    </tr>\n",
       "  </tbody>\n",
       "</table>\n",
       "<p>5 rows × 82 columns</p>\n",
       "</div>"
      ],
      "text/plain": [
       "  Protein_Id Protein_Name      Pc1.A      Pc1.R      Pc1.N      Pc1.D  \\\n",
       "0     A0A584  TVBK2_HUMAN  11.339625   5.154375   3.092625   5.154375   \n",
       "1     Q9BXU3  TX13A_HUMAN  41.827552  24.918542   5.339687  16.909010   \n",
       "2     Q15031   SYLM_HUMAN  72.439187  41.114133  19.578159  44.050857   \n",
       "3     Q6PKC3  TXD11_HUMAN  69.177489  52.613865  34.101579  34.101579   \n",
       "4     P42681    TXK_HUMAN  26.902095  32.666830  21.137360  12.490258   \n",
       "\n",
       "       Pc1.C      Pc1.Q      Pc1.E      Pc1.G  ...  Pc2.Hydrophobicity.26  \\\n",
       "0   4.123500   9.277875   5.154375   8.247000  ...               0.006514   \n",
       "1   5.339687  18.688906  38.267760  22.248698  ...               0.000428   \n",
       "2  15.662527  47.966489  48.945397  50.903212  ...               0.000132   \n",
       "3  23.383940  46.767880  70.151819  46.767880  ...               0.002130   \n",
       "4  14.411837  20.176571  48.039455  25.941306  ...               0.000680   \n",
       "\n",
       "   Pc2.Hydrophilicity.26  Pc2.Hydrophobicity.27  Pc2.Hydrophilicity.27  \\\n",
       "0               0.002316               0.001619              -0.001182   \n",
       "1               0.001691              -0.003082               0.000122   \n",
       "2              -0.000131               0.000797              -0.000286   \n",
       "3               0.001777              -0.000881               0.000101   \n",
       "4               0.001407              -0.002114              -0.002314   \n",
       "\n",
       "   Pc2.Hydrophobicity.28  Pc2.Hydrophilicity.28  Pc2.Hydrophobicity.29  \\\n",
       "0               0.001716              -0.004127              -0.011943   \n",
       "1               0.001192               0.002445              -0.002766   \n",
       "2              -0.001230               0.001217              -0.000272   \n",
       "3               0.001302               0.001622              -0.001295   \n",
       "4               0.004900               0.003805               0.003160   \n",
       "\n",
       "   Pc2.Hydrophilicity.29  Pc2.Hydrophobicity.30  Pc2.Hydrophilicity.30  \n",
       "0              -0.004408              -0.000258               0.001818  \n",
       "1              -0.002308               0.001912               0.002474  \n",
       "2              -0.000962               0.001050               0.002627  \n",
       "3              -0.000381               0.000220               0.001340  \n",
       "4               0.005511              -0.001850              -0.003992  \n",
       "\n",
       "[5 rows x 82 columns]"
      ]
     },
     "execution_count": 3,
     "metadata": {},
     "output_type": "execute_result"
    }
   ],
   "source": [
    "apaacVectorRaw[0:5]"
   ]
  },
  {
   "cell_type": "code",
   "execution_count": 4,
   "metadata": {},
   "outputs": [
    {
     "data": {
      "text/plain": [
       "82"
      ]
     },
     "execution_count": 4,
     "metadata": {},
     "output_type": "execute_result"
    }
   ],
   "source": [
    "len(apaacVectorRaw.columns)"
   ]
  },
  {
   "cell_type": "code",
   "execution_count": 5,
   "metadata": {},
   "outputs": [
    {
     "data": {
      "text/plain": [
       "Pc1.A                        11.3396\n",
       "Pc1.R                        5.15438\n",
       "Pc1.N                        3.09263\n",
       "Pc1.D                        5.15438\n",
       "Pc1.C                         4.1235\n",
       "Pc1.Q                        9.27788\n",
       "Pc1.E                        5.15438\n",
       "Pc1.G                          8.247\n",
       "Pc1.H                        1.03088\n",
       "Pc1.I                        6.18525\n",
       "Pc1.L                         16.494\n",
       "Pc1.K                        7.21613\n",
       "Pc1.M                        1.03088\n",
       "Pc1.F                        3.09263\n",
       "Pc1.P                        5.15438\n",
       "Pc1.S                        9.27788\n",
       "Pc1.T                         4.1235\n",
       "Pc1.W                        3.09263\n",
       "Pc1.Y                         4.1235\n",
       "Pc1.V                        6.18525\n",
       "Pc2.Hydrophobicity.1    -3.11879e-05\n",
       "Pc2.Hydrophilicity.1      0.00540022\n",
       "Pc2.Hydrophobicity.2      0.00329237\n",
       "Pc2.Hydrophilicity.2      0.00416807\n",
       "Pc2.Hydrophobicity.3     -0.00576136\n",
       "Pc2.Hydrophilicity.3      0.00183126\n",
       "Pc2.Hydrophobicity.4     -0.00889854\n",
       "Pc2.Hydrophilicity.4      -0.0031863\n",
       "Pc2.Hydrophobicity.5      0.00846292\n",
       "Pc2.Hydrophilicity.5      0.00713577\n",
       "                            ...     \n",
       "Pc2.Hydrophobicity.16     0.00118103\n",
       "Pc2.Hydrophilicity.16     0.00215476\n",
       "Pc2.Hydrophobicity.17    -0.00433834\n",
       "Pc2.Hydrophilicity.17    0.000298589\n",
       "Pc2.Hydrophobicity.18    -0.00333784\n",
       "Pc2.Hydrophilicity.18    -0.00229726\n",
       "Pc2.Hydrophobicity.19    0.000670711\n",
       "Pc2.Hydrophilicity.19    -0.00305845\n",
       "Pc2.Hydrophobicity.20    -0.00435066\n",
       "Pc2.Hydrophilicity.20    -0.00463982\n",
       "Pc2.Hydrophobicity.21      0.0041636\n",
       "Pc2.Hydrophilicity.21    -0.00379109\n",
       "Pc2.Hydrophobicity.22    -0.00856568\n",
       "Pc2.Hydrophilicity.22    -0.00762363\n",
       "Pc2.Hydrophobicity.23    -0.00625065\n",
       "Pc2.Hydrophilicity.23    -0.00699032\n",
       "Pc2.Hydrophobicity.24    -0.00329337\n",
       "Pc2.Hydrophilicity.24    -0.00192238\n",
       "Pc2.Hydrophobicity.25    -0.00745208\n",
       "Pc2.Hydrophilicity.25    -0.00815493\n",
       "Pc2.Hydrophobicity.26     0.00651392\n",
       "Pc2.Hydrophilicity.26      0.0023164\n",
       "Pc2.Hydrophobicity.27     0.00161918\n",
       "Pc2.Hydrophilicity.27    -0.00118187\n",
       "Pc2.Hydrophobicity.28     0.00171597\n",
       "Pc2.Hydrophilicity.28    -0.00412743\n",
       "Pc2.Hydrophobicity.29     -0.0119427\n",
       "Pc2.Hydrophilicity.29    -0.00440805\n",
       "Pc2.Hydrophobicity.30   -0.000258251\n",
       "Pc2.Hydrophilicity.30     0.00181821\n",
       "Name: 0, Length: 80, dtype: object"
      ]
     },
     "execution_count": 5,
     "metadata": {},
     "output_type": "execute_result"
    }
   ],
   "source": [
    "apaacVectorRaw.iloc[0][2:82]"
   ]
  },
  {
   "cell_type": "code",
   "execution_count": 6,
   "metadata": {},
   "outputs": [],
   "source": [
    "# UNIPROT data for mapping between UNIPROT accession numbers and UNIPROT entry names\n",
    "uniprot_metadata_directory = \"/media/DATA/serbulent/DATA/Thesis/ReviewPaper/Uniprot/\"\n",
    "uniprot_metadata_file_path = uniprot_metadata_directory + \"uniprot_human_all.tab\"\n",
    "uniprot_vars = ['Entry','Entry name','Status','Protein names','Gene names','Organism','Length','Annotation' ]\n",
    "uniprot_df = pd.read_csv(uniprot_metadata_file_path, sep='\\t', header=None, names=uniprot_vars)"
   ]
  },
  {
   "cell_type": "code",
   "execution_count": null,
   "metadata": {},
   "outputs": [],
   "source": []
  },
  {
   "cell_type": "code",
   "execution_count": 7,
   "metadata": {},
   "outputs": [
    {
     "data": {
      "application/vnd.jupyter.widget-view+json": {
       "model_id": "d8f589e7572c430091162621fab3536b",
       "version_major": 2,
       "version_minor": 0
      },
      "text/plain": [
       "HBox(children=(IntProgress(value=1, bar_style='info', max=1), HTML(value='')))"
      ]
     },
     "metadata": {},
     "output_type": "display_data"
    },
    {
     "name": "stdout",
     "output_type": "stream",
     "text": [
      "\n"
     ]
    }
   ],
   "source": [
    "apaacVectorDF = pd.DataFrame(columns=['Entry', 'Vector'])\n",
    "\n",
    "for index,row in tqdm_notebook(apaacVectorRaw.iterrows()):\n",
    "    entry = row['Protein_Id']\n",
    "    vector = list(apaacVectorRaw.iloc[index][2:82])\n",
    "    apaacVectorDF.loc[index] = [entry,vector]\n"
   ]
  },
  {
   "cell_type": "code",
   "execution_count": 8,
   "metadata": {},
   "outputs": [
    {
     "data": {
      "text/html": [
       "<div>\n",
       "<style scoped>\n",
       "    .dataframe tbody tr th:only-of-type {\n",
       "        vertical-align: middle;\n",
       "    }\n",
       "\n",
       "    .dataframe tbody tr th {\n",
       "        vertical-align: top;\n",
       "    }\n",
       "\n",
       "    .dataframe thead th {\n",
       "        text-align: right;\n",
       "    }\n",
       "</style>\n",
       "<table border=\"1\" class=\"dataframe\">\n",
       "  <thead>\n",
       "    <tr style=\"text-align: right;\">\n",
       "      <th></th>\n",
       "      <th>Entry</th>\n",
       "      <th>Vector</th>\n",
       "    </tr>\n",
       "  </thead>\n",
       "  <tbody>\n",
       "    <tr>\n",
       "      <th>0</th>\n",
       "      <td>A0A584</td>\n",
       "      <td>[11.339625151941819, 5.154375069064463, 3.0926...</td>\n",
       "    </tr>\n",
       "    <tr>\n",
       "      <th>1</th>\n",
       "      <td>Q9BXU3</td>\n",
       "      <td>[41.82755201294838, 24.918541624735198, 5.3396...</td>\n",
       "    </tr>\n",
       "    <tr>\n",
       "      <th>2</th>\n",
       "      <td>Q15031</td>\n",
       "      <td>[72.43918692811772, 41.114133121364105, 19.578...</td>\n",
       "    </tr>\n",
       "    <tr>\n",
       "      <th>3</th>\n",
       "      <td>Q6PKC3</td>\n",
       "      <td>[69.17748855836737, 52.613864537349826, 34.101...</td>\n",
       "    </tr>\n",
       "    <tr>\n",
       "      <th>4</th>\n",
       "      <td>P42681</td>\n",
       "      <td>[26.90209490248905, 32.66682952445098, 21.1373...</td>\n",
       "    </tr>\n",
       "  </tbody>\n",
       "</table>\n",
       "</div>"
      ],
      "text/plain": [
       "    Entry                                             Vector\n",
       "0  A0A584  [11.339625151941819, 5.154375069064463, 3.0926...\n",
       "1  Q9BXU3  [41.82755201294838, 24.918541624735198, 5.3396...\n",
       "2  Q15031  [72.43918692811772, 41.114133121364105, 19.578...\n",
       "3  Q6PKC3  [69.17748855836737, 52.613864537349826, 34.101...\n",
       "4  P42681  [26.90209490248905, 32.66682952445098, 21.1373..."
      ]
     },
     "execution_count": 8,
     "metadata": {},
     "output_type": "execute_result"
    }
   ],
   "source": [
    "apaacVectorDF[0:5]"
   ]
  },
  {
   "cell_type": "code",
   "execution_count": 9,
   "metadata": {},
   "outputs": [],
   "source": [
    "apaacVectorDF.to_pickle(\"/media/DATA/serbulent/DATA/Thesis/ReviewPaper/results/embedding_dataframes/apaac_dataframe.pkl\")"
   ]
  },
  {
   "cell_type": "code",
   "execution_count": 13,
   "metadata": {},
   "outputs": [],
   "source": [
    "protein_names = apaacVectorDF['Entry'].tolist()"
   ]
  },
  {
   "cell_type": "code",
   "execution_count": 14,
   "metadata": {},
   "outputs": [],
   "source": [
    "# define similarity_list and proteinList as global variables\n",
    "proteinList = []\n",
    "manager = Manager()\n",
    "similarity_list = manager.list()\n",
    "proteinListNew = manager.list()\n",
    "\n",
    "def parallelSimilarity(paramList):\n",
    "    i = paramList[0]\n",
    "    j = paramList[1] \n",
    "    aspect = paramList[2]\n",
    "    if j>i:\n",
    "        protein1 = proteinListNew[i]\n",
    "        protein2 = proteinListNew[j]\n",
    "        if protein1 in protein_names and protein2 in protein_names:\n",
    "            prot1vec = np.asarray(apaacVectorDF.query(\"Entry == @protein1\")['Vector'].tolist())\n",
    "            prot2vec = np.asarray(apaacVectorDF.query(\"Entry == @protein2\")['Vector'].tolist())\n",
    "            #cosine will return in shape of input vectors first dimension\n",
    "            #print(str(prot1name) + str(prot1vec))\n",
    "            #print(str(prot2name) + str(prot2vec))\n",
    "            cos = cosine(prot1vec.reshape(1,-1),prot2vec.reshape(1,-1)).item()\n",
    "            manhattanDist = cdist(prot1vec.reshape(1,-1), prot2vec.reshape(1,-1), 'cityblock')\n",
    "            manhattanDistNorm = manhattanDist/(norm(prot1vec,1) + norm(prot2vec,1))\n",
    "            euclideanDist = cdist(prot1vec.reshape(1,-1), prot2vec.reshape(1,-1), 'euclidean')\n",
    "            euclideanDistNorm = euclideanDist/(norm(prot1vec,2) + norm(prot2vec,2)) \n",
    "            real = paramList[3]\n",
    "            #real = human_protienSimilarityMatrix.loc[protein1,protein2]\n",
    "            # To ensure real and calculated values appended to same postion they saved similtanously and then decoupled\n",
    "            similarity_list.append((real, cos,1-manhattanDistNorm.item(),1-euclideanDistNorm.item()))\n",
    "\n",
    "    return similarity_list\n"
   ]
  },
  {
   "cell_type": "markdown",
   "metadata": {},
   "source": [
    "## Calculate similarity values with parallel processing"
   ]
  },
  {
   "cell_type": "code",
   "execution_count": 15,
   "metadata": {},
   "outputs": [],
   "source": [
    "def calculateMSEforOntology(aspect,matrix_type):\n",
    "    \n",
    "    #Clear lists before each aspect\n",
    "    similarity_list[:] = []\n",
    "    proteinListNew[:] = []\n",
    "\n",
    "    similarityMatrixNameDict = {}\n",
    "    similarityMatrixNameDict[\"All\"] = \"/media/DATA/serbulent/Code/Thesis/ReviewPaper/preprocess/human_\"\\\n",
    "    +aspect+\"_proteinSimilarityMatrix.csv\" \n",
    "    similarityMatrixNameDict[\"500\"] = \"/media/DATA/serbulent/Code/Thesis/ReviewPaper/preprocess/human_\"\\\n",
    "    +aspect+\"_proteinSimilarityMatrix_for_highest_annotated_500_proteins.csv\"\n",
    "    similarityMatrixNameDict[\"Sparse\"] = \"/media/DATA/serbulent/Code/Thesis/ReviewPaper/preprocess/human_\"\\\n",
    "    +aspect+\"_proteinSimilarityMatrix_for_highest_annotated_500_proteins.csv\" \n",
    "    similarityMatrixNameDict[\"200\"] = \"/media/DATA/serbulent/Code/Thesis/ReviewPaper/preprocess/human_\"\\\n",
    "    +aspect+\"_proteinSimilarityMatrix_for_highest_annotated_200_proteins.csv\"\n",
    "            \n",
    "    similarityMatrixFileName = similarityMatrixNameDict[matrix_type]\n",
    "        \n",
    "    human_proteinSimilarityMatrix = pd.read_csv(similarityMatrixFileName)\n",
    "    human_proteinSimilarityMatrix.set_index(human_proteinSimilarityMatrix.columns, inplace = True)\n",
    "    #proteinList = human_proteinSimilarityMatrix\n",
    "    proteinList = human_proteinSimilarityMatrix.columns\n",
    "    \n",
    "     #proteinListNew is referanced using Manager\n",
    "    for prot in proteinList:\n",
    "        proteinListNew.append(prot)\n",
    "    if matrix_type == \"Sparse\":\n",
    "        #sparsified_similarities = np.load(\"SparsifiedSimilarites_for_highest_500.npy\")\n",
    "        sparsified_similarity_coordinates = \\\n",
    "        np.load(\"./auxilary_input/SparsifiedSimilarityCoordinates_\"+aspect+\"_for_highest_500.npy\")\n",
    "        protParamList = sparsified_similarity_coordinates\n",
    "    else:     \n",
    "        i = range(len(proteinList))\n",
    "        j = range(len(proteinList))\n",
    "        protParamList = list(itertools.product(i,j))\n",
    "    protParamListNew = []\n",
    "    # Prepare parameters for parallel processing these parameters will be \n",
    "    # used concurrently by different processes\n",
    "    for tup in tqdm_notebook(protParamList):\n",
    "        i = tup[0]\n",
    "        j = tup[1]\n",
    "        \n",
    "        if matrix_type == \"Sparse\":\n",
    "            protein1 = proteinListNew[i]\n",
    "            protein2 = proteinListNew[j]\n",
    "            real = human_proteinSimilarityMatrix.loc[protein1,protein2]\n",
    "            tupNew = (tup[0],tup[1],aspect,real)\n",
    "            protParamListNew.append(tupNew)\n",
    "        else:\n",
    "            if j > i:\n",
    "                protein1 = proteinListNew[i]\n",
    "                protein2 = proteinListNew[j]\n",
    "                real = human_proteinSimilarityMatrix.loc[protein1,protein2]\n",
    "                tupNew = (tup[0],tup[1],aspect,real)\n",
    "                protParamListNew.append(tupNew)\n",
    "\n",
    "    total_task_num=len(protParamListNew)\n",
    "    pool = Pool()\n",
    "    similarity_listRet = []\n",
    "    for similarity_listRet in tqdm_notebook(pool.imap_unordered(parallelSimilarity, protParamListNew), total=total_task_num):\n",
    "        pass\n",
    "    pool.close()\n",
    "    pool.join()\n",
    "\n",
    "    real_distance_list = [value[0] for value in similarity_listRet]\n",
    "    cosine_distance_list = [value[1] for value in similarity_listRet]\n",
    "    manhattan_distance_list = [value[2] for value in similarity_listRet]\n",
    "    euclidian_distance_list = [value[3] for value in similarity_listRet]\n",
    "\n",
    "    #mseValue = mse(real_distance_list,cosine_distance_list)\n",
    "    cosineCorr = spearmanr(real_distance_list, cosine_distance_list)\n",
    "    manhattanCorr = spearmanr(real_distance_list, manhattan_distance_list)\n",
    "    euclidianCorr = spearmanr(real_distance_list, euclidian_distance_list)   \n",
    "    \n",
    "    print(\"Cosine Correlation for \"+aspect+\" is \" + str(cosineCorr))\n",
    "    print(\"Manhattan Correlation for \"+aspect+\" is \" + str(manhattanCorr))\n",
    "    print(\"Euclidian Correlation for \"+aspect+\" is \" + str(euclidianCorr))\n",
    "\n",
    "    return (cosineCorr,manhattanCorr,euclidianCorr)\n",
    "    "
   ]
  },
  {
   "cell_type": "code",
   "execution_count": 16,
   "metadata": {
    "scrolled": true
   },
   "outputs": [
    {
     "data": {
      "application/vnd.jupyter.widget-view+json": {
       "model_id": "152692bebba243c09ef61dde419337b4",
       "version_major": 2,
       "version_minor": 0
      },
      "text/plain": [
       "HBox(children=(IntProgress(value=0, max=247), HTML(value='')))"
      ]
     },
     "metadata": {},
     "output_type": "display_data"
    },
    {
     "name": "stdout",
     "output_type": "stream",
     "text": [
      "\n"
     ]
    },
    {
     "data": {
      "application/vnd.jupyter.widget-view+json": {
       "model_id": "c7d73562bfe54d8da1a46a33bc29dda9",
       "version_major": 2,
       "version_minor": 0
      },
      "text/plain": [
       "HBox(children=(IntProgress(value=0, max=247), HTML(value='')))"
      ]
     },
     "metadata": {},
     "output_type": "display_data"
    },
    {
     "name": "stdout",
     "output_type": "stream",
     "text": [
      "\n",
      "Cosine Correlation for MF is SpearmanrResult(correlation=-0.003388395942953067, pvalue=0.9578319925189998)\n",
      "Manhattan Correlation for MF is SpearmanrResult(correlation=0.21191641661108007, pvalue=0.0008230590682670462)\n",
      "Euclidian Correlation for MF is SpearmanrResult(correlation=0.16765164049227865, pvalue=0.00841880859270916)\n"
     ]
    },
    {
     "data": {
      "application/vnd.jupyter.widget-view+json": {
       "model_id": "4eb38ff65f064b0fbbec5d09554af262",
       "version_major": 2,
       "version_minor": 0
      },
      "text/plain": [
       "HBox(children=(IntProgress(value=0, max=247), HTML(value='')))"
      ]
     },
     "metadata": {},
     "output_type": "display_data"
    },
    {
     "name": "stdout",
     "output_type": "stream",
     "text": [
      "\n"
     ]
    },
    {
     "data": {
      "application/vnd.jupyter.widget-view+json": {
       "model_id": "09de455dd61d470290f9b25be97ab66b",
       "version_major": 2,
       "version_minor": 0
      },
      "text/plain": [
       "HBox(children=(IntProgress(value=0, max=247), HTML(value='')))"
      ]
     },
     "metadata": {},
     "output_type": "display_data"
    },
    {
     "name": "stdout",
     "output_type": "stream",
     "text": [
      "\n",
      "Cosine Correlation for BP is SpearmanrResult(correlation=0.21991912390065518, pvalue=0.0004986374345098746)\n",
      "Manhattan Correlation for BP is SpearmanrResult(correlation=0.24322794063777123, pvalue=0.00011274652475212616)\n",
      "Euclidian Correlation for BP is SpearmanrResult(correlation=0.27613820607319295, pvalue=1.0638855689866112e-05)\n"
     ]
    },
    {
     "data": {
      "application/vnd.jupyter.widget-view+json": {
       "model_id": "d761ec60172c49048d754459a77f41ea",
       "version_major": 2,
       "version_minor": 0
      },
      "text/plain": [
       "HBox(children=(IntProgress(value=0, max=245), HTML(value='')))"
      ]
     },
     "metadata": {},
     "output_type": "display_data"
    },
    {
     "name": "stdout",
     "output_type": "stream",
     "text": [
      "\n"
     ]
    },
    {
     "data": {
      "application/vnd.jupyter.widget-view+json": {
       "model_id": "7108b488592a4daf96ab174fd65661bc",
       "version_major": 2,
       "version_minor": 0
      },
      "text/plain": [
       "HBox(children=(IntProgress(value=0, max=245), HTML(value='')))"
      ]
     },
     "metadata": {},
     "output_type": "display_data"
    },
    {
     "name": "stdout",
     "output_type": "stream",
     "text": [
      "\n",
      "Cosine Correlation for CC is SpearmanrResult(correlation=0.07549714807954372, pvalue=0.23905385922775046)\n",
      "Manhattan Correlation for CC is SpearmanrResult(correlation=0.2815020930403349, pvalue=7.659529336041172e-06)\n",
      "Euclidian Correlation for CC is SpearmanrResult(correlation=0.22822707651633226, pvalue=0.0003161428767538099)\n"
     ]
    },
    {
     "data": {
      "application/vnd.jupyter.widget-view+json": {
       "model_id": "de2ac9ab24a64f9d95c7abc1079dab61",
       "version_major": 2,
       "version_minor": 0
      },
      "text/plain": [
       "HBox(children=(IntProgress(value=0, max=40000), HTML(value='')))"
      ]
     },
     "metadata": {},
     "output_type": "display_data"
    },
    {
     "name": "stdout",
     "output_type": "stream",
     "text": [
      "\n"
     ]
    },
    {
     "data": {
      "application/vnd.jupyter.widget-view+json": {
       "model_id": "3e269d92320341c3a7d92e030e487c31",
       "version_major": 2,
       "version_minor": 0
      },
      "text/plain": [
       "HBox(children=(IntProgress(value=0, max=19900), HTML(value='')))"
      ]
     },
     "metadata": {},
     "output_type": "display_data"
    },
    {
     "name": "stdout",
     "output_type": "stream",
     "text": [
      "\n",
      "Cosine Correlation for MF is SpearmanrResult(correlation=0.043015323877798974, pvalue=1.275232485371586e-09)\n",
      "Manhattan Correlation for MF is SpearmanrResult(correlation=0.09287451352473554, pvalue=2.2423839488099827e-39)\n",
      "Euclidian Correlation for MF is SpearmanrResult(correlation=0.07315745666738645, pvalue=4.980173593830242e-25)\n"
     ]
    },
    {
     "data": {
      "application/vnd.jupyter.widget-view+json": {
       "model_id": "fc0c126ab6264304bf972076b3143950",
       "version_major": 2,
       "version_minor": 0
      },
      "text/plain": [
       "HBox(children=(IntProgress(value=0, max=40000), HTML(value='')))"
      ]
     },
     "metadata": {},
     "output_type": "display_data"
    },
    {
     "name": "stdout",
     "output_type": "stream",
     "text": [
      "\n"
     ]
    },
    {
     "data": {
      "application/vnd.jupyter.widget-view+json": {
       "model_id": "71b6418647a04ba2b683acd31332ba76",
       "version_major": 2,
       "version_minor": 0
      },
      "text/plain": [
       "HBox(children=(IntProgress(value=0, max=19900), HTML(value='')))"
      ]
     },
     "metadata": {},
     "output_type": "display_data"
    },
    {
     "name": "stdout",
     "output_type": "stream",
     "text": [
      "\n",
      "Cosine Correlation for BP is SpearmanrResult(correlation=0.03596742242916577, pvalue=3.8718513219940197e-07)\n",
      "Manhattan Correlation for BP is SpearmanrResult(correlation=0.0676074547657732, pvalue=1.3282449969712167e-21)\n",
      "Euclidian Correlation for BP is SpearmanrResult(correlation=0.06990830039941925, pvalue=5.437903528423845e-23)\n"
     ]
    },
    {
     "data": {
      "application/vnd.jupyter.widget-view+json": {
       "model_id": "1eab8ec8f67443029ea139a22babe707",
       "version_major": 2,
       "version_minor": 0
      },
      "text/plain": [
       "HBox(children=(IntProgress(value=0, max=40000), HTML(value='')))"
      ]
     },
     "metadata": {},
     "output_type": "display_data"
    },
    {
     "name": "stdout",
     "output_type": "stream",
     "text": [
      "\n"
     ]
    },
    {
     "data": {
      "application/vnd.jupyter.widget-view+json": {
       "model_id": "70d53703edae4a05aa06e454f34d4a75",
       "version_major": 2,
       "version_minor": 0
      },
      "text/plain": [
       "HBox(children=(IntProgress(value=0, max=19900), HTML(value='')))"
      ]
     },
     "metadata": {},
     "output_type": "display_data"
    },
    {
     "name": "stdout",
     "output_type": "stream",
     "text": [
      "\n",
      "Cosine Correlation for CC is SpearmanrResult(correlation=0.09779876006600251, pvalue=1.715484930326001e-43)\n",
      "Manhattan Correlation for CC is SpearmanrResult(correlation=0.0574461580638046, pvalue=5.063387462384803e-16)\n",
      "Euclidian Correlation for CC is SpearmanrResult(correlation=0.07298831348470258, pvalue=6.391653357499576e-25)\n"
     ]
    },
    {
     "data": {
      "application/vnd.jupyter.widget-view+json": {
       "model_id": "31ce8e3e59b944a4a2b5af9a2249f7bc",
       "version_major": 2,
       "version_minor": 0
      },
      "text/plain": [
       "HBox(children=(IntProgress(value=0, max=247009), HTML(value='')))"
      ]
     },
     "metadata": {},
     "output_type": "display_data"
    },
    {
     "name": "stdout",
     "output_type": "stream",
     "text": [
      "\n"
     ]
    },
    {
     "data": {
      "application/vnd.jupyter.widget-view+json": {
       "model_id": "d65d1edd0948483b9618ec3334cda2fd",
       "version_major": 2,
       "version_minor": 0
      },
      "text/plain": [
       "HBox(children=(IntProgress(value=0, max=123256), HTML(value='')))"
      ]
     },
     "metadata": {},
     "output_type": "display_data"
    },
    {
     "name": "stdout",
     "output_type": "stream",
     "text": [
      "\n",
      "Cosine Correlation for MF is SpearmanrResult(correlation=0.043243022451628615, pvalue=4.205615511213269e-52)\n",
      "Manhattan Correlation for MF is SpearmanrResult(correlation=0.04637035651800273, pvalue=1.1965390039932603e-59)\n",
      "Euclidian Correlation for MF is SpearmanrResult(correlation=0.03506796457440112, pvalue=7.496808919314834e-35)\n"
     ]
    },
    {
     "data": {
      "application/vnd.jupyter.widget-view+json": {
       "model_id": "1d9294b114a340d69d78bdededcd6462",
       "version_major": 2,
       "version_minor": 0
      },
      "text/plain": [
       "HBox(children=(IntProgress(value=0, max=247009), HTML(value='')))"
      ]
     },
     "metadata": {},
     "output_type": "display_data"
    },
    {
     "name": "stdout",
     "output_type": "stream",
     "text": [
      "\n"
     ]
    },
    {
     "data": {
      "application/vnd.jupyter.widget-view+json": {
       "model_id": "63189b553f624ed9a705090711cc13bf",
       "version_major": 2,
       "version_minor": 0
      },
      "text/plain": [
       "HBox(children=(IntProgress(value=0, max=123256), HTML(value='')))"
      ]
     },
     "metadata": {},
     "output_type": "display_data"
    },
    {
     "name": "stdout",
     "output_type": "stream",
     "text": [
      "\n",
      "Cosine Correlation for BP is SpearmanrResult(correlation=0.01855687245858002, pvalue=7.249096711297943e-11)\n",
      "Manhattan Correlation for BP is SpearmanrResult(correlation=0.0453083211252954, pvalue=5.004152815275431e-57)\n",
      "Euclidian Correlation for BP is SpearmanrResult(correlation=0.04563678936500136, pvalue=7.853138555122174e-58)\n"
     ]
    },
    {
     "data": {
      "application/vnd.jupyter.widget-view+json": {
       "model_id": "145800c326804ab6ab739fb2ba409142",
       "version_major": 2,
       "version_minor": 0
      },
      "text/plain": [
       "HBox(children=(IntProgress(value=0, max=245025), HTML(value='')))"
      ]
     },
     "metadata": {},
     "output_type": "display_data"
    },
    {
     "name": "stdout",
     "output_type": "stream",
     "text": [
      "\n"
     ]
    },
    {
     "data": {
      "application/vnd.jupyter.widget-view+json": {
       "model_id": "8cdb53b1bdc1498c93965dae083ebb6f",
       "version_major": 2,
       "version_minor": 0
      },
      "text/plain": [
       "HBox(children=(IntProgress(value=0, max=122265), HTML(value='')))"
      ]
     },
     "metadata": {},
     "output_type": "display_data"
    },
    {
     "name": "stdout",
     "output_type": "stream",
     "text": [
      "\n",
      "Cosine Correlation for CC is SpearmanrResult(correlation=0.04768344174059898, pvalue=1.7568688338370676e-62)\n",
      "Manhattan Correlation for CC is SpearmanrResult(correlation=0.0393651568029345, pvalue=3.8739505895433425e-43)\n",
      "Euclidian Correlation for CC is SpearmanrResult(correlation=0.04689006995592237, pvalue=1.7720138674224546e-60)\n"
     ]
    },
    {
     "data": {
      "application/vnd.jupyter.widget-view+json": {
       "model_id": "891cabe54e9d434ab7a902ea538d466f",
       "version_major": 2,
       "version_minor": 0
      },
      "text/plain": [
       "HBox(children=(IntProgress(value=0, max=9467929), HTML(value='')))"
      ]
     },
     "metadata": {},
     "output_type": "display_data"
    },
    {
     "name": "stdout",
     "output_type": "stream",
     "text": [
      "\n"
     ]
    },
    {
     "data": {
      "application/vnd.jupyter.widget-view+json": {
       "model_id": "71cc9ff781c846cfb8a4ec5d3ac14acb",
       "version_major": 2,
       "version_minor": 0
      },
      "text/plain": [
       "HBox(children=(IntProgress(value=0, max=4732426), HTML(value='')))"
      ]
     },
     "metadata": {},
     "output_type": "display_data"
    },
    {
     "name": "stdout",
     "output_type": "stream",
     "text": [
      "\n",
      "Cosine Correlation for MF is SpearmanrResult(correlation=0.04719852506253455, pvalue=0.0)\n",
      "Manhattan Correlation for MF is SpearmanrResult(correlation=-0.0128362444544698, pvalue=1.3159712381639728e-171)\n",
      "Euclidian Correlation for MF is SpearmanrResult(correlation=-0.009299848411743023, pvalue=5.175585260637845e-91)\n"
     ]
    },
    {
     "data": {
      "application/vnd.jupyter.widget-view+json": {
       "model_id": "188509fb211f460aa424b48f2f718c47",
       "version_major": 2,
       "version_minor": 0
      },
      "text/plain": [
       "HBox(children=(IntProgress(value=0, max=37871716), HTML(value='')))"
      ]
     },
     "metadata": {},
     "output_type": "display_data"
    },
    {
     "name": "stdout",
     "output_type": "stream",
     "text": [
      "\n"
     ]
    },
    {
     "data": {
      "application/vnd.jupyter.widget-view+json": {
       "model_id": "8db7ce2662eb43628be42afc1886fb63",
       "version_major": 2,
       "version_minor": 0
      },
      "text/plain": [
       "HBox(children=(IntProgress(value=0, max=18932781), HTML(value='')))"
      ]
     },
     "metadata": {},
     "output_type": "display_data"
    },
    {
     "name": "stdout",
     "output_type": "stream",
     "text": [
      "\n",
      "Cosine Correlation for BP is SpearmanrResult(correlation=0.02514829518726819, pvalue=0.0)\n",
      "Manhattan Correlation for BP is SpearmanrResult(correlation=-0.001790633016345364, pvalue=6.762570160673659e-15)\n",
      "Euclidian Correlation for BP is SpearmanrResult(correlation=0.008741840160696235, pvalue=0.0)\n"
     ]
    },
    {
     "data": {
      "application/vnd.jupyter.widget-view+json": {
       "model_id": "a908d140a4b3494b8ca6549f7300b191",
       "version_major": 2,
       "version_minor": 0
      },
      "text/plain": [
       "HBox(children=(IntProgress(value=0, max=20529961), HTML(value='')))"
      ]
     },
     "metadata": {},
     "output_type": "display_data"
    },
    {
     "name": "stdout",
     "output_type": "stream",
     "text": [
      "\n"
     ]
    },
    {
     "data": {
      "application/vnd.jupyter.widget-view+json": {
       "model_id": "dd027dcd254a48848eba32db5ac067b8",
       "version_major": 2,
       "version_minor": 0
      },
      "text/plain": [
       "HBox(children=(IntProgress(value=0, max=10262715), HTML(value='')))"
      ]
     },
     "metadata": {},
     "output_type": "display_data"
    },
    {
     "name": "stdout",
     "output_type": "stream",
     "text": [
      "\n",
      "Cosine Correlation for CC is SpearmanrResult(correlation=0.04973499926885012, pvalue=0.0)\n",
      "Manhattan Correlation for CC is SpearmanrResult(correlation=0.021906435037225103, pvalue=0.0)\n",
      "Euclidian Correlation for CC is SpearmanrResult(correlation=0.03069548769339628, pvalue=0.0)\n"
     ]
    }
   ],
   "source": [
    "buffer = \"aspect,cosineCorr,cosineCorrPVal,manhattanCorr,manhattanCorrPVal,euclidianCorr,euclidianCorrPVal \\n\"\n",
    "\n",
    "for similarity_matrix_type in [\"Sparse\",\"200\",\"500\",\"All\"]:\n",
    "    saveFileName = \"SimilarityApaac_\"+similarity_matrix_type+\".csv\"\n",
    "    f = open(saveFileName,'w')\n",
    "    f.write(buffer)\n",
    "    for aspect in [\"MF\",\"BP\",\"CC\"]:\n",
    "        corr = calculateMSEforOntology(aspect,similarity_matrix_type) \n",
    "        buffer = \"\" + aspect + \",\"+ str(corr[0][0])+ \",\"+ str(corr[0][1])\\\n",
    "        + \",\"+ str(corr[1][0])+ \",\"+ str(corr[1][1])+ \",\"+ str(corr[2][0])+ \",\"+ str(corr[2][1])+\"\\n\" \n",
    "        f = open(saveFileName,'a')\n",
    "        f.write(buffer) #Give your csv text here.\n",
    "        ## Python will convert \\n to os.linesep\n",
    "        f.close()\n",
    "    \n",
    "# 0.3673674654105104 mse for MF with 0:10\n",
    "# 0.31965355246378196 mse for BP with 0:10\n",
    "# 0.29460915219361683 mse for CC with 0:10"
   ]
  },
  {
   "cell_type": "code",
   "execution_count": null,
   "metadata": {},
   "outputs": [],
   "source": []
  }
 ],
 "metadata": {
  "kernelspec": {
   "display_name": "Python 3",
   "language": "python",
   "name": "python3"
  },
  "language_info": {
   "codemirror_mode": {
    "name": "ipython",
    "version": 3
   },
   "file_extension": ".py",
   "mimetype": "text/x-python",
   "name": "python",
   "nbconvert_exporter": "python",
   "pygments_lexer": "ipython3",
   "version": "3.7.3"
  }
 },
 "nbformat": 4,
 "nbformat_minor": 2
}
