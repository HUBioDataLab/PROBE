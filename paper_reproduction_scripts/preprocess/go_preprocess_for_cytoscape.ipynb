{
 "cells": [
  {
   "cell_type": "code",
   "execution_count": 1,
   "metadata": {},
   "outputs": [],
   "source": [
    "import pandas as pd\n",
    "import numpy as np\n",
    "\n",
    "from goatools.base import download_ncbi_associations\n",
    "from goatools.associations import read_ncbi_gene2go\n",
    "import sys\n",
    "from goatools.associations import read_gaf\n",
    "from goatools.base import dnld_gaf"
   ]
  },
  {
   "cell_type": "code",
   "execution_count": 2,
   "metadata": {},
   "outputs": [],
   "source": [
    "save_path = \"/media/DATA/serbulent/DATA/Thesis/ReviewPaper/preprocess/go_related_data/\""
   ]
  },
  {
   "cell_type": "code",
   "execution_count": 3,
   "metadata": {},
   "outputs": [],
   "source": [
    "go_dataframe = pd.read_pickle(save_path + 'go_dataframe.pkl')"
   ]
  },
  {
   "cell_type": "code",
   "execution_count": 4,
   "metadata": {},
   "outputs": [
    {
     "data": {
      "text/html": [
       "<div>\n",
       "<style scoped>\n",
       "    .dataframe tbody tr th:only-of-type {\n",
       "        vertical-align: middle;\n",
       "    }\n",
       "\n",
       "    .dataframe tbody tr th {\n",
       "        vertical-align: top;\n",
       "    }\n",
       "\n",
       "    .dataframe thead th {\n",
       "        text-align: right;\n",
       "    }\n",
       "</style>\n",
       "<table border=\"1\" class=\"dataframe\">\n",
       "  <thead>\n",
       "    <tr style=\"text-align: right;\">\n",
       "      <th></th>\n",
       "      <th>GO_ID</th>\n",
       "      <th>Term_Level</th>\n",
       "      <th>Protein_Number</th>\n",
       "      <th>Number_Category</th>\n",
       "      <th>Term_Specificity</th>\n",
       "      <th>Aspect</th>\n",
       "    </tr>\n",
       "  </thead>\n",
       "  <tbody>\n",
       "    <tr>\n",
       "      <th>0</th>\n",
       "      <td>GO:1903494</td>\n",
       "      <td>4</td>\n",
       "      <td>1</td>\n",
       "      <td>insufficient</td>\n",
       "      <td>Shallow</td>\n",
       "      <td>biological_process</td>\n",
       "    </tr>\n",
       "    <tr>\n",
       "      <th>1</th>\n",
       "      <td>GO:0019166</td>\n",
       "      <td>5</td>\n",
       "      <td>6</td>\n",
       "      <td>Low</td>\n",
       "      <td>Normal</td>\n",
       "      <td>molecular_function</td>\n",
       "    </tr>\n",
       "    <tr>\n",
       "      <th>2</th>\n",
       "      <td>GO:0033273</td>\n",
       "      <td>4</td>\n",
       "      <td>18</td>\n",
       "      <td>Low</td>\n",
       "      <td>Shallow</td>\n",
       "      <td>biological_process</td>\n",
       "    </tr>\n",
       "    <tr>\n",
       "      <th>3</th>\n",
       "      <td>GO:0001079</td>\n",
       "      <td>5</td>\n",
       "      <td>1</td>\n",
       "      <td>insufficient</td>\n",
       "      <td>Normal</td>\n",
       "      <td>biological_process</td>\n",
       "    </tr>\n",
       "    <tr>\n",
       "      <th>4</th>\n",
       "      <td>GO:1900027</td>\n",
       "      <td>6</td>\n",
       "      <td>26</td>\n",
       "      <td>Low</td>\n",
       "      <td>Normal</td>\n",
       "      <td>biological_process</td>\n",
       "    </tr>\n",
       "    <tr>\n",
       "      <th>...</th>\n",
       "      <td>...</td>\n",
       "      <td>...</td>\n",
       "      <td>...</td>\n",
       "      <td>...</td>\n",
       "      <td>...</td>\n",
       "      <td>...</td>\n",
       "    </tr>\n",
       "    <tr>\n",
       "      <th>20359</th>\n",
       "      <td>GO:0009070</td>\n",
       "      <td>6</td>\n",
       "      <td>27</td>\n",
       "      <td>Low</td>\n",
       "      <td>Normal</td>\n",
       "      <td>biological_process</td>\n",
       "    </tr>\n",
       "    <tr>\n",
       "      <th>20360</th>\n",
       "      <td>GO:0001534</td>\n",
       "      <td>2</td>\n",
       "      <td>5</td>\n",
       "      <td>Low</td>\n",
       "      <td>Shallow</td>\n",
       "      <td>cellular_component</td>\n",
       "    </tr>\n",
       "    <tr>\n",
       "      <th>20361</th>\n",
       "      <td>GO:0071901</td>\n",
       "      <td>8</td>\n",
       "      <td>126</td>\n",
       "      <td>Middle</td>\n",
       "      <td>Specific</td>\n",
       "      <td>biological_process</td>\n",
       "    </tr>\n",
       "    <tr>\n",
       "      <th>20362</th>\n",
       "      <td>GO:0061317</td>\n",
       "      <td>7</td>\n",
       "      <td>2</td>\n",
       "      <td>insufficient</td>\n",
       "      <td>Normal</td>\n",
       "      <td>biological_process</td>\n",
       "    </tr>\n",
       "    <tr>\n",
       "      <th>20363</th>\n",
       "      <td>GO:0038113</td>\n",
       "      <td>5</td>\n",
       "      <td>9</td>\n",
       "      <td>Low</td>\n",
       "      <td>Normal</td>\n",
       "      <td>biological_process</td>\n",
       "    </tr>\n",
       "  </tbody>\n",
       "</table>\n",
       "<p>20364 rows × 6 columns</p>\n",
       "</div>"
      ],
      "text/plain": [
       "            GO_ID Term_Level Protein_Number Number_Category Term_Specificity  \\\n",
       "0      GO:1903494          4              1    insufficient          Shallow   \n",
       "1      GO:0019166          5              6             Low           Normal   \n",
       "2      GO:0033273          4             18             Low          Shallow   \n",
       "3      GO:0001079          5              1    insufficient           Normal   \n",
       "4      GO:1900027          6             26             Low           Normal   \n",
       "...           ...        ...            ...             ...              ...   \n",
       "20359  GO:0009070          6             27             Low           Normal   \n",
       "20360  GO:0001534          2              5             Low          Shallow   \n",
       "20361  GO:0071901          8            126          Middle         Specific   \n",
       "20362  GO:0061317          7              2    insufficient           Normal   \n",
       "20363  GO:0038113          5              9             Low           Normal   \n",
       "\n",
       "                   Aspect  \n",
       "0      biological_process  \n",
       "1      molecular_function  \n",
       "2      biological_process  \n",
       "3      biological_process  \n",
       "4      biological_process  \n",
       "...                   ...  \n",
       "20359  biological_process  \n",
       "20360  cellular_component  \n",
       "20361  biological_process  \n",
       "20362  biological_process  \n",
       "20363  biological_process  \n",
       "\n",
       "[20364 rows x 6 columns]"
      ]
     },
     "execution_count": 4,
     "metadata": {},
     "output_type": "execute_result"
    }
   ],
   "source": [
    "go_dataframe"
   ]
  },
  {
   "cell_type": "code",
   "execution_count": 5,
   "metadata": {},
   "outputs": [],
   "source": [
    "go_network = pd.read_csv(\"/media/DATA/serbulent/DATA/Thesis/ReviewPaper/preprocess/go_related_data/GO.cytoscape.sif\",sep=\"\\t\", header=None)"
   ]
  },
  {
   "cell_type": "code",
   "execution_count": 6,
   "metadata": {},
   "outputs": [],
   "source": [
    "go_network.columns  = [\"node1\",\"interaction\",\"node2\"]"
   ]
  },
  {
   "cell_type": "code",
   "execution_count": 7,
   "metadata": {},
   "outputs": [],
   "source": [
    "go_human_propagated_set = set(go_dataframe['GO_ID'])"
   ]
  },
  {
   "cell_type": "code",
   "execution_count": 8,
   "metadata": {},
   "outputs": [],
   "source": [
    "go_human_propagated_set_min_5 = set(go_dataframe[go_dataframe['Protein_Number'] >= 5]['GO_ID'])"
   ]
  },
  {
   "cell_type": "code",
   "execution_count": 9,
   "metadata": {},
   "outputs": [
    {
     "data": {
      "text/plain": [
       "{'disjoint_from:',\n",
       " 'ends_during',\n",
       " 'happens_during',\n",
       " 'has_part',\n",
       " 'is_a:',\n",
       " 'negatively_regulates',\n",
       " 'occurs_in',\n",
       " 'part_of',\n",
       " 'positively_regulates',\n",
       " 'property_value:',\n",
       " 'regulates'}"
      ]
     },
     "execution_count": 9,
     "metadata": {},
     "output_type": "execute_result"
    }
   ],
   "source": [
    "set(go_network['interaction'])"
   ]
  },
  {
   "cell_type": "code",
   "execution_count": 10,
   "metadata": {},
   "outputs": [],
   "source": [
    "go_network_interaction_filtered = go_network[(go_network['interaction'] =='is_a:') |  (go_network['interaction'] =='part_of:')]"
   ]
  },
  {
   "cell_type": "code",
   "execution_count": 11,
   "metadata": {},
   "outputs": [],
   "source": [
    "go_network_interaction_filtered_human = go_network_interaction_filtered\\\n",
    "[go_network_interaction_filtered['node1'].isin(go_human_propagated_set) & \\\n",
    " go_network_interaction_filtered['node2'].isin(go_human_propagated_set)]"
   ]
  },
  {
   "cell_type": "code",
   "execution_count": 12,
   "metadata": {},
   "outputs": [
    {
     "data": {
      "text/html": [
       "<div>\n",
       "<style scoped>\n",
       "    .dataframe tbody tr th:only-of-type {\n",
       "        vertical-align: middle;\n",
       "    }\n",
       "\n",
       "    .dataframe tbody tr th {\n",
       "        vertical-align: top;\n",
       "    }\n",
       "\n",
       "    .dataframe thead th {\n",
       "        text-align: right;\n",
       "    }\n",
       "</style>\n",
       "<table border=\"1\" class=\"dataframe\">\n",
       "  <thead>\n",
       "    <tr style=\"text-align: right;\">\n",
       "      <th></th>\n",
       "      <th>node1</th>\n",
       "      <th>interaction</th>\n",
       "      <th>node2</th>\n",
       "    </tr>\n",
       "  </thead>\n",
       "  <tbody>\n",
       "    <tr>\n",
       "      <th>2</th>\n",
       "      <td>GO:0000002</td>\n",
       "      <td>is_a:</td>\n",
       "      <td>GO:0007005</td>\n",
       "    </tr>\n",
       "    <tr>\n",
       "      <th>3</th>\n",
       "      <td>GO:0000003</td>\n",
       "      <td>is_a:</td>\n",
       "      <td>GO:0008150</td>\n",
       "    </tr>\n",
       "    <tr>\n",
       "      <th>8</th>\n",
       "      <td>GO:0000010</td>\n",
       "      <td>is_a:</td>\n",
       "      <td>GO:0016765</td>\n",
       "    </tr>\n",
       "    <tr>\n",
       "      <th>11</th>\n",
       "      <td>GO:0000012</td>\n",
       "      <td>is_a:</td>\n",
       "      <td>GO:0006281</td>\n",
       "    </tr>\n",
       "    <tr>\n",
       "      <th>12</th>\n",
       "      <td>GO:0000014</td>\n",
       "      <td>is_a:</td>\n",
       "      <td>GO:0004520</td>\n",
       "    </tr>\n",
       "    <tr>\n",
       "      <th>...</th>\n",
       "      <td>...</td>\n",
       "      <td>...</td>\n",
       "      <td>...</td>\n",
       "    </tr>\n",
       "    <tr>\n",
       "      <th>94525</th>\n",
       "      <td>GO:2001306</td>\n",
       "      <td>is_a:</td>\n",
       "      <td>GO:1901617</td>\n",
       "    </tr>\n",
       "    <tr>\n",
       "      <th>94526</th>\n",
       "      <td>GO:2001306</td>\n",
       "      <td>is_a:</td>\n",
       "      <td>GO:2001301</td>\n",
       "    </tr>\n",
       "    <tr>\n",
       "      <th>94527</th>\n",
       "      <td>GO:2001306</td>\n",
       "      <td>is_a:</td>\n",
       "      <td>GO:2001304</td>\n",
       "    </tr>\n",
       "    <tr>\n",
       "      <th>94554</th>\n",
       "      <td>GO:2001311</td>\n",
       "      <td>is_a:</td>\n",
       "      <td>GO:0006650</td>\n",
       "    </tr>\n",
       "    <tr>\n",
       "      <th>94555</th>\n",
       "      <td>GO:2001311</td>\n",
       "      <td>is_a:</td>\n",
       "      <td>GO:0052646</td>\n",
       "    </tr>\n",
       "  </tbody>\n",
       "</table>\n",
       "<p>34285 rows × 3 columns</p>\n",
       "</div>"
      ],
      "text/plain": [
       "            node1 interaction       node2\n",
       "2      GO:0000002       is_a:  GO:0007005\n",
       "3      GO:0000003       is_a:  GO:0008150\n",
       "8      GO:0000010       is_a:  GO:0016765\n",
       "11     GO:0000012       is_a:  GO:0006281\n",
       "12     GO:0000014       is_a:  GO:0004520\n",
       "...           ...         ...         ...\n",
       "94525  GO:2001306       is_a:  GO:1901617\n",
       "94526  GO:2001306       is_a:  GO:2001301\n",
       "94527  GO:2001306       is_a:  GO:2001304\n",
       "94554  GO:2001311       is_a:  GO:0006650\n",
       "94555  GO:2001311       is_a:  GO:0052646\n",
       "\n",
       "[34285 rows x 3 columns]"
      ]
     },
     "execution_count": 12,
     "metadata": {},
     "output_type": "execute_result"
    }
   ],
   "source": [
    "go_network_interaction_filtered_human"
   ]
  },
  {
   "cell_type": "code",
   "execution_count": 13,
   "metadata": {},
   "outputs": [],
   "source": [
    "go_network_interaction_filtered_human.to_csv(save_path + \"go_network_interaction_filtered_human.sif\",sep=\"\\t\",header=False, index=False)"
   ]
  },
  {
   "cell_type": "code",
   "execution_count": 14,
   "metadata": {},
   "outputs": [],
   "source": [
    "go_network_interaction_filtered_human_min_5 = go_network_interaction_filtered\\\n",
    "[go_network_interaction_filtered['node1'].isin(go_human_propagated_set_min_5) & \\\n",
    " go_network_interaction_filtered['node2'].isin(go_human_propagated_set_min_5)]"
   ]
  },
  {
   "cell_type": "code",
   "execution_count": 15,
   "metadata": {},
   "outputs": [
    {
     "data": {
      "text/html": [
       "<div>\n",
       "<style scoped>\n",
       "    .dataframe tbody tr th:only-of-type {\n",
       "        vertical-align: middle;\n",
       "    }\n",
       "\n",
       "    .dataframe tbody tr th {\n",
       "        vertical-align: top;\n",
       "    }\n",
       "\n",
       "    .dataframe thead th {\n",
       "        text-align: right;\n",
       "    }\n",
       "</style>\n",
       "<table border=\"1\" class=\"dataframe\">\n",
       "  <thead>\n",
       "    <tr style=\"text-align: right;\">\n",
       "      <th></th>\n",
       "      <th>node1</th>\n",
       "      <th>interaction</th>\n",
       "      <th>node2</th>\n",
       "    </tr>\n",
       "  </thead>\n",
       "  <tbody>\n",
       "    <tr>\n",
       "      <th>2</th>\n",
       "      <td>GO:0000002</td>\n",
       "      <td>is_a:</td>\n",
       "      <td>GO:0007005</td>\n",
       "    </tr>\n",
       "    <tr>\n",
       "      <th>3</th>\n",
       "      <td>GO:0000003</td>\n",
       "      <td>is_a:</td>\n",
       "      <td>GO:0008150</td>\n",
       "    </tr>\n",
       "    <tr>\n",
       "      <th>11</th>\n",
       "      <td>GO:0000012</td>\n",
       "      <td>is_a:</td>\n",
       "      <td>GO:0006281</td>\n",
       "    </tr>\n",
       "    <tr>\n",
       "      <th>12</th>\n",
       "      <td>GO:0000014</td>\n",
       "      <td>is_a:</td>\n",
       "      <td>GO:0004520</td>\n",
       "    </tr>\n",
       "    <tr>\n",
       "      <th>17</th>\n",
       "      <td>GO:0000018</td>\n",
       "      <td>is_a:</td>\n",
       "      <td>GO:0051052</td>\n",
       "    </tr>\n",
       "    <tr>\n",
       "      <th>...</th>\n",
       "      <td>...</td>\n",
       "      <td>...</td>\n",
       "      <td>...</td>\n",
       "    </tr>\n",
       "    <tr>\n",
       "      <th>94506</th>\n",
       "      <td>GO:2001300</td>\n",
       "      <td>is_a:</td>\n",
       "      <td>GO:0006690</td>\n",
       "    </tr>\n",
       "    <tr>\n",
       "      <th>94507</th>\n",
       "      <td>GO:2001300</td>\n",
       "      <td>is_a:</td>\n",
       "      <td>GO:0033559</td>\n",
       "    </tr>\n",
       "    <tr>\n",
       "      <th>94508</th>\n",
       "      <td>GO:2001301</td>\n",
       "      <td>is_a:</td>\n",
       "      <td>GO:0006636</td>\n",
       "    </tr>\n",
       "    <tr>\n",
       "      <th>94509</th>\n",
       "      <td>GO:2001301</td>\n",
       "      <td>is_a:</td>\n",
       "      <td>GO:0046456</td>\n",
       "    </tr>\n",
       "    <tr>\n",
       "      <th>94510</th>\n",
       "      <td>GO:2001301</td>\n",
       "      <td>is_a:</td>\n",
       "      <td>GO:2001300</td>\n",
       "    </tr>\n",
       "  </tbody>\n",
       "</table>\n",
       "<p>18976 rows × 3 columns</p>\n",
       "</div>"
      ],
      "text/plain": [
       "            node1 interaction       node2\n",
       "2      GO:0000002       is_a:  GO:0007005\n",
       "3      GO:0000003       is_a:  GO:0008150\n",
       "11     GO:0000012       is_a:  GO:0006281\n",
       "12     GO:0000014       is_a:  GO:0004520\n",
       "17     GO:0000018       is_a:  GO:0051052\n",
       "...           ...         ...         ...\n",
       "94506  GO:2001300       is_a:  GO:0006690\n",
       "94507  GO:2001300       is_a:  GO:0033559\n",
       "94508  GO:2001301       is_a:  GO:0006636\n",
       "94509  GO:2001301       is_a:  GO:0046456\n",
       "94510  GO:2001301       is_a:  GO:2001300\n",
       "\n",
       "[18976 rows x 3 columns]"
      ]
     },
     "execution_count": 15,
     "metadata": {},
     "output_type": "execute_result"
    }
   ],
   "source": [
    "go_network_interaction_filtered_human_min_5"
   ]
  },
  {
   "cell_type": "code",
   "execution_count": 16,
   "metadata": {},
   "outputs": [],
   "source": [
    "go_network_interaction_filtered_human_min_5.to_csv(save_path + \"go_network_interaction_filtered_human_min_5.sif\",sep=\"\\t\",header=False, index=False)"
   ]
  },
  {
   "cell_type": "code",
   "execution_count": 17,
   "metadata": {},
   "outputs": [],
   "source": [
    "go_number_df = go_dataframe[['GO_ID', 'Protein_Number']]"
   ]
  },
  {
   "cell_type": "code",
   "execution_count": 18,
   "metadata": {},
   "outputs": [
    {
     "name": "stderr",
     "output_type": "stream",
     "text": [
      "/media/DATA/serbulent/anaconda3/envs/embedding_similarity/lib/python3.7/site-packages/ipykernel_launcher.py:1: SettingWithCopyWarning: \n",
      "A value is trying to be set on a copy of a slice from a DataFrame.\n",
      "Try using .loc[row_indexer,col_indexer] = value instead\n",
      "\n",
      "See the caveats in the documentation: https://pandas.pydata.org/pandas-docs/stable/user_guide/indexing.html#returning-a-view-versus-a-copy\n",
      "  \"\"\"Entry point for launching an IPython kernel.\n"
     ]
    }
   ],
   "source": [
    "go_number_df['protein_number_log2'] = np.log2(list(go_dataframe['Protein_Number'])) * 40"
   ]
  },
  {
   "cell_type": "code",
   "execution_count": 19,
   "metadata": {},
   "outputs": [
    {
     "name": "stderr",
     "output_type": "stream",
     "text": [
      "/media/DATA/serbulent/anaconda3/envs/embedding_similarity/lib/python3.7/site-packages/ipykernel_launcher.py:1: SettingWithCopyWarning: \n",
      "A value is trying to be set on a copy of a slice from a DataFrame.\n",
      "Try using .loc[row_indexer,col_indexer] = value instead\n",
      "\n",
      "See the caveats in the documentation: https://pandas.pydata.org/pandas-docs/stable/user_guide/indexing.html#returning-a-view-versus-a-copy\n",
      "  \"\"\"Entry point for launching an IPython kernel.\n"
     ]
    }
   ],
   "source": [
    "go_number_df['protein_number_log10'] = np.log10(list(go_dataframe['Protein_Number'])) * 40"
   ]
  },
  {
   "cell_type": "code",
   "execution_count": 20,
   "metadata": {},
   "outputs": [],
   "source": [
    "dissimilar_terms_dataframe_save_path = save_path + 'dissimilar_terms_dataframe.pkl'\n",
    "dissimilar_terms_dataframe = pd.read_pickle(dissimilar_terms_dataframe_save_path)"
   ]
  },
  {
   "cell_type": "code",
   "execution_count": 21,
   "metadata": {},
   "outputs": [],
   "source": [
    "pfp_check_list = list(go_number_df['GO_ID'].isin(dissimilar_terms_dataframe['GO_ID']))"
   ]
  },
  {
   "cell_type": "code",
   "execution_count": 22,
   "metadata": {},
   "outputs": [
    {
     "name": "stderr",
     "output_type": "stream",
     "text": [
      "/media/DATA/serbulent/anaconda3/envs/embedding_similarity/lib/python3.7/site-packages/ipykernel_launcher.py:1: SettingWithCopyWarning: \n",
      "A value is trying to be set on a copy of a slice from a DataFrame.\n",
      "Try using .loc[row_indexer,col_indexer] = value instead\n",
      "\n",
      "See the caveats in the documentation: https://pandas.pydata.org/pandas-docs/stable/user_guide/indexing.html#returning-a-view-versus-a-copy\n",
      "  \"\"\"Entry point for launching an IPython kernel.\n"
     ]
    }
   ],
   "source": [
    "go_number_df['in_benchmark'] = [\"PFP\" if pfp else False for pfp in pfp_check_list]"
   ]
  },
  {
   "cell_type": "code",
   "execution_count": 23,
   "metadata": {},
   "outputs": [
    {
     "data": {
      "text/html": [
       "<div>\n",
       "<style scoped>\n",
       "    .dataframe tbody tr th:only-of-type {\n",
       "        vertical-align: middle;\n",
       "    }\n",
       "\n",
       "    .dataframe tbody tr th {\n",
       "        vertical-align: top;\n",
       "    }\n",
       "\n",
       "    .dataframe thead th {\n",
       "        text-align: right;\n",
       "    }\n",
       "</style>\n",
       "<table border=\"1\" class=\"dataframe\">\n",
       "  <thead>\n",
       "    <tr style=\"text-align: right;\">\n",
       "      <th></th>\n",
       "      <th>GO_ID</th>\n",
       "      <th>Protein_Number</th>\n",
       "      <th>protein_number_log2</th>\n",
       "      <th>protein_number_log10</th>\n",
       "      <th>in_benchmark</th>\n",
       "    </tr>\n",
       "  </thead>\n",
       "  <tbody>\n",
       "    <tr>\n",
       "      <th>0</th>\n",
       "      <td>GO:1903494</td>\n",
       "      <td>1</td>\n",
       "      <td>0.000000</td>\n",
       "      <td>0.000000</td>\n",
       "      <td>False</td>\n",
       "    </tr>\n",
       "    <tr>\n",
       "      <th>1</th>\n",
       "      <td>GO:0019166</td>\n",
       "      <td>6</td>\n",
       "      <td>103.398500</td>\n",
       "      <td>31.126050</td>\n",
       "      <td>False</td>\n",
       "    </tr>\n",
       "    <tr>\n",
       "      <th>2</th>\n",
       "      <td>GO:0033273</td>\n",
       "      <td>18</td>\n",
       "      <td>166.797000</td>\n",
       "      <td>50.210900</td>\n",
       "      <td>False</td>\n",
       "    </tr>\n",
       "    <tr>\n",
       "      <th>3</th>\n",
       "      <td>GO:0001079</td>\n",
       "      <td>1</td>\n",
       "      <td>0.000000</td>\n",
       "      <td>0.000000</td>\n",
       "      <td>False</td>\n",
       "    </tr>\n",
       "    <tr>\n",
       "      <th>4</th>\n",
       "      <td>GO:1900027</td>\n",
       "      <td>26</td>\n",
       "      <td>188.017589</td>\n",
       "      <td>56.598934</td>\n",
       "      <td>False</td>\n",
       "    </tr>\n",
       "    <tr>\n",
       "      <th>...</th>\n",
       "      <td>...</td>\n",
       "      <td>...</td>\n",
       "      <td>...</td>\n",
       "      <td>...</td>\n",
       "      <td>...</td>\n",
       "    </tr>\n",
       "    <tr>\n",
       "      <th>20359</th>\n",
       "      <td>GO:0009070</td>\n",
       "      <td>27</td>\n",
       "      <td>190.195500</td>\n",
       "      <td>57.254551</td>\n",
       "      <td>False</td>\n",
       "    </tr>\n",
       "    <tr>\n",
       "      <th>20360</th>\n",
       "      <td>GO:0001534</td>\n",
       "      <td>5</td>\n",
       "      <td>92.877124</td>\n",
       "      <td>27.958800</td>\n",
       "      <td>False</td>\n",
       "    </tr>\n",
       "    <tr>\n",
       "      <th>20361</th>\n",
       "      <td>GO:0071901</td>\n",
       "      <td>126</td>\n",
       "      <td>279.091197</td>\n",
       "      <td>84.014822</td>\n",
       "      <td>False</td>\n",
       "    </tr>\n",
       "    <tr>\n",
       "      <th>20362</th>\n",
       "      <td>GO:0061317</td>\n",
       "      <td>2</td>\n",
       "      <td>40.000000</td>\n",
       "      <td>12.041200</td>\n",
       "      <td>False</td>\n",
       "    </tr>\n",
       "    <tr>\n",
       "      <th>20363</th>\n",
       "      <td>GO:0038113</td>\n",
       "      <td>9</td>\n",
       "      <td>126.797000</td>\n",
       "      <td>38.169700</td>\n",
       "      <td>False</td>\n",
       "    </tr>\n",
       "  </tbody>\n",
       "</table>\n",
       "<p>20364 rows × 5 columns</p>\n",
       "</div>"
      ],
      "text/plain": [
       "            GO_ID Protein_Number  protein_number_log2  protein_number_log10  \\\n",
       "0      GO:1903494              1             0.000000              0.000000   \n",
       "1      GO:0019166              6           103.398500             31.126050   \n",
       "2      GO:0033273             18           166.797000             50.210900   \n",
       "3      GO:0001079              1             0.000000              0.000000   \n",
       "4      GO:1900027             26           188.017589             56.598934   \n",
       "...           ...            ...                  ...                   ...   \n",
       "20359  GO:0009070             27           190.195500             57.254551   \n",
       "20360  GO:0001534              5            92.877124             27.958800   \n",
       "20361  GO:0071901            126           279.091197             84.014822   \n",
       "20362  GO:0061317              2            40.000000             12.041200   \n",
       "20363  GO:0038113              9           126.797000             38.169700   \n",
       "\n",
       "      in_benchmark  \n",
       "0            False  \n",
       "1            False  \n",
       "2            False  \n",
       "3            False  \n",
       "4            False  \n",
       "...            ...  \n",
       "20359        False  \n",
       "20360        False  \n",
       "20361        False  \n",
       "20362        False  \n",
       "20363        False  \n",
       "\n",
       "[20364 rows x 5 columns]"
      ]
     },
     "execution_count": 23,
     "metadata": {},
     "output_type": "execute_result"
    }
   ],
   "source": [
    "go_number_df"
   ]
  },
  {
   "cell_type": "markdown",
   "metadata": {},
   "source": [
    "# Add Protein Semantic Similarity Task GO Terms"
   ]
  },
  {
   "cell_type": "code",
   "execution_count": 24,
   "metadata": {},
   "outputs": [],
   "source": [
    "uniprot_metadata_directory = \"/media/DATA/serbulent/DATA/Thesis/ReviewPaper/Uniprot/\"\n",
    "uniprot_metadata_file_path = uniprot_metadata_directory + \"uniprot_human_all.tab\"\n",
    "uniprot_vars = ['Entry','Entry name','Status','Protein names','Gene names','Organism','Length','Annotation' ]\n",
    "uniprot_df = pd.read_csv(uniprot_metadata_file_path, sep='\\t', header=None, names=uniprot_vars)\n",
    "human_proteins = set(uniprot_df['Entry'])"
   ]
  },
  {
   "cell_type": "code",
   "execution_count": 25,
   "metadata": {},
   "outputs": [],
   "source": [
    "sim_matrix_500_MF = \"/media/DATA/serbulent/DATA/Thesis/ReviewPaper/preprocess/semantic_similarity_preprocess_results/human_MF_proteinSimilarityMatrix_for_highest_annotated_500_proteins.csv\"\n",
    "sim_matrix_500_BP = \"/media/DATA/serbulent/DATA/Thesis/ReviewPaper/preprocess/semantic_similarity_preprocess_results/human_BP_proteinSimilarityMatrix_for_highest_annotated_500_proteins.csv\"\n",
    "sim_matrix_500_CC = \"/media/DATA/serbulent/DATA/Thesis/ReviewPaper/preprocess/semantic_similarity_preprocess_results/human_CC_proteinSimilarityMatrix_for_highest_annotated_500_proteins.csv\"\n",
    "\n",
    "human_proteinSimilarityMatrix_MF = pd.read_csv(sim_matrix_500_MF)\n",
    "human_proteinSimilarityMatrix_BP = pd.read_csv(sim_matrix_500_BP)\n",
    "human_proteinSimilarityMatrix_CC = pd.read_csv(sim_matrix_500_CC)\n",
    "\n",
    "sim_MF_list = list(human_proteinSimilarityMatrix_MF.columns)\n",
    "sim_BP_list = list(human_proteinSimilarityMatrix_BP.columns)\n",
    "sim_CC_list = list(human_proteinSimilarityMatrix_CC.columns)\n",
    "\n",
    "sim_protein_list = sim_MF_list + sim_BP_list + sim_CC_list"
   ]
  },
  {
   "cell_type": "code",
   "execution_count": 26,
   "metadata": {},
   "outputs": [
    {
     "data": {
      "text/plain": [
       "1123"
      ]
     },
     "execution_count": 26,
     "metadata": {},
     "output_type": "execute_result"
    }
   ],
   "source": [
    "len(set(sim_protein_list))"
   ]
  },
  {
   "cell_type": "code",
   "execution_count": 27,
   "metadata": {},
   "outputs": [
    {
     "name": "stdout",
     "output_type": "stream",
     "text": [
      "HMS:0:00:07.265092 482,898 annotations READ: /media/DATA/serbulent/DATA/Thesis/ReviewPaper/preprocess/semantic_similarity_preprocess_inputs/goa_human.gaf \n",
      "15493 IDs in loaded association branch, MF\n",
      "HMS:0:00:07.189001 482,898 annotations READ: /media/DATA/serbulent/DATA/Thesis/ReviewPaper/preprocess/semantic_similarity_preprocess_inputs/goa_human.gaf \n",
      "15198 IDs in loaded association branch, BP\n",
      "HMS:0:00:06.559537 482,898 annotations READ: /media/DATA/serbulent/DATA/Thesis/ReviewPaper/preprocess/semantic_similarity_preprocess_inputs/goa_human.gaf \n",
      "16254 IDs in loaded association branch, CC\n"
     ]
    }
   ],
   "source": [
    "fin_gaf = \"/media/DATA/serbulent/DATA/Thesis/ReviewPaper/preprocess/semantic_similarity_preprocess_inputs/goa_human.gaf\"\n",
    "\n",
    "geneid2gos_human_MF = read_gaf(fin_gaf,namespace='MF', ev_exclude={'IEA'})\n",
    "geneid2gos_human_BP = read_gaf(fin_gaf,namespace='BP', ev_exclude={'IEA'})\n",
    "geneid2gos_human_CC = read_gaf(fin_gaf,namespace='CC', ev_exclude={'IEA'})"
   ]
  },
  {
   "cell_type": "code",
   "execution_count": 28,
   "metadata": {},
   "outputs": [],
   "source": [
    "go_mf_set = set()\n",
    "for protein_id in sim_MF_list:\n",
    "    go_mf_set.update(geneid2gos_human_MF.get(protein_id))\n",
    "\n",
    "go_bp_set = set()\n",
    "for protein_id in sim_BP_list:\n",
    "    go_bp_set.update(geneid2gos_human_BP.get(protein_id))\n",
    "    \n",
    "go_cc_set = set()\n",
    "for protein_id in sim_CC_list:\n",
    "    go_cc_set.update(geneid2gos_human_CC.get(protein_id))\n",
    "    \n",
    "go_all_set = set()\n",
    "go_all_set.update(go_mf_set)\n",
    "go_all_set.update(go_bp_set)\n",
    "go_all_set.update(go_cc_set)"
   ]
  },
  {
   "cell_type": "code",
   "execution_count": 29,
   "metadata": {},
   "outputs": [
    {
     "data": {
      "text/plain": [
       "7398"
      ]
     },
     "execution_count": 29,
     "metadata": {},
     "output_type": "execute_result"
    }
   ],
   "source": [
    "len(go_all_set)"
   ]
  },
  {
   "cell_type": "code",
   "execution_count": 30,
   "metadata": {},
   "outputs": [],
   "source": [
    "sim_check_list = list(go_number_df['GO_ID'].isin(go_all_set))"
   ]
  },
  {
   "cell_type": "code",
   "execution_count": 31,
   "metadata": {},
   "outputs": [],
   "source": [
    "in_benchmark_list = list(go_number_df['in_benchmark'])\n",
    "i = 0\n",
    "for sim in sim_check_list:\n",
    "    if sim:\n",
    "        in_benchmark_list[i] = \"SSM\"\n",
    "    i+=1\n",
    "go_number_df['in_benchmark'] = in_benchmark_list"
   ]
  },
  {
   "cell_type": "code",
   "execution_count": 35,
   "metadata": {},
   "outputs": [
    {
     "data": {
      "text/plain": [
       "20364"
      ]
     },
     "execution_count": 35,
     "metadata": {},
     "output_type": "execute_result"
    }
   ],
   "source": [
    "len(pfp_check_list)"
   ]
  },
  {
   "cell_type": "code",
   "execution_count": 40,
   "metadata": {},
   "outputs": [
    {
     "name": "stdout",
     "output_type": "stream",
     "text": [
      "117\n"
     ]
    },
    {
     "name": "stderr",
     "output_type": "stream",
     "text": [
      "/media/DATA/serbulent/anaconda3/envs/embedding_similarity/lib/python3.7/site-packages/ipykernel_launcher.py:11: SettingWithCopyWarning: \n",
      "A value is trying to be set on a copy of a slice from a DataFrame.\n",
      "Try using .loc[row_indexer,col_indexer] = value instead\n",
      "\n",
      "See the caveats in the documentation: https://pandas.pydata.org/pandas-docs/stable/user_guide/indexing.html#returning-a-view-versus-a-copy\n",
      "  # This is added back by InteractiveShellApp.init_path()\n"
     ]
    }
   ],
   "source": [
    "# PFP should overrride others\n",
    "in_benchmark_list = list(go_number_df['in_benchmark'])\n",
    "i = 0\n",
    "for sim in pfp_check_list:\n",
    "    if sim:\n",
    "        in_benchmark_list[i] = \"PFP\"\n",
    "    i+=1\n",
    "go_number_df['in_benchmark'] = in_benchmark_list"
   ]
  },
  {
   "cell_type": "code",
   "execution_count": 41,
   "metadata": {},
   "outputs": [],
   "source": [
    "go_number_df.to_csv(save_path + \"go_annotation_numbers.tsv\",sep=\"\\t\",index=False)"
   ]
  },
  {
   "cell_type": "code",
   "execution_count": 42,
   "metadata": {},
   "outputs": [
    {
     "data": {
      "text/plain": [
       "117"
      ]
     },
     "execution_count": 42,
     "metadata": {},
     "output_type": "execute_result"
    }
   ],
   "source": []
  },
  {
   "cell_type": "code",
   "execution_count": null,
   "metadata": {},
   "outputs": [],
   "source": []
  }
 ],
 "metadata": {
  "kernelspec": {
   "display_name": "Python [conda env:embedding_similarity]",
   "language": "python",
   "name": "conda-env-embedding_similarity-py"
  },
  "language_info": {
   "codemirror_mode": {
    "name": "ipython",
    "version": 3
   },
   "file_extension": ".py",
   "mimetype": "text/x-python",
   "name": "python",
   "nbconvert_exporter": "python",
   "pygments_lexer": "ipython3",
   "version": "3.7.3"
  }
 },
 "nbformat": 4,
 "nbformat_minor": 2
}
